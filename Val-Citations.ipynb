{
 "cells": [
  {
   "cell_type": "markdown",
   "metadata": {},
   "source": [
    "# Metric #2 Number of Citations Per Neighborhood"
   ]
  },
  {
   "cell_type": "markdown",
   "metadata": {},
   "source": [
    "**Analyzed by Valerie Schaible**"
   ]
  },
  {
   "cell_type": "markdown",
   "metadata": {},
   "source": [
    "Citations in Pittsburgh are low level crimes, including harrasment, disorderly conduct, and more, in which law enforcement opts to issue a citation or fine instead of arresting the perpetartor. This datasets contains all the non-traffic citations in Pittsburgh. We are including these citations as a metric because even though they are not on the same level as the police incidents, they can definitely contribute to a lack of personal saefty in any given neighborhood."
   ]
  },
  {
   "cell_type": "code",
   "execution_count": 1,
   "metadata": {},
   "outputs": [
    {
     "data": {
      "text/html": [
       "<div>\n",
       "<style scoped>\n",
       "    .dataframe tbody tr th:only-of-type {\n",
       "        vertical-align: middle;\n",
       "    }\n",
       "\n",
       "    .dataframe tbody tr th {\n",
       "        vertical-align: top;\n",
       "    }\n",
       "\n",
       "    .dataframe thead th {\n",
       "        text-align: right;\n",
       "    }\n",
       "</style>\n",
       "<table border=\"1\" class=\"dataframe\">\n",
       "  <thead>\n",
       "    <tr style=\"text-align: right;\">\n",
       "      <th></th>\n",
       "      <th>PK</th>\n",
       "      <th>CCR</th>\n",
       "      <th>GENDER</th>\n",
       "      <th>RACE</th>\n",
       "      <th>AGE</th>\n",
       "      <th>CITEDTIME</th>\n",
       "      <th>INCIDENTLOCATION</th>\n",
       "      <th>OFFENSES</th>\n",
       "      <th>NEIGHBORHOOD</th>\n",
       "      <th>ZONE</th>\n",
       "      <th>INCIDENTTRACT</th>\n",
       "      <th>COUNCIL_DISTRICT</th>\n",
       "      <th>PUBLIC_WORKS_DIVISION</th>\n",
       "      <th>X</th>\n",
       "      <th>Y</th>\n",
       "      <th>geometry</th>\n",
       "    </tr>\n",
       "  </thead>\n",
       "  <tbody>\n",
       "    <tr>\n",
       "      <th>0</th>\n",
       "      <td>1078081</td>\n",
       "      <td>16157849</td>\n",
       "      <td>M</td>\n",
       "      <td>B</td>\n",
       "      <td>29</td>\n",
       "      <td>2016-08-22T23:45:00</td>\n",
       "      <td>200 Block N DITHRIDGE ST PITTSBURGH, PA</td>\n",
       "      <td>5503(a)(2) DISORDERLY CONDUCT - UNREASONABLE N...</td>\n",
       "      <td>North Oakland</td>\n",
       "      <td>4</td>\n",
       "      <td>507</td>\n",
       "      <td>8</td>\n",
       "      <td>3</td>\n",
       "      <td>-79.95169208</td>\n",
       "      <td>40.44931132</td>\n",
       "      <td>None</td>\n",
       "    </tr>\n",
       "    <tr>\n",
       "      <th>1</th>\n",
       "      <td>1078082</td>\n",
       "      <td>16157849</td>\n",
       "      <td>M</td>\n",
       "      <td>W</td>\n",
       "      <td>21</td>\n",
       "      <td>2016-08-22T23:45:00</td>\n",
       "      <td>200 Block N DITHRIDGE ST PITTSBURGH, PA</td>\n",
       "      <td>5503(a)(2) DISORDERLY CONDUCT - UNREASONABLE N...</td>\n",
       "      <td>North Oakland</td>\n",
       "      <td>4</td>\n",
       "      <td>507</td>\n",
       "      <td>8</td>\n",
       "      <td>3</td>\n",
       "      <td>-79.95169208</td>\n",
       "      <td>40.44931132</td>\n",
       "      <td>None</td>\n",
       "    </tr>\n",
       "    <tr>\n",
       "      <th>2</th>\n",
       "      <td>1078083</td>\n",
       "      <td>16159579</td>\n",
       "      <td></td>\n",
       "      <td></td>\n",
       "      <td></td>\n",
       "      <td>2016-08-25T11:10:00</td>\n",
       "      <td>NORTH PARK PITTSBURGH, PA</td>\n",
       "      <td>5505 Public Drunkenness</td>\n",
       "      <td>Allegheny Center</td>\n",
       "      <td>1</td>\n",
       "      <td>2204</td>\n",
       "      <td></td>\n",
       "      <td></td>\n",
       "      <td></td>\n",
       "      <td></td>\n",
       "      <td>None</td>\n",
       "    </tr>\n",
       "  </tbody>\n",
       "</table>\n",
       "</div>"
      ],
      "text/plain": [
       "        PK       CCR GENDER RACE AGE            CITEDTIME  \\\n",
       "0  1078081  16157849      M    B  29  2016-08-22T23:45:00   \n",
       "1  1078082  16157849      M    W  21  2016-08-22T23:45:00   \n",
       "2  1078083  16159579                  2016-08-25T11:10:00   \n",
       "\n",
       "                           INCIDENTLOCATION  \\\n",
       "0  200 Block N DITHRIDGE ST PITTSBURGH, PA    \n",
       "1  200 Block N DITHRIDGE ST PITTSBURGH, PA    \n",
       "2                NORTH PARK PITTSBURGH, PA    \n",
       "\n",
       "                                            OFFENSES      NEIGHBORHOOD ZONE  \\\n",
       "0  5503(a)(2) DISORDERLY CONDUCT - UNREASONABLE N...     North Oakland    4   \n",
       "1  5503(a)(2) DISORDERLY CONDUCT - UNREASONABLE N...     North Oakland    4   \n",
       "2                            5505 Public Drunkenness  Allegheny Center    1   \n",
       "\n",
       "  INCIDENTTRACT COUNCIL_DISTRICT PUBLIC_WORKS_DIVISION             X  \\\n",
       "0           507                8                     3  -79.95169208   \n",
       "1           507                8                     3  -79.95169208   \n",
       "2          2204                                                        \n",
       "\n",
       "             Y geometry  \n",
       "0  40.44931132     None  \n",
       "1  40.44931132     None  \n",
       "2                  None  "
      ]
     },
     "execution_count": 1,
     "metadata": {},
     "output_type": "execute_result"
    }
   ],
   "source": [
    "import geopandas as gpd\n",
    "import pandas as pd\n",
    "\n",
    "# Load in the citations\n",
    "citations= gpd.read_file('Citations.csv')\n",
    "\n",
    "citations.head(3)"
   ]
  },
  {
   "cell_type": "markdown",
   "metadata": {},
   "source": [
    "We can see that the dataset provides a description of the offense, with examples such as disorderly conduct the includes the destrcution of another's property, public drunkeness, and scattering dangerous waste into public spaces and waters. The dataset doesn't have a set hierarchy, but we can classify certain citations as \"most likely to cause harm to other inviduals.\""
   ]
  },
  {
   "cell_type": "markdown",
   "metadata": {},
   "source": [
    "The first severe citation we can analyze is the offense labelled : \"5503(a)(4) DISORDERLY CONDUCT-HAZARDOUS/PHYS.OFF\""
   ]
  },
  {
   "cell_type": "code",
   "execution_count": 4,
   "metadata": {},
   "outputs": [
    {
     "data": {
      "text/html": [
       "<div>\n",
       "<style scoped>\n",
       "    .dataframe tbody tr th:only-of-type {\n",
       "        vertical-align: middle;\n",
       "    }\n",
       "\n",
       "    .dataframe tbody tr th {\n",
       "        vertical-align: top;\n",
       "    }\n",
       "\n",
       "    .dataframe thead th {\n",
       "        text-align: right;\n",
       "    }\n",
       "</style>\n",
       "<table border=\"1\" class=\"dataframe\">\n",
       "  <thead>\n",
       "    <tr style=\"text-align: right;\">\n",
       "      <th></th>\n",
       "      <th>PK</th>\n",
       "      <th>CCR</th>\n",
       "      <th>GENDER</th>\n",
       "      <th>RACE</th>\n",
       "      <th>AGE</th>\n",
       "      <th>CITEDTIME</th>\n",
       "      <th>INCIDENTLOCATION</th>\n",
       "      <th>OFFENSES</th>\n",
       "      <th>NEIGHBORHOOD</th>\n",
       "      <th>ZONE</th>\n",
       "      <th>INCIDENTTRACT</th>\n",
       "      <th>COUNCIL_DISTRICT</th>\n",
       "      <th>PUBLIC_WORKS_DIVISION</th>\n",
       "      <th>X</th>\n",
       "      <th>Y</th>\n",
       "      <th>geometry</th>\n",
       "    </tr>\n",
       "  </thead>\n",
       "  <tbody>\n",
       "    <tr>\n",
       "      <th>15</th>\n",
       "      <td>1078043</td>\n",
       "      <td>16048495</td>\n",
       "      <td>M</td>\n",
       "      <td>W</td>\n",
       "      <td>27</td>\n",
       "      <td>2016-03-18T00:50:00</td>\n",
       "      <td>1500 Block E CARSON ST PITTSBURGH, PA</td>\n",
       "      <td>5503(a)(4) DISORDERLY CONDUCT - HAZARDOUS/PHYS...</td>\n",
       "      <td>South Side Flats</td>\n",
       "      <td>3</td>\n",
       "      <td>1702</td>\n",
       "      <td>3</td>\n",
       "      <td>3</td>\n",
       "      <td>-79.98330671</td>\n",
       "      <td>40.42868483</td>\n",
       "      <td>None</td>\n",
       "    </tr>\n",
       "    <tr>\n",
       "      <th>23</th>\n",
       "      <td>1078051</td>\n",
       "      <td>16053250</td>\n",
       "      <td>F</td>\n",
       "      <td>B</td>\n",
       "      <td>26</td>\n",
       "      <td>2016-03-25T01:55:00</td>\n",
       "      <td>WEST LIBERTY AV &amp; PIONEER AV PITTSBURGH, PA</td>\n",
       "      <td>5503(a)(4) DISORDERLY CONDUCT - HAZARDOUS/PHYS...</td>\n",
       "      <td>Brookline</td>\n",
       "      <td>6</td>\n",
       "      <td>1917</td>\n",
       "      <td>4</td>\n",
       "      <td>5</td>\n",
       "      <td>-80.01011991</td>\n",
       "      <td>40.41291213</td>\n",
       "      <td>None</td>\n",
       "    </tr>\n",
       "    <tr>\n",
       "      <th>64</th>\n",
       "      <td>1077859</td>\n",
       "      <td>16148744</td>\n",
       "      <td>M</td>\n",
       "      <td>W</td>\n",
       "      <td>45</td>\n",
       "      <td>2016-08-10T03:30:00</td>\n",
       "      <td>7TH STREET BRIDGE PITTSBURGH, PA</td>\n",
       "      <td>5503(a)(4) DISORDERLY CONDUCT - HAZARDOUS/PHYS...</td>\n",
       "      <td>Golden Triangle/Civic Arena</td>\n",
       "      <td>2</td>\n",
       "      <td>201</td>\n",
       "      <td>2</td>\n",
       "      <td>5</td>\n",
       "      <td>-80.05910627</td>\n",
       "      <td>40.42937714</td>\n",
       "      <td>None</td>\n",
       "    </tr>\n",
       "  </tbody>\n",
       "</table>\n",
       "</div>"
      ],
      "text/plain": [
       "         PK       CCR GENDER RACE AGE            CITEDTIME  \\\n",
       "15  1078043  16048495      M    W  27  2016-03-18T00:50:00   \n",
       "23  1078051  16053250      F    B  26  2016-03-25T01:55:00   \n",
       "64  1077859  16148744      M    W  45  2016-08-10T03:30:00   \n",
       "\n",
       "                                INCIDENTLOCATION  \\\n",
       "15        1500 Block E CARSON ST PITTSBURGH, PA    \n",
       "23  WEST LIBERTY AV & PIONEER AV PITTSBURGH, PA    \n",
       "64             7TH STREET BRIDGE PITTSBURGH, PA    \n",
       "\n",
       "                                             OFFENSES  \\\n",
       "15  5503(a)(4) DISORDERLY CONDUCT - HAZARDOUS/PHYS...   \n",
       "23  5503(a)(4) DISORDERLY CONDUCT - HAZARDOUS/PHYS...   \n",
       "64  5503(a)(4) DISORDERLY CONDUCT - HAZARDOUS/PHYS...   \n",
       "\n",
       "                   NEIGHBORHOOD ZONE INCIDENTTRACT COUNCIL_DISTRICT  \\\n",
       "15             South Side Flats    3          1702                3   \n",
       "23                    Brookline    6          1917                4   \n",
       "64  Golden Triangle/Civic Arena    2           201                2   \n",
       "\n",
       "   PUBLIC_WORKS_DIVISION             X            Y geometry  \n",
       "15                     3  -79.98330671  40.42868483     None  \n",
       "23                     5  -80.01011991  40.41291213     None  \n",
       "64                     5  -80.05910627  40.42937714     None  "
      ]
     },
     "execution_count": 4,
     "metadata": {},
     "output_type": "execute_result"
    }
   ],
   "source": [
    "hazards=gpd.read_file('Citations.csv')\n",
    "#sort dataset to only include citations with this offense\n",
    "hazards=hazards[hazards[\"OFFENSES\"] == \"5503(a)(4) DISORDERLY CONDUCT - HAZARDOUS/PHYS. OFF\"]\n",
    "\n",
    "hazards.head(3)"
   ]
  },
  {
   "cell_type": "markdown",
   "metadata": {},
   "source": [
    "Now we can determine which neighborhoods have the highest numbers of this specific citation."
   ]
  },
  {
   "cell_type": "code",
   "execution_count": 6,
   "metadata": {},
   "outputs": [
    {
     "data": {
      "text/html": [
       "<div>\n",
       "<style scoped>\n",
       "    .dataframe tbody tr th:only-of-type {\n",
       "        vertical-align: middle;\n",
       "    }\n",
       "\n",
       "    .dataframe tbody tr th {\n",
       "        vertical-align: top;\n",
       "    }\n",
       "\n",
       "    .dataframe thead th {\n",
       "        text-align: right;\n",
       "    }\n",
       "</style>\n",
       "<table border=\"1\" class=\"dataframe\">\n",
       "  <thead>\n",
       "    <tr style=\"text-align: right;\">\n",
       "      <th></th>\n",
       "      <th>Neighborhood</th>\n",
       "      <th>Number of 5503(a)(4) Offenses</th>\n",
       "    </tr>\n",
       "  </thead>\n",
       "  <tbody>\n",
       "    <tr>\n",
       "      <th>15</th>\n",
       "      <td>South Side Flats</td>\n",
       "      <td>0</td>\n",
       "    </tr>\n",
       "    <tr>\n",
       "      <th>23</th>\n",
       "      <td>Brookline</td>\n",
       "      <td>0</td>\n",
       "    </tr>\n",
       "    <tr>\n",
       "      <th>64</th>\n",
       "      <td>Golden Triangle/Civic Arena</td>\n",
       "      <td>0</td>\n",
       "    </tr>\n",
       "  </tbody>\n",
       "</table>\n",
       "</div>"
      ],
      "text/plain": [
       "                   Neighborhood  Number of 5503(a)(4) Offenses\n",
       "15             South Side Flats                              0\n",
       "23                    Brookline                              0\n",
       "64  Golden Triangle/Civic Arena                              0"
      ]
     },
     "execution_count": 6,
     "metadata": {},
     "output_type": "execute_result"
    }
   ],
   "source": [
    "temp = pd.DataFrame(columns = [\"Neighborhood\" ,\"Number of 5503(a)(4) Offenses\"])\n",
    "temp[\"Neighborhood\"] = hazards[\"NEIGHBORHOOD\"]\n",
    "temp[\"Number of 5503(a)(4) Offenses\"]=0\n",
    "\n",
    "temp.head(3)\n"
   ]
  },
  {
   "cell_type": "code",
   "execution_count": 10,
   "metadata": {},
   "outputs": [
    {
     "data": {
      "text/html": [
       "<div>\n",
       "<style scoped>\n",
       "    .dataframe tbody tr th:only-of-type {\n",
       "        vertical-align: middle;\n",
       "    }\n",
       "\n",
       "    .dataframe tbody tr th {\n",
       "        vertical-align: top;\n",
       "    }\n",
       "\n",
       "    .dataframe thead th {\n",
       "        text-align: right;\n",
       "    }\n",
       "</style>\n",
       "<table border=\"1\" class=\"dataframe\">\n",
       "  <thead>\n",
       "    <tr style=\"text-align: right;\">\n",
       "      <th></th>\n",
       "      <th>Neighborhood</th>\n",
       "      <th>Number of 5503(a)(4) Offenses</th>\n",
       "    </tr>\n",
       "  </thead>\n",
       "  <tbody>\n",
       "    <tr>\n",
       "      <th>0</th>\n",
       "      <td>South Side Flats</td>\n",
       "      <td>146</td>\n",
       "    </tr>\n",
       "    <tr>\n",
       "      <th>0</th>\n",
       "      <td>Brookline</td>\n",
       "      <td>18</td>\n",
       "    </tr>\n",
       "    <tr>\n",
       "      <th>0</th>\n",
       "      <td>Golden Triangle/Civic Arena</td>\n",
       "      <td>2</td>\n",
       "    </tr>\n",
       "  </tbody>\n",
       "</table>\n",
       "</div>"
      ],
      "text/plain": [
       "                  Neighborhood Number of 5503(a)(4) Offenses\n",
       "0             South Side Flats                           146\n",
       "0                    Brookline                            18\n",
       "0  Golden Triangle/Civic Arena                             2"
      ]
     },
     "execution_count": 10,
     "metadata": {},
     "output_type": "execute_result"
    }
   ],
   "source": [
    "temp_agg = pd.DataFrame(columns = [\"Neighborhood\", \"Number of 5503(a)(4) Offenses\"])\n",
    "for i, row in temp.iterrows():\n",
    "    neighborhood = row[\"Neighborhood\"]\n",
    " # Check to see if the neighborhood is already been acremented\n",
    "        #If so, increment the number of citations in that neighborhood\n",
    "    if neighborhood in temp_agg[\"Neighborhood\"].values:\n",
    "            temp_agg.loc[temp_agg[\"Neighborhood\"] == neighborhood, \"Number of 5503(a)(4) Offenses\"] += 1\n",
    "    else:\n",
    "        # If not, add a new row to the aggregated DataFrame\n",
    "            agg_new_row = pd.DataFrame({ 'Neighborhood': [neighborhood], 'Number of 5503(a)(4) Offenses': [1] })\n",
    "            temp_agg = pd.concat([temp_agg, agg_new_row])\n",
    "temp_agg.head(3)"
   ]
  },
  {
   "cell_type": "code",
   "execution_count": 11,
   "metadata": {},
   "outputs": [
    {
     "data": {
      "text/html": [
       "<div>\n",
       "<style scoped>\n",
       "    .dataframe tbody tr th:only-of-type {\n",
       "        vertical-align: middle;\n",
       "    }\n",
       "\n",
       "    .dataframe tbody tr th {\n",
       "        vertical-align: top;\n",
       "    }\n",
       "\n",
       "    .dataframe thead th {\n",
       "        text-align: right;\n",
       "    }\n",
       "</style>\n",
       "<table border=\"1\" class=\"dataframe\">\n",
       "  <thead>\n",
       "    <tr style=\"text-align: right;\">\n",
       "      <th></th>\n",
       "      <th>Neighborhood</th>\n",
       "      <th>Number of 5503(a)(4) Offenses</th>\n",
       "    </tr>\n",
       "  </thead>\n",
       "  <tbody>\n",
       "    <tr>\n",
       "      <th>0</th>\n",
       "      <td>South Side Flats</td>\n",
       "      <td>146</td>\n",
       "    </tr>\n",
       "    <tr>\n",
       "      <th>0</th>\n",
       "      <td>Central Business District</td>\n",
       "      <td>100</td>\n",
       "    </tr>\n",
       "    <tr>\n",
       "      <th>0</th>\n",
       "      <td>North Shore</td>\n",
       "      <td>51</td>\n",
       "    </tr>\n",
       "    <tr>\n",
       "      <th>0</th>\n",
       "      <td>Central Oakland</td>\n",
       "      <td>34</td>\n",
       "    </tr>\n",
       "    <tr>\n",
       "      <th>0</th>\n",
       "      <td>Shadyside</td>\n",
       "      <td>28</td>\n",
       "    </tr>\n",
       "  </tbody>\n",
       "</table>\n",
       "</div>"
      ],
      "text/plain": [
       "                Neighborhood Number of 5503(a)(4) Offenses\n",
       "0           South Side Flats                           146\n",
       "0  Central Business District                           100\n",
       "0                North Shore                            51\n",
       "0            Central Oakland                            34\n",
       "0                  Shadyside                            28"
      ]
     },
     "execution_count": 11,
     "metadata": {},
     "output_type": "execute_result"
    }
   ],
   "source": [
    "temp_agg_sorted= temp_agg.sort_values(\"Number of 5503(a)(4) Offenses\", ascending=False)\n",
    "temp_agg_sorted.head(5)"
   ]
  },
  {
   "cell_type": "markdown",
   "metadata": {},
   "source": [
    "We can see that South Side Flats has the highest number of occurences of this specific citation. Lets plot the top ten neighborhoods."
   ]
  },
  {
   "cell_type": "code",
   "execution_count": 12,
   "metadata": {},
   "outputs": [
    {
     "data": {
      "image/png": "[encoded data removed]",
      "text/plain": [
       "<Figure size 432x288 with 1 Axes>"
      ]
     },
     "metadata": {
      "needs_background": "light"
     },
     "output_type": "display_data"
    }
   ],
   "source": [
    "plt = temp_agg_sorted.iloc[:10].plot(kind='bar', x=\"Neighborhood\", y=\"Number of 5503(a)(4) Offenses\", title=\"Pittsburgh Neighborhoods with the Most Number of 5503(a)(4) Offenses\")"
   ]
  },
  {
   "cell_type": "markdown",
   "metadata": {},
   "source": [
    "Lets also plot the neighborhoods with the least number of occurences of this offense."
   ]
  },
  {
   "cell_type": "code",
   "execution_count": 14,
   "metadata": {},
   "outputs": [
    {
     "data": {
      "image/png": "[encoded data removed]",
      "text/plain": [
       "<Figure size 432x288 with 1 Axes>"
      ]
     },
     "metadata": {
      "needs_background": "light"
     },
     "output_type": "display_data"
    }
   ],
   "source": [
    "temp_agg_sorted_opp=temp_agg.sort_values(\"Number of 5503(a)(4) Offenses\", ascending=True)\n",
    "plt = temp_agg_sorted_opp.iloc[:10].plot(kind='bar', x=\"Neighborhood\", y=\"Number of 5503(a)(4) Offenses\", title=\"Pittsburgh Neighborhoods with the Least Number of 5503(a)(4) Offenses\")"
   ]
  },
  {
   "cell_type": "markdown",
   "metadata": {},
   "source": [
    "Lets repeat this process with the next severe offense."
   ]
  },
  {
   "cell_type": "code",
   "execution_count": 16,
   "metadata": {},
   "outputs": [
    {
     "data": {
      "text/html": [
       "<div>\n",
       "<style scoped>\n",
       "    .dataframe tbody tr th:only-of-type {\n",
       "        vertical-align: middle;\n",
       "    }\n",
       "\n",
       "    .dataframe tbody tr th {\n",
       "        vertical-align: top;\n",
       "    }\n",
       "\n",
       "    .dataframe thead th {\n",
       "        text-align: right;\n",
       "    }\n",
       "</style>\n",
       "<table border=\"1\" class=\"dataframe\">\n",
       "  <thead>\n",
       "    <tr style=\"text-align: right;\">\n",
       "      <th></th>\n",
       "      <th>PK</th>\n",
       "      <th>CCR</th>\n",
       "      <th>GENDER</th>\n",
       "      <th>RACE</th>\n",
       "      <th>AGE</th>\n",
       "      <th>CITEDTIME</th>\n",
       "      <th>INCIDENTLOCATION</th>\n",
       "      <th>OFFENSES</th>\n",
       "      <th>NEIGHBORHOOD</th>\n",
       "      <th>ZONE</th>\n",
       "      <th>INCIDENTTRACT</th>\n",
       "      <th>COUNCIL_DISTRICT</th>\n",
       "      <th>PUBLIC_WORKS_DIVISION</th>\n",
       "      <th>X</th>\n",
       "      <th>Y</th>\n",
       "      <th>geometry</th>\n",
       "    </tr>\n",
       "  </thead>\n",
       "  <tbody>\n",
       "    <tr>\n",
       "      <th>9</th>\n",
       "      <td>1078090</td>\n",
       "      <td>16077700</td>\n",
       "      <td>M</td>\n",
       "      <td>B</td>\n",
       "      <td>24</td>\n",
       "      <td>2016-04-29T01:05:00</td>\n",
       "      <td>80 Block S 15TH ST PITTSBURGH, PA</td>\n",
       "      <td>3304(a)(5) CRIMINAL MISCHIEF - Intentionally D...</td>\n",
       "      <td>South Side Flats</td>\n",
       "      <td>3</td>\n",
       "      <td>1702</td>\n",
       "      <td>3</td>\n",
       "      <td>3</td>\n",
       "      <td>-79.98357299</td>\n",
       "      <td>40.4285553</td>\n",
       "      <td>None</td>\n",
       "    </tr>\n",
       "    <tr>\n",
       "      <th>50</th>\n",
       "      <td>1077845</td>\n",
       "      <td>16154922</td>\n",
       "      <td>M</td>\n",
       "      <td>W</td>\n",
       "      <td>58</td>\n",
       "      <td>2016-08-18T20:05:00</td>\n",
       "      <td>200 Block S FAIRMOUNT ST PITTSBURGH, PA</td>\n",
       "      <td>3304(a)(5) CRIMINAL MISCHIEF - Intentionally D...</td>\n",
       "      <td>Friendship</td>\n",
       "      <td>5</td>\n",
       "      <td>807</td>\n",
       "      <td>7</td>\n",
       "      <td>2</td>\n",
       "      <td>-79.93380359</td>\n",
       "      <td>40.46232738</td>\n",
       "      <td>None</td>\n",
       "    </tr>\n",
       "    <tr>\n",
       "      <th>59</th>\n",
       "      <td>1077854</td>\n",
       "      <td>16153732</td>\n",
       "      <td>F</td>\n",
       "      <td>B</td>\n",
       "      <td>27</td>\n",
       "      <td>2016-08-17T06:08:00</td>\n",
       "      <td>2400 Block PARK HILL DR PITTSBURGH, PA</td>\n",
       "      <td>3304(a)(5) CRIMINAL MISCHIEF - Intentionally D...</td>\n",
       "      <td>East Hills</td>\n",
       "      <td>5</td>\n",
       "      <td>1306</td>\n",
       "      <td>9</td>\n",
       "      <td>2</td>\n",
       "      <td>-79.87380288</td>\n",
       "      <td>40.45582712</td>\n",
       "      <td>None</td>\n",
       "    </tr>\n",
       "  </tbody>\n",
       "</table>\n",
       "</div>"
      ],
      "text/plain": [
       "         PK       CCR GENDER RACE AGE            CITEDTIME  \\\n",
       "9   1078090  16077700      M    B  24  2016-04-29T01:05:00   \n",
       "50  1077845  16154922      M    W  58  2016-08-18T20:05:00   \n",
       "59  1077854  16153732      F    B  27  2016-08-17T06:08:00   \n",
       "\n",
       "                            INCIDENTLOCATION  \\\n",
       "9         80 Block S 15TH ST PITTSBURGH, PA    \n",
       "50  200 Block S FAIRMOUNT ST PITTSBURGH, PA    \n",
       "59   2400 Block PARK HILL DR PITTSBURGH, PA    \n",
       "\n",
       "                                             OFFENSES      NEIGHBORHOOD ZONE  \\\n",
       "9   3304(a)(5) CRIMINAL MISCHIEF - Intentionally D...  South Side Flats    3   \n",
       "50  3304(a)(5) CRIMINAL MISCHIEF - Intentionally D...        Friendship    5   \n",
       "59  3304(a)(5) CRIMINAL MISCHIEF - Intentionally D...        East Hills    5   \n",
       "\n",
       "   INCIDENTTRACT COUNCIL_DISTRICT PUBLIC_WORKS_DIVISION             X  \\\n",
       "9           1702                3                     3  -79.98357299   \n",
       "50           807                7                     2  -79.93380359   \n",
       "59          1306                9                     2  -79.87380288   \n",
       "\n",
       "              Y geometry  \n",
       "9    40.4285553     None  \n",
       "50  40.46232738     None  \n",
       "59  40.45582712     None  "
      ]
     },
     "execution_count": 16,
     "metadata": {},
     "output_type": "execute_result"
    }
   ],
   "source": [
    "mischief=gpd.read_file('Citations.csv')\n",
    "#sort dataset to only include citations with this offense\n",
    "mischief=mischief[mischief[\"OFFENSES\"] == \"3304(a)(5) CRIMINAL MISCHIEF - Intentionally Damages Real Or Personal Property Of Another\"]\n",
    "\n",
    "mischief.head(3)\n"
   ]
  },
  {
   "cell_type": "code",
   "execution_count": 19,
   "metadata": {},
   "outputs": [
    {
     "data": {
      "text/html": [
       "<div>\n",
       "<style scoped>\n",
       "    .dataframe tbody tr th:only-of-type {\n",
       "        vertical-align: middle;\n",
       "    }\n",
       "\n",
       "    .dataframe tbody tr th {\n",
       "        vertical-align: top;\n",
       "    }\n",
       "\n",
       "    .dataframe thead th {\n",
       "        text-align: right;\n",
       "    }\n",
       "</style>\n",
       "<table border=\"1\" class=\"dataframe\">\n",
       "  <thead>\n",
       "    <tr style=\"text-align: right;\">\n",
       "      <th></th>\n",
       "      <th>Neighborhood</th>\n",
       "      <th>Number of Mischief Offenses</th>\n",
       "    </tr>\n",
       "  </thead>\n",
       "  <tbody>\n",
       "    <tr>\n",
       "      <th>9</th>\n",
       "      <td>South Side Flats</td>\n",
       "      <td>0</td>\n",
       "    </tr>\n",
       "    <tr>\n",
       "      <th>50</th>\n",
       "      <td>Friendship</td>\n",
       "      <td>0</td>\n",
       "    </tr>\n",
       "    <tr>\n",
       "      <th>59</th>\n",
       "      <td>East Hills</td>\n",
       "      <td>0</td>\n",
       "    </tr>\n",
       "  </tbody>\n",
       "</table>\n",
       "</div>"
      ],
      "text/plain": [
       "        Neighborhood  Number of Mischief Offenses\n",
       "9   South Side Flats                            0\n",
       "50        Friendship                            0\n",
       "59        East Hills                            0"
      ]
     },
     "execution_count": 19,
     "metadata": {},
     "output_type": "execute_result"
    }
   ],
   "source": [
    "temp2 = pd.DataFrame(columns = [\"Neighborhood\" ,\"Number of Mischief Offenses\"])\n",
    "temp2[\"Neighborhood\"] = mischief[\"NEIGHBORHOOD\"]\n",
    "temp2[\"Number of Mischief Offenses\"]=0\n",
    "\n",
    "temp2.head(3)"
   ]
  },
  {
   "cell_type": "code",
   "execution_count": 20,
   "metadata": {},
   "outputs": [
    {
     "data": {
      "text/html": [
       "<div>\n",
       "<style scoped>\n",
       "    .dataframe tbody tr th:only-of-type {\n",
       "        vertical-align: middle;\n",
       "    }\n",
       "\n",
       "    .dataframe tbody tr th {\n",
       "        vertical-align: top;\n",
       "    }\n",
       "\n",
       "    .dataframe thead th {\n",
       "        text-align: right;\n",
       "    }\n",
       "</style>\n",
       "<table border=\"1\" class=\"dataframe\">\n",
       "  <thead>\n",
       "    <tr style=\"text-align: right;\">\n",
       "      <th></th>\n",
       "      <th>Neighborhood</th>\n",
       "      <th>Number of Mischief Offenses</th>\n",
       "    </tr>\n",
       "  </thead>\n",
       "  <tbody>\n",
       "    <tr>\n",
       "      <th>0</th>\n",
       "      <td>South Side Flats</td>\n",
       "      <td>44</td>\n",
       "    </tr>\n",
       "    <tr>\n",
       "      <th>0</th>\n",
       "      <td>Friendship</td>\n",
       "      <td>1</td>\n",
       "    </tr>\n",
       "    <tr>\n",
       "      <th>0</th>\n",
       "      <td>East Hills</td>\n",
       "      <td>8</td>\n",
       "    </tr>\n",
       "  </tbody>\n",
       "</table>\n",
       "</div>"
      ],
      "text/plain": [
       "       Neighborhood Number of Mischief Offenses\n",
       "0  South Side Flats                          44\n",
       "0        Friendship                           1\n",
       "0        East Hills                           8"
      ]
     },
     "execution_count": 20,
     "metadata": {},
     "output_type": "execute_result"
    }
   ],
   "source": [
    "temp2_agg = pd.DataFrame(columns = [\"Neighborhood\", \"Number of Mischief Offenses\"])\n",
    "for i, row in temp2.iterrows():\n",
    "    neighborhood = row[\"Neighborhood\"]\n",
    " # Check to see if the neighborhood is already been acremented\n",
    "        #If so, increment the number of citations in that neighborhood\n",
    "    if neighborhood in temp2_agg[\"Neighborhood\"].values:\n",
    "            temp2_agg.loc[temp2_agg[\"Neighborhood\"] == neighborhood, \"Number of Mischief Offenses\"] += 1\n",
    "    else:\n",
    "        # If not, add a new row to the aggregated DataFrame\n",
    "            agg_new_row = pd.DataFrame({ 'Neighborhood': [neighborhood], 'Number of Mischief Offenses': [1] })\n",
    "            temp2_agg = pd.concat([temp2_agg, agg_new_row])\n",
    "temp2_agg.head(3)"
   ]
  },
  {
   "cell_type": "code",
   "execution_count": 21,
   "metadata": {},
   "outputs": [
    {
     "data": {
      "text/html": [
       "<div>\n",
       "<style scoped>\n",
       "    .dataframe tbody tr th:only-of-type {\n",
       "        vertical-align: middle;\n",
       "    }\n",
       "\n",
       "    .dataframe tbody tr th {\n",
       "        vertical-align: top;\n",
       "    }\n",
       "\n",
       "    .dataframe thead th {\n",
       "        text-align: right;\n",
       "    }\n",
       "</style>\n",
       "<table border=\"1\" class=\"dataframe\">\n",
       "  <thead>\n",
       "    <tr style=\"text-align: right;\">\n",
       "      <th></th>\n",
       "      <th>Neighborhood</th>\n",
       "      <th>Number of Mischief Offenses</th>\n",
       "    </tr>\n",
       "  </thead>\n",
       "  <tbody>\n",
       "    <tr>\n",
       "      <th>0</th>\n",
       "      <td>South Side Flats</td>\n",
       "      <td>44</td>\n",
       "    </tr>\n",
       "    <tr>\n",
       "      <th>0</th>\n",
       "      <td>Central Business District</td>\n",
       "      <td>32</td>\n",
       "    </tr>\n",
       "    <tr>\n",
       "      <th>0</th>\n",
       "      <td>Carrick</td>\n",
       "      <td>25</td>\n",
       "    </tr>\n",
       "    <tr>\n",
       "      <th>0</th>\n",
       "      <td>Hazelwood</td>\n",
       "      <td>21</td>\n",
       "    </tr>\n",
       "    <tr>\n",
       "      <th>0</th>\n",
       "      <td>Knoxville</td>\n",
       "      <td>15</td>\n",
       "    </tr>\n",
       "  </tbody>\n",
       "</table>\n",
       "</div>"
      ],
      "text/plain": [
       "                Neighborhood Number of Mischief Offenses\n",
       "0           South Side Flats                          44\n",
       "0  Central Business District                          32\n",
       "0                    Carrick                          25\n",
       "0                  Hazelwood                          21\n",
       "0                  Knoxville                          15"
      ]
     },
     "execution_count": 21,
     "metadata": {},
     "output_type": "execute_result"
    }
   ],
   "source": [
    "temp2_agg_sorted= temp2_agg.sort_values(\"Number of Mischief Offenses\", ascending=False)\n",
    "temp2_agg_sorted.head(5)"
   ]
  },
  {
   "cell_type": "code",
   "execution_count": 22,
   "metadata": {},
   "outputs": [
    {
     "data": {
      "image/png": "[encoded data removed]",
      "text/plain": [
       "<Figure size 432x288 with 1 Axes>"
      ]
     },
     "metadata": {
      "needs_background": "light"
     },
     "output_type": "display_data"
    },
    {
     "data": {
      "image/png": "[encoded data removed]",
      "text/plain": [
       "<Figure size 432x288 with 1 Axes>"
      ]
     },
     "metadata": {
      "needs_background": "light"
     },
     "output_type": "display_data"
    }
   ],
   "source": [
    "plt = temp2_agg_sorted.iloc[:10].plot(kind='bar', x=\"Neighborhood\", y=\"Number of Mischief Offenses\", title=\"Pittsburgh Neighborhoods with the Most Number of Mischief Offenses\")\n",
    "temp2_agg_sorted_opp=temp2_agg.sort_values(\"Number of Mischief Offenses\", ascending=True)\n",
    "plt = temp2_agg_sorted_opp.iloc[:10].plot(kind='bar', x=\"Neighborhood\", y=\"Number of Mischief Offenses\", title=\"Pittsburgh Neighborhoods with the Least Number of Mischief Offenses\")"
   ]
  },
  {
   "cell_type": "markdown",
   "metadata": {},
   "source": [
    "We can see that South Side Flats has the highest number of occurences of the criminal mischief citation, while the bottom ten neighborhood all have only one instance of this offense."
   ]
  },
  {
   "cell_type": "markdown",
   "metadata": {},
   "source": [
    "Finally, lets do this process one more time for the citation that is harrassment by threats or physicality."
   ]
  },
  {
   "cell_type": "code",
   "execution_count": 26,
   "metadata": {},
   "outputs": [
    {
     "data": {
      "text/html": [
       "<div>\n",
       "<style scoped>\n",
       "    .dataframe tbody tr th:only-of-type {\n",
       "        vertical-align: middle;\n",
       "    }\n",
       "\n",
       "    .dataframe tbody tr th {\n",
       "        vertical-align: top;\n",
       "    }\n",
       "\n",
       "    .dataframe thead th {\n",
       "        text-align: right;\n",
       "    }\n",
       "</style>\n",
       "<table border=\"1\" class=\"dataframe\">\n",
       "  <thead>\n",
       "    <tr style=\"text-align: right;\">\n",
       "      <th></th>\n",
       "      <th>PK</th>\n",
       "      <th>CCR</th>\n",
       "      <th>GENDER</th>\n",
       "      <th>RACE</th>\n",
       "      <th>AGE</th>\n",
       "      <th>CITEDTIME</th>\n",
       "      <th>INCIDENTLOCATION</th>\n",
       "      <th>OFFENSES</th>\n",
       "      <th>NEIGHBORHOOD</th>\n",
       "      <th>ZONE</th>\n",
       "      <th>INCIDENTTRACT</th>\n",
       "      <th>COUNCIL_DISTRICT</th>\n",
       "      <th>PUBLIC_WORKS_DIVISION</th>\n",
       "      <th>X</th>\n",
       "      <th>Y</th>\n",
       "      <th>geometry</th>\n",
       "    </tr>\n",
       "  </thead>\n",
       "  <tbody>\n",
       "    <tr>\n",
       "      <th>51</th>\n",
       "      <td>1077846</td>\n",
       "      <td>16149855</td>\n",
       "      <td>F</td>\n",
       "      <td>B</td>\n",
       "      <td>30</td>\n",
       "      <td>2016-08-10T11:00:00</td>\n",
       "      <td>300 Block CLOVER ST PITTSBURGH, PA</td>\n",
       "      <td>2709(a)(1) Harassment by Physical Contact, or ...</td>\n",
       "      <td>Arlington</td>\n",
       "      <td>3</td>\n",
       "      <td>1603</td>\n",
       "      <td>3</td>\n",
       "      <td>3</td>\n",
       "      <td>-79.97202395</td>\n",
       "      <td>40.41473751</td>\n",
       "      <td>None</td>\n",
       "    </tr>\n",
       "    <tr>\n",
       "      <th>69</th>\n",
       "      <td>1077864</td>\n",
       "      <td>16128942</td>\n",
       "      <td>M</td>\n",
       "      <td>W</td>\n",
       "      <td>51</td>\n",
       "      <td>2016-07-11T21:10:00</td>\n",
       "      <td>1900 Block E CARSON ST PITTSBURGH, PA</td>\n",
       "      <td>2709(a)(1) Harassment by Physical Contact, or ...</td>\n",
       "      <td>South Side Flats</td>\n",
       "      <td>3</td>\n",
       "      <td>1702</td>\n",
       "      <td>3</td>\n",
       "      <td>3</td>\n",
       "      <td>-79.97896499</td>\n",
       "      <td>40.42846581</td>\n",
       "      <td>None</td>\n",
       "    </tr>\n",
       "    <tr>\n",
       "      <th>140</th>\n",
       "      <td>1078134</td>\n",
       "      <td>16167457</td>\n",
       "      <td>F</td>\n",
       "      <td>B</td>\n",
       "      <td>25</td>\n",
       "      <td>2016-09-05T16:25:00</td>\n",
       "      <td>NORTH SHORE DR &amp; ART ROONEY AV PITTSBURGH, PA</td>\n",
       "      <td>2709(a)(1) Harassment by Physical Contact, or ...</td>\n",
       "      <td>North Shore</td>\n",
       "      <td>1</td>\n",
       "      <td>2205</td>\n",
       "      <td>1</td>\n",
       "      <td>6</td>\n",
       "      <td>-80.01355472</td>\n",
       "      <td>40.44529938</td>\n",
       "      <td>None</td>\n",
       "    </tr>\n",
       "  </tbody>\n",
       "</table>\n",
       "</div>"
      ],
      "text/plain": [
       "          PK       CCR GENDER RACE AGE            CITEDTIME  \\\n",
       "51   1077846  16149855      F    B  30  2016-08-10T11:00:00   \n",
       "69   1077864  16128942      M    W  51  2016-07-11T21:10:00   \n",
       "140  1078134  16167457      F    B  25  2016-09-05T16:25:00   \n",
       "\n",
       "                                   INCIDENTLOCATION  \\\n",
       "51              300 Block CLOVER ST PITTSBURGH, PA    \n",
       "69           1900 Block E CARSON ST PITTSBURGH, PA    \n",
       "140  NORTH SHORE DR & ART ROONEY AV PITTSBURGH, PA    \n",
       "\n",
       "                                              OFFENSES      NEIGHBORHOOD ZONE  \\\n",
       "51   2709(a)(1) Harassment by Physical Contact, or ...         Arlington    3   \n",
       "69   2709(a)(1) Harassment by Physical Contact, or ...  South Side Flats    3   \n",
       "140  2709(a)(1) Harassment by Physical Contact, or ...       North Shore    1   \n",
       "\n",
       "    INCIDENTTRACT COUNCIL_DISTRICT PUBLIC_WORKS_DIVISION             X  \\\n",
       "51           1603                3                     3  -79.97202395   \n",
       "69           1702                3                     3  -79.97896499   \n",
       "140          2205                1                     6  -80.01355472   \n",
       "\n",
       "               Y geometry  \n",
       "51   40.41473751     None  \n",
       "69   40.42846581     None  \n",
       "140  40.44529938     None  "
      ]
     },
     "execution_count": 26,
     "metadata": {},
     "output_type": "execute_result"
    }
   ],
   "source": [
    "threats=gpd.read_file('Citations.csv')\n",
    "#sort dataset to only include citations with this offense\n",
    "threats=threats[threats[\"OFFENSES\"] == \"2709(a)(1) Harassment by Physical Contact, or Attempts or Threats\"]\n",
    "\n",
    "threats.head(3)"
   ]
  },
  {
   "cell_type": "code",
   "execution_count": 27,
   "metadata": {},
   "outputs": [
    {
     "data": {
      "text/html": [
       "<div>\n",
       "<style scoped>\n",
       "    .dataframe tbody tr th:only-of-type {\n",
       "        vertical-align: middle;\n",
       "    }\n",
       "\n",
       "    .dataframe tbody tr th {\n",
       "        vertical-align: top;\n",
       "    }\n",
       "\n",
       "    .dataframe thead th {\n",
       "        text-align: right;\n",
       "    }\n",
       "</style>\n",
       "<table border=\"1\" class=\"dataframe\">\n",
       "  <thead>\n",
       "    <tr style=\"text-align: right;\">\n",
       "      <th></th>\n",
       "      <th>Neighborhood</th>\n",
       "      <th>Number of Harassment/Physical Offenses</th>\n",
       "    </tr>\n",
       "  </thead>\n",
       "  <tbody>\n",
       "    <tr>\n",
       "      <th>51</th>\n",
       "      <td>Arlington</td>\n",
       "      <td>0</td>\n",
       "    </tr>\n",
       "    <tr>\n",
       "      <th>69</th>\n",
       "      <td>South Side Flats</td>\n",
       "      <td>0</td>\n",
       "    </tr>\n",
       "    <tr>\n",
       "      <th>140</th>\n",
       "      <td>North Shore</td>\n",
       "      <td>0</td>\n",
       "    </tr>\n",
       "  </tbody>\n",
       "</table>\n",
       "</div>"
      ],
      "text/plain": [
       "         Neighborhood  Number of Harassment/Physical Offenses\n",
       "51          Arlington                                       0\n",
       "69   South Side Flats                                       0\n",
       "140       North Shore                                       0"
      ]
     },
     "execution_count": 27,
     "metadata": {},
     "output_type": "execute_result"
    }
   ],
   "source": [
    "temp3 = pd.DataFrame(columns = [\"Neighborhood\" ,\"Number of Harassment/Physical Offenses\"])\n",
    "temp3[\"Neighborhood\"] = threats[\"NEIGHBORHOOD\"]\n",
    "temp3[\"Number of Harassment/Physical Offenses\"]=0\n",
    "\n",
    "temp3.head(3)"
   ]
  },
  {
   "cell_type": "code",
   "execution_count": 28,
   "metadata": {},
   "outputs": [
    {
     "data": {
      "text/html": [
       "<div>\n",
       "<style scoped>\n",
       "    .dataframe tbody tr th:only-of-type {\n",
       "        vertical-align: middle;\n",
       "    }\n",
       "\n",
       "    .dataframe tbody tr th {\n",
       "        vertical-align: top;\n",
       "    }\n",
       "\n",
       "    .dataframe thead th {\n",
       "        text-align: right;\n",
       "    }\n",
       "</style>\n",
       "<table border=\"1\" class=\"dataframe\">\n",
       "  <thead>\n",
       "    <tr style=\"text-align: right;\">\n",
       "      <th></th>\n",
       "      <th>Neighborhood</th>\n",
       "      <th>Number of Harassment/Physical Offenses</th>\n",
       "    </tr>\n",
       "  </thead>\n",
       "  <tbody>\n",
       "    <tr>\n",
       "      <th>0</th>\n",
       "      <td>Arlington</td>\n",
       "      <td>17</td>\n",
       "    </tr>\n",
       "    <tr>\n",
       "      <th>0</th>\n",
       "      <td>South Side Flats</td>\n",
       "      <td>72</td>\n",
       "    </tr>\n",
       "    <tr>\n",
       "      <th>0</th>\n",
       "      <td>North Shore</td>\n",
       "      <td>31</td>\n",
       "    </tr>\n",
       "  </tbody>\n",
       "</table>\n",
       "</div>"
      ],
      "text/plain": [
       "       Neighborhood Number of Harassment/Physical Offenses\n",
       "0         Arlington                                     17\n",
       "0  South Side Flats                                     72\n",
       "0       North Shore                                     31"
      ]
     },
     "execution_count": 28,
     "metadata": {},
     "output_type": "execute_result"
    }
   ],
   "source": [
    "temp3_agg = pd.DataFrame(columns = [\"Neighborhood\", \"Number of Harassment/Physical Offenses\"])\n",
    "for i, row in temp3.iterrows():\n",
    "    neighborhood = row[\"Neighborhood\"]\n",
    " # Check to see if the neighborhood is already been acremented\n",
    "        #If so, increment the number of citations in that neighborhood\n",
    "    if neighborhood in temp3_agg[\"Neighborhood\"].values:\n",
    "            temp3_agg.loc[temp3_agg[\"Neighborhood\"] == neighborhood, \"Number of Harassment/Physical Offenses\"] += 1\n",
    "    else:\n",
    "        # If not, add a new row to the aggregated DataFrame\n",
    "            agg_new_row = pd.DataFrame({ 'Neighborhood': [neighborhood], 'Number of Harassment/Physical Offenses': [1] })\n",
    "            temp3_agg = pd.concat([temp3_agg, agg_new_row])\n",
    "temp3_agg.head(3)"
   ]
  },
  {
   "cell_type": "code",
   "execution_count": 29,
   "metadata": {},
   "outputs": [
    {
     "data": {
      "text/html": [
       "<div>\n",
       "<style scoped>\n",
       "    .dataframe tbody tr th:only-of-type {\n",
       "        vertical-align: middle;\n",
       "    }\n",
       "\n",
       "    .dataframe tbody tr th {\n",
       "        vertical-align: top;\n",
       "    }\n",
       "\n",
       "    .dataframe thead th {\n",
       "        text-align: right;\n",
       "    }\n",
       "</style>\n",
       "<table border=\"1\" class=\"dataframe\">\n",
       "  <thead>\n",
       "    <tr style=\"text-align: right;\">\n",
       "      <th></th>\n",
       "      <th>Neighborhood</th>\n",
       "      <th>Number of Harassment/Physical Offenses</th>\n",
       "    </tr>\n",
       "  </thead>\n",
       "  <tbody>\n",
       "    <tr>\n",
       "      <th>0</th>\n",
       "      <td>Central Business District</td>\n",
       "      <td>165</td>\n",
       "    </tr>\n",
       "    <tr>\n",
       "      <th>0</th>\n",
       "      <td>South Side Flats</td>\n",
       "      <td>72</td>\n",
       "    </tr>\n",
       "    <tr>\n",
       "      <th>0</th>\n",
       "      <td>Brookline</td>\n",
       "      <td>55</td>\n",
       "    </tr>\n",
       "    <tr>\n",
       "      <th>0</th>\n",
       "      <td>Carrick</td>\n",
       "      <td>48</td>\n",
       "    </tr>\n",
       "    <tr>\n",
       "      <th>0</th>\n",
       "      <td>Sheraden</td>\n",
       "      <td>44</td>\n",
       "    </tr>\n",
       "  </tbody>\n",
       "</table>\n",
       "</div>"
      ],
      "text/plain": [
       "                Neighborhood Number of Harassment/Physical Offenses\n",
       "0  Central Business District                                    165\n",
       "0           South Side Flats                                     72\n",
       "0                  Brookline                                     55\n",
       "0                    Carrick                                     48\n",
       "0                   Sheraden                                     44"
      ]
     },
     "execution_count": 29,
     "metadata": {},
     "output_type": "execute_result"
    }
   ],
   "source": [
    "temp3_agg_sorted= temp3_agg.sort_values(\"Number of Harassment/Physical Offenses\", ascending=False)\n",
    "temp3_agg_sorted.head(5)"
   ]
  },
  {
   "cell_type": "code",
   "execution_count": 30,
   "metadata": {},
   "outputs": [
    {
     "data": {
      "image/png": "[encoded data removed]",
      "text/plain": [
       "<Figure size 432x288 with 1 Axes>"
      ]
     },
     "metadata": {
      "needs_background": "light"
     },
     "output_type": "display_data"
    },
    {
     "data": {
      "image/png": "[encoded data removed]",
      "text/plain": [
       "<Figure size 432x288 with 1 Axes>"
      ]
     },
     "metadata": {
      "needs_background": "light"
     },
     "output_type": "display_data"
    }
   ],
   "source": [
    "plt = temp3_agg_sorted.iloc[:10].plot(kind='bar', x=\"Neighborhood\", y=\"Number of Harassment/Physical Offenses\", title=\"Pittsburgh Neighborhoods with the Most Number of Harassment/Physical Offenses\")\n",
    "temp3_agg_sorted_opp=temp3_agg.sort_values(\"Number of Harassment/Physical Offenses\", ascending=True)\n",
    "plt = temp3_agg_sorted_opp.iloc[:10].plot(kind='bar', x=\"Neighborhood\", y=\"Number of Harassment/Physical Offenses\", title=\"Pittsburgh Neighborhoods with the Least Number of Harassment/Physical Offenses\")"
   ]
  },
  {
   "cell_type": "markdown",
   "metadata": {},
   "source": [
    "Based on these graphs, we can see that the neighborhood with the most number of harassment/physical offenses to occur is Central Business District, with South Side Flats being second. And the bottom ten neighborhoods for occurences of this citation are ranging from 1-2 instances, starting at Polish Hill with 1."
   ]
  },
  {
   "cell_type": "markdown",
   "metadata": {},
   "source": [
    "Overall, the two neighborhoods who appear to be in the top two places for all three analyzed citations are South Side Flats and Central Business District."
   ]
  },
  {
   "cell_type": "code",
   "execution_count": null,
   "metadata": {},
   "outputs": [],
   "source": []
  }
 ],
 "metadata": {
  "kernelspec": {
   "display_name": "Python 3",
   "language": "python",
   "name": "python3"
  },
  "language_info": {
   "codemirror_mode": {
    "name": "ipython",
    "version": 3
   },
   "file_extension": ".py",
   "mimetype": "text/x-python",
   "name": "python",
   "nbconvert_exporter": "python",
   "pygments_lexer": "ipython3",
   "version": "3.8.3"
  }
 },
 "nbformat": 4,
 "nbformat_minor": 4
}
