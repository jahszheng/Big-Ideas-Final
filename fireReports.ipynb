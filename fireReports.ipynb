{
 "cells": [
  {
   "cell_type": "code",
   "execution_count": 15,
   "metadata": {},
   "outputs": [
    {
     "data": {
      "text/plain": [
       "135"
      ]
     },
     "execution_count": 15,
     "metadata": {},
     "output_type": "execute_result"
    }
   ],
   "source": [
    "import pandas as pd\n",
    "fireReports = pd.read_csv(\"fireReports.csv\")\n",
    "df = pd.DataFrame(fireReports)\n",
    "pitts = 0\n",
    "#find immediate area around pittsburgh and classify the fire danger\n",
    "for i, row in df.iterrows():\n",
    "    cityName = df[\"city_name\"]\n",
    "    if (cityName[i] == \"PITTSBURGH\"):\n",
    "        pitts+=1\n",
    "    \n",
    "#taking count of selected cities' fire incident calls and classifying which city has the safest (best) areas to live\n",
    "#attempt to classify the immediate danger to residents of the area\n",
    "#combine data into a new dataframe and plot onto a bar graph/ histograph"
   ]
  },
  {
   "cell_type": "code",
   "execution_count": null,
   "metadata": {},
   "outputs": [],
   "source": []
  }
 ],
 "metadata": {
  "kernelspec": {
   "display_name": "Python 3",
   "language": "python",
   "name": "python3"
  },
  "language_info": {
   "codemirror_mode": {
    "name": "ipython",
    "version": 3
   },
   "file_extension": ".py",
   "mimetype": "text/x-python",
   "name": "python",
   "nbconvert_exporter": "python",
   "pygments_lexer": "ipython3",
   "version": "3.8.3"
  }
 },
 "nbformat": 4,
 "nbformat_minor": 4
}
