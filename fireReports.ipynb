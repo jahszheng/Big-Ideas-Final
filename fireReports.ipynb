{
 "cells": [
  {
   "cell_type": "markdown",
   "metadata": {},
   "source": [
    "**Metric #3: Number of Fire Incidents in the Neighborhood**\n",
    "\n",
    "*Analyzed by Steven Zheng*\n",
    "\n",
    "This dataset is a collection of the fire related incidents around the Allegheny area. The number of fire incidents can be used as a metric to measure the safety of the neighborhood to determine the \"best neighborhood\" in Allegheny County."
   ]
  },
  {
   "cell_type": "code",
   "execution_count": 3,
   "metadata": {},
   "outputs": [
    {
     "data": {
      "text/html": [
       "<div>\n",
       "<style scoped>\n",
       "    .dataframe tbody tr th:only-of-type {\n",
       "        vertical-align: middle;\n",
       "    }\n",
       "\n",
       "    .dataframe tbody tr th {\n",
       "        vertical-align: top;\n",
       "    }\n",
       "\n",
       "    .dataframe thead th {\n",
       "        text-align: right;\n",
       "    }\n",
       "</style>\n",
       "<table border=\"1\" class=\"dataframe\">\n",
       "  <thead>\n",
       "    <tr style=\"text-align: right;\">\n",
       "      <th></th>\n",
       "      <th>call_no</th>\n",
       "      <th>incident_type</th>\n",
       "      <th>type_description</th>\n",
       "      <th>address</th>\n",
       "      <th>alarm_time</th>\n",
       "      <th>alarms</th>\n",
       "      <th>primary_unit</th>\n",
       "      <th>census_tract</th>\n",
       "      <th>neighborhood</th>\n",
       "      <th>council_district</th>\n",
       "      <th>ward</th>\n",
       "      <th>tract</th>\n",
       "      <th>public_works_division</th>\n",
       "      <th>pli_division</th>\n",
       "      <th>police_zone</th>\n",
       "      <th>fire_zone</th>\n",
       "      <th>latitude</th>\n",
       "      <th>longitude</th>\n",
       "    </tr>\n",
       "  </thead>\n",
       "  <tbody>\n",
       "    <tr>\n",
       "      <th>3</th>\n",
       "      <td>F170043431</td>\n",
       "      <td>131.0</td>\n",
       "      <td>Passenger vehicle fire</td>\n",
       "      <td>1700 BLOCK BELLEAU DR, PITTSBURGH PA 15212</td>\n",
       "      <td>2017-05-31T08:39:47</td>\n",
       "      <td>0</td>\n",
       "      <td>231EN38</td>\n",
       "      <td>2509.0</td>\n",
       "      <td>Fineview</td>\n",
       "      <td>6.0</td>\n",
       "      <td>25.0</td>\n",
       "      <td>4.200325e+10</td>\n",
       "      <td>1.0</td>\n",
       "      <td>25.0</td>\n",
       "      <td>1.0</td>\n",
       "      <td>1-10</td>\n",
       "      <td>40.460303</td>\n",
       "      <td>-80.006980</td>\n",
       "    </tr>\n",
       "    <tr>\n",
       "      <th>4</th>\n",
       "      <td>F180021111</td>\n",
       "      <td>111.0</td>\n",
       "      <td>Building fire</td>\n",
       "      <td>2400 BLOCK VILLAGE RD, PITTSBURGH PA 15205</td>\n",
       "      <td>2018-03-09T10:26:42</td>\n",
       "      <td>1</td>\n",
       "      <td>231EN31</td>\n",
       "      <td>2808.0</td>\n",
       "      <td>Fairywood</td>\n",
       "      <td>2.0</td>\n",
       "      <td>28.0</td>\n",
       "      <td>4.200356e+10</td>\n",
       "      <td>5.0</td>\n",
       "      <td>28.0</td>\n",
       "      <td>6.0</td>\n",
       "      <td>1-16</td>\n",
       "      <td>40.449009</td>\n",
       "      <td>-80.076607</td>\n",
       "    </tr>\n",
       "    <tr>\n",
       "      <th>5</th>\n",
       "      <td>F180021782</td>\n",
       "      <td>150.0</td>\n",
       "      <td>Outside rubbish fire, Other</td>\n",
       "      <td>S 7TH ST &amp; E CARSON ST, PITTSBURGH PA 15203</td>\n",
       "      <td>2018-03-12T09:13:28</td>\n",
       "      <td>0</td>\n",
       "      <td>231EN24</td>\n",
       "      <td>1702.0</td>\n",
       "      <td>South Side Flats</td>\n",
       "      <td>3.0</td>\n",
       "      <td>17.0</td>\n",
       "      <td>4.200317e+10</td>\n",
       "      <td>4.0</td>\n",
       "      <td>17.0</td>\n",
       "      <td>3.0</td>\n",
       "      <td>4-2</td>\n",
       "      <td>40.428618</td>\n",
       "      <td>-79.992239</td>\n",
       "    </tr>\n",
       "  </tbody>\n",
       "</table>\n",
       "</div>"
      ],
      "text/plain": [
       "      call_no  incident_type             type_description  \\\n",
       "3  F170043431          131.0       Passenger vehicle fire   \n",
       "4  F180021111          111.0                Building fire   \n",
       "5  F180021782          150.0  Outside rubbish fire, Other   \n",
       "\n",
       "                                       address           alarm_time  alarms  \\\n",
       "3   1700 BLOCK BELLEAU DR, PITTSBURGH PA 15212  2017-05-31T08:39:47       0   \n",
       "4   2400 BLOCK VILLAGE RD, PITTSBURGH PA 15205  2018-03-09T10:26:42       1   \n",
       "5  S 7TH ST & E CARSON ST, PITTSBURGH PA 15203  2018-03-12T09:13:28       0   \n",
       "\n",
       "  primary_unit  census_tract      neighborhood  council_district  ward  \\\n",
       "3      231EN38        2509.0          Fineview               6.0  25.0   \n",
       "4      231EN31        2808.0         Fairywood               2.0  28.0   \n",
       "5      231EN24        1702.0  South Side Flats               3.0  17.0   \n",
       "\n",
       "          tract  public_works_division  pli_division  police_zone fire_zone  \\\n",
       "3  4.200325e+10                    1.0          25.0          1.0      1-10   \n",
       "4  4.200356e+10                    5.0          28.0          6.0      1-16   \n",
       "5  4.200317e+10                    4.0          17.0          3.0       4-2   \n",
       "\n",
       "    latitude  longitude  \n",
       "3  40.460303 -80.006980  \n",
       "4  40.449009 -80.076607  \n",
       "5  40.428618 -79.992239  "
      ]
     },
     "execution_count": 3,
     "metadata": {},
     "output_type": "execute_result"
    }
   ],
   "source": [
    "#import pandas and geopandas\n",
    "import pandas as pd\n",
    "import geopandas as gpd\n",
    "\n",
    "#create a dataframe from the csv file\n",
    "df = pd.DataFrame(pd.read_csv(\"FireIncidents.csv\"))\n",
    "#dropping any null values\n",
    "fireIncidents = df.dropna(subset=[\"neighborhood\"])\n",
    "fireIncidents.head(3)"
   ]
  },
  {
   "cell_type": "markdown",
   "metadata": {},
   "source": [
    "We can see the dataset includes a description of the fire, time the alarmed went off, the primary unit on the site, and the neighborhood in which it happened."
   ]
  },
  {
   "cell_type": "markdown",
   "metadata": {},
   "source": [
    "Focusing on a specific column: type_description, we can find the type of fire that it was. Examples include: building fires, passenger vehicle fires, cooking fires, etc. We can classify the incidents based on the incident type id, the lower the number, the more severe the incident. As an example: a building fire has the value of 111, while a outside equipment fire has the value of 162. A building fire is arguably more severe than a equipment fire. We can analyze this dataset to determine the neighborhood with the least amount of severe incidents and determine the safest area to live in."
   ]
  },
  {
   "cell_type": "markdown",
   "metadata": {},
   "source": [
    "First, we should make a new dataframe as a way to hold our values later on, this specific one will match the neighborhood with its fire incident count."
   ]
  },
  {
   "cell_type": "code",
   "execution_count": 203,
   "metadata": {},
   "outputs": [],
   "source": [
    "incidentCount = pd.DataFrame(columns=[\"Neighborhood\",\"Incident Count\"])\n",
    "incidentCount[\"Neighborhood\"] = fireIncidents[\"neighborhood\"]\n",
    "incidentCount[\"Incident Count\"] = 0"
   ]
  },
  {
   "cell_type": "markdown",
   "metadata": {},
   "source": [
    "Now we can move on to finding the incident count of the individual neighborhoods, right now we are just focusing on the number of incidents, not the specific type of incidents. "
   ]
  },
  {
   "cell_type": "code",
   "execution_count": 52,
   "metadata": {},
   "outputs": [
    {
     "data": {
      "text/html": [
       "<div>\n",
       "<style scoped>\n",
       "    .dataframe tbody tr th:only-of-type {\n",
       "        vertical-align: middle;\n",
       "    }\n",
       "\n",
       "    .dataframe tbody tr th {\n",
       "        vertical-align: top;\n",
       "    }\n",
       "\n",
       "    .dataframe thead th {\n",
       "        text-align: right;\n",
       "    }\n",
       "</style>\n",
       "<table border=\"1\" class=\"dataframe\">\n",
       "  <thead>\n",
       "    <tr style=\"text-align: right;\">\n",
       "      <th></th>\n",
       "      <th>Neighborhood</th>\n",
       "      <th>Incident Count</th>\n",
       "    </tr>\n",
       "  </thead>\n",
       "  <tbody>\n",
       "    <tr>\n",
       "      <th>0</th>\n",
       "      <td>Fineview</td>\n",
       "      <td>46</td>\n",
       "    </tr>\n",
       "    <tr>\n",
       "      <th>0</th>\n",
       "      <td>Fairywood</td>\n",
       "      <td>23</td>\n",
       "    </tr>\n",
       "    <tr>\n",
       "      <th>0</th>\n",
       "      <td>South Side Flats</td>\n",
       "      <td>252</td>\n",
       "    </tr>\n",
       "  </tbody>\n",
       "</table>\n",
       "</div>"
      ],
      "text/plain": [
       "       Neighborhood Incident Count\n",
       "0          Fineview             46\n",
       "0         Fairywood             23\n",
       "0  South Side Flats            252"
      ]
     },
     "execution_count": 52,
     "metadata": {},
     "output_type": "execute_result"
    }
   ],
   "source": [
    "incidentCounter = pd.DataFrame(columns=[\"Neighborhood\",\"Incident Count\"])\n",
    "for i, column in incidentCount.iterrows():\n",
    "    neighborhood = column[\"Neighborhood\"]\n",
    "    \n",
    "    if neighborhood in incidentCounter[\"Neighborhood\"].values:\n",
    "        incidentCounter.loc[incidentCounter[\"Neighborhood\"] == neighborhood, \"Incident Count\"] +=1\n",
    "    \n",
    "    else:\n",
    "        iCount = pd.DataFrame({'Neighborhood': [neighborhood], 'Incident Count' : [1]})\n",
    "        incidentCounter = pd.concat([incidentCounter, iCount])\n",
    "incidentCounter.head(3)\n",
    "        \n",
    "    "
   ]
  },
  {
   "cell_type": "markdown",
   "metadata": {},
   "source": [
    "With the new dataframe filled in, we can now find the neighborhood with the most amount of incidents."
   ]
  },
  {
   "cell_type": "code",
   "execution_count": 30,
   "metadata": {},
   "outputs": [
    {
     "data": {
      "text/html": [
       "<div>\n",
       "<style scoped>\n",
       "    .dataframe tbody tr th:only-of-type {\n",
       "        vertical-align: middle;\n",
       "    }\n",
       "\n",
       "    .dataframe tbody tr th {\n",
       "        vertical-align: top;\n",
       "    }\n",
       "\n",
       "    .dataframe thead th {\n",
       "        text-align: right;\n",
       "    }\n",
       "</style>\n",
       "<table border=\"1\" class=\"dataframe\">\n",
       "  <thead>\n",
       "    <tr style=\"text-align: right;\">\n",
       "      <th></th>\n",
       "      <th>Neighborhood</th>\n",
       "      <th>Incident Count</th>\n",
       "    </tr>\n",
       "  </thead>\n",
       "  <tbody>\n",
       "    <tr>\n",
       "      <th>0</th>\n",
       "      <td>Carrick</td>\n",
       "      <td>281</td>\n",
       "    </tr>\n",
       "    <tr>\n",
       "      <th>0</th>\n",
       "      <td>Central Business District</td>\n",
       "      <td>255</td>\n",
       "    </tr>\n",
       "    <tr>\n",
       "      <th>0</th>\n",
       "      <td>South Side Flats</td>\n",
       "      <td>252</td>\n",
       "    </tr>\n",
       "    <tr>\n",
       "      <th>0</th>\n",
       "      <td>Squirrel Hill South</td>\n",
       "      <td>247</td>\n",
       "    </tr>\n",
       "    <tr>\n",
       "      <th>0</th>\n",
       "      <td>Hazelwood</td>\n",
       "      <td>239</td>\n",
       "    </tr>\n",
       "  </tbody>\n",
       "</table>\n",
       "</div>"
      ],
      "text/plain": [
       "                Neighborhood Incident Count\n",
       "0                    Carrick            281\n",
       "0  Central Business District            255\n",
       "0           South Side Flats            252\n",
       "0        Squirrel Hill South            247\n",
       "0                  Hazelwood            239"
      ]
     },
     "execution_count": 30,
     "metadata": {},
     "output_type": "execute_result"
    }
   ],
   "source": [
    "high = incidentCounter.sort_values(\"Incident Count\", ascending = False)\n",
    "high.head(5)"
   ]
  },
  {
   "cell_type": "code",
   "execution_count": 38,
   "metadata": {},
   "outputs": [
    {
     "data": {
      "image/png": "[encoded data removed]",
      "text/plain": [
       "<Figure size 432x288 with 1 Axes>"
      ]
     },
     "metadata": {
      "needs_background": "light"
     },
     "output_type": "display_data"
    }
   ],
   "source": [
    "plot = high.iloc[:10].plot(kind = 'bar', x = \"Neighborhood\", y = \"Incident Count\", title = \"Pittsburgh Neighborhoods with the Most Fire Incidents\")"
   ]
  },
  {
   "cell_type": "markdown",
   "metadata": {},
   "source": [
    "We can see that Carrick has the most amount of fire incidents, with Central Business District and South Side Flats not far behind."
   ]
  },
  {
   "cell_type": "code",
   "execution_count": 40,
   "metadata": {},
   "outputs": [
    {
     "data": {
      "image/png": "[encoded data removed]",
      "text/plain": [
       "<Figure size 432x288 with 1 Axes>"
      ]
     },
     "metadata": {
      "needs_background": "light"
     },
     "output_type": "display_data"
    }
   ],
   "source": [
    "low = incidentCounter.sort_values(\"Incident Count\", ascending = True)\n",
    "plot = low.iloc[:10].plot(kind = 'bar', x = \"Neighborhood\", y = \"Incident Count\", title = \"Pittsburgh Neighborhoods with the Least Fire Incidents\")"
   ]
  },
  {
   "cell_type": "markdown",
   "metadata": {},
   "source": [
    "Similar to the previous graph, this graph shows the amount of fire incidents, but differs as it shows the neighborhoods with the least amount. The neighborhood with the least amount is Mount Oliver Borough with 6."
   ]
  },
  {
   "cell_type": "markdown",
   "metadata": {},
   "source": [
    "Repeating the process of finding fire incidents, but this time we are focusing on the severity of the fire. Once again we create a new dataframe from the csv file and set the number of incidents to zero."
   ]
  },
  {
   "cell_type": "code",
   "execution_count": 205,
   "metadata": {},
   "outputs": [],
   "source": [
    "fireC = pd.DataFrame(columns = [\"Neighborhood\", \"Number of Severe Fires(111)\"])\n",
    "fireC[\"Neighborhood\"] = fireIncidents[\"neighborhood\"]\n",
    "fireC = fireIncidents[fireIncidents[\"incident_type\"] == 111]"
   ]
  },
  {
   "cell_type": "markdown",
   "metadata": {},
   "source": [
    "Now we can determine the neighborhood with the largest amount of severe fires"
   ]
  },
  {
   "cell_type": "code",
   "execution_count": 206,
   "metadata": {},
   "outputs": [],
   "source": [
    "fireNumber = pd.DataFrame(columns = [\"Neighborhood\", \"Number of Severe Fires(111)\"])\n",
    "\n",
    "for i, column in fireC.iterrows():\n",
    "    neighborhood = column[\"neighborhood\"]\n",
    "    if neighborhood in fireNumber[\"Neighborhood\"].values:\n",
    "        fireNumber.loc[fireNumber[\"Neighborhood\"] == neighborhood, \"Number of Severe Fires(111)\"]+=1 \n",
    "    \n",
    "    else:\n",
    "        fire_row = pd.DataFrame({\"Neighborhood\": [neighborhood], \"Number of Severe Fires(111)\":[1]})\n",
    "        fireNumber = pd.concat([fireNumber, fire_row])"
   ]
  },
  {
   "cell_type": "code",
   "execution_count": 207,
   "metadata": {},
   "outputs": [
    {
     "data": {
      "text/html": [
       "<div>\n",
       "<style scoped>\n",
       "    .dataframe tbody tr th:only-of-type {\n",
       "        vertical-align: middle;\n",
       "    }\n",
       "\n",
       "    .dataframe tbody tr th {\n",
       "        vertical-align: top;\n",
       "    }\n",
       "\n",
       "    .dataframe thead th {\n",
       "        text-align: right;\n",
       "    }\n",
       "</style>\n",
       "<table border=\"1\" class=\"dataframe\">\n",
       "  <thead>\n",
       "    <tr style=\"text-align: right;\">\n",
       "      <th></th>\n",
       "      <th>Neighborhood</th>\n",
       "      <th>Number of Severe Fires(111)</th>\n",
       "    </tr>\n",
       "  </thead>\n",
       "  <tbody>\n",
       "    <tr>\n",
       "      <th>0</th>\n",
       "      <td>Carrick</td>\n",
       "      <td>80</td>\n",
       "    </tr>\n",
       "    <tr>\n",
       "      <th>0</th>\n",
       "      <td>Homewood North</td>\n",
       "      <td>59</td>\n",
       "    </tr>\n",
       "    <tr>\n",
       "      <th>0</th>\n",
       "      <td>Sheraden</td>\n",
       "      <td>58</td>\n",
       "    </tr>\n",
       "    <tr>\n",
       "      <th>0</th>\n",
       "      <td>Knoxville</td>\n",
       "      <td>57</td>\n",
       "    </tr>\n",
       "    <tr>\n",
       "      <th>0</th>\n",
       "      <td>Homewood South</td>\n",
       "      <td>49</td>\n",
       "    </tr>\n",
       "    <tr>\n",
       "      <th>0</th>\n",
       "      <td>Lincoln-Lemington-Belmar</td>\n",
       "      <td>48</td>\n",
       "    </tr>\n",
       "    <tr>\n",
       "      <th>0</th>\n",
       "      <td>Beltzhoover</td>\n",
       "      <td>45</td>\n",
       "    </tr>\n",
       "    <tr>\n",
       "      <th>0</th>\n",
       "      <td>Perry South</td>\n",
       "      <td>44</td>\n",
       "    </tr>\n",
       "    <tr>\n",
       "      <th>0</th>\n",
       "      <td>Mount Washington</td>\n",
       "      <td>43</td>\n",
       "    </tr>\n",
       "    <tr>\n",
       "      <th>0</th>\n",
       "      <td>Larimer</td>\n",
       "      <td>43</td>\n",
       "    </tr>\n",
       "  </tbody>\n",
       "</table>\n",
       "</div>"
      ],
      "text/plain": [
       "               Neighborhood Number of Severe Fires(111)\n",
       "0                   Carrick                          80\n",
       "0            Homewood North                          59\n",
       "0                  Sheraden                          58\n",
       "0                 Knoxville                          57\n",
       "0            Homewood South                          49\n",
       "0  Lincoln-Lemington-Belmar                          48\n",
       "0               Beltzhoover                          45\n",
       "0               Perry South                          44\n",
       "0          Mount Washington                          43\n",
       "0                   Larimer                          43"
      ]
     },
     "execution_count": 207,
     "metadata": {},
     "output_type": "execute_result"
    }
   ],
   "source": [
    "sort_high = fireNumber.sort_values(\"Number of Severe Fires(111)\", ascending = False)\n",
    "sort_high.head(10)"
   ]
  },
  {
   "cell_type": "code",
   "execution_count": 208,
   "metadata": {},
   "outputs": [
    {
     "data": {
      "image/png": "[encoded data removed]",
      "text/plain": [
       "<Figure size 432x288 with 1 Axes>"
      ]
     },
     "metadata": {
      "needs_background": "light"
     },
     "output_type": "display_data"
    }
   ],
   "source": [
    "plt = sort_high.iloc[:10].plot(kind='bar', x= 'Neighborhood', y= 'Number of Severe Fires(111)',title= \"Pittsburgh Neighborhoods with the Most Amount of Severe Fires\")"
   ]
  },
  {
   "cell_type": "code",
   "execution_count": 209,
   "metadata": {},
   "outputs": [
    {
     "data": {
      "image/png": "[encoded data removed]",
      "text/plain": [
       "<Figure size 432x288 with 1 Axes>"
      ]
     },
     "metadata": {
      "needs_background": "light"
     },
     "output_type": "display_data"
    }
   ],
   "source": [
    "sort_low = fireNumber.sort_values(\"Number of Severe Fires(111)\", ascending = True)\n",
    "plt = sort_low.iloc[:10].plot(kind = 'bar',x = \"Neighborhood\", y = \"Number of Severe Fires(111)\", title = \"Pittsburgh Neighborhoods with the Least Amount of Severe Fires\")"
   ]
  },
  {
   "cell_type": "markdown",
   "metadata": {},
   "source": [
    "Glancing at the bar graphs we can see that Glen Hazel has the least amount of severe fires, while Carrick has the greatest amount. If we look at the overall amount of fire incidents, Carrick is the neighborhood with the most incidents. This means that Carrick is the neighborhood most prone to having fire incidents and having severe fire incidents compared to the rest of the Pittsburgh neighborhoods. Glen Hazel is the neighborhood with the least amount of severe fires, however it not the neighborhood with the lowest amount of fire incidents, that would be Mount Oliver Borough. We can determine the overall safest neighborhood by searching for the incident count of Glen Hazel and the severe incident count of Mount Oliver Borough. Then we can compare the two to determine the safest neighborhood."
   ]
  },
  {
   "cell_type": "code",
   "execution_count": 214,
   "metadata": {},
   "outputs": [
    {
     "data": {
      "text/html": [
       "<div>\n",
       "<style scoped>\n",
       "    .dataframe tbody tr th:only-of-type {\n",
       "        vertical-align: middle;\n",
       "    }\n",
       "\n",
       "    .dataframe tbody tr th {\n",
       "        vertical-align: top;\n",
       "    }\n",
       "\n",
       "    .dataframe thead th {\n",
       "        text-align: right;\n",
       "    }\n",
       "</style>\n",
       "<table border=\"1\" class=\"dataframe\">\n",
       "  <thead>\n",
       "    <tr style=\"text-align: right;\">\n",
       "      <th></th>\n",
       "      <th>Neighborhood</th>\n",
       "      <th>Incident Count</th>\n",
       "    </tr>\n",
       "  </thead>\n",
       "  <tbody>\n",
       "    <tr>\n",
       "      <th>0</th>\n",
       "      <td>Glen Hazel</td>\n",
       "      <td>20</td>\n",
       "    </tr>\n",
       "  </tbody>\n",
       "</table>\n",
       "</div>"
      ],
      "text/plain": [
       "  Neighborhood Incident Count\n",
       "0   Glen Hazel             20"
      ]
     },
     "execution_count": 214,
     "metadata": {},
     "output_type": "execute_result"
    }
   ],
   "source": [
    "incidentCounter.query('Neighborhood.str.startswith(\"Glen Hazel\")')"
   ]
  },
  {
   "cell_type": "code",
   "execution_count": 216,
   "metadata": {},
   "outputs": [
    {
     "data": {
      "text/html": [
       "<div>\n",
       "<style scoped>\n",
       "    .dataframe tbody tr th:only-of-type {\n",
       "        vertical-align: middle;\n",
       "    }\n",
       "\n",
       "    .dataframe tbody tr th {\n",
       "        vertical-align: top;\n",
       "    }\n",
       "\n",
       "    .dataframe thead th {\n",
       "        text-align: right;\n",
       "    }\n",
       "</style>\n",
       "<table border=\"1\" class=\"dataframe\">\n",
       "  <thead>\n",
       "    <tr style=\"text-align: right;\">\n",
       "      <th></th>\n",
       "      <th>Neighborhood</th>\n",
       "      <th>Number of Severe Fires(111)</th>\n",
       "    </tr>\n",
       "  </thead>\n",
       "  <tbody>\n",
       "    <tr>\n",
       "      <th>0</th>\n",
       "      <td>Mount Oliver Borough</td>\n",
       "      <td>2</td>\n",
       "    </tr>\n",
       "  </tbody>\n",
       "</table>\n",
       "</div>"
      ],
      "text/plain": [
       "           Neighborhood Number of Severe Fires(111)\n",
       "0  Mount Oliver Borough                           2"
      ]
     },
     "execution_count": 216,
     "metadata": {},
     "output_type": "execute_result"
    }
   ],
   "source": [
    "fireNumber.query('Neighborhood.str.startswith(\"Mount Oliver Borough\")')"
   ]
  },
  {
   "cell_type": "markdown",
   "metadata": {},
   "source": [
    "After a quick comparison, it can be stated that Mount Olvier Borough is the least flammable (safest) neighborhood in the Allegheny area with 2 severe fires incident and an overall incident count of 6. In comparison, Glen Hazel has 20 incident counts and only 1 severe fire incident."
   ]
  },
  {
   "cell_type": "code",
   "execution_count": null,
   "metadata": {},
   "outputs": [],
   "source": []
  }
 ],
 "metadata": {
  "kernelspec": {
   "display_name": "Python 3",
   "language": "python",
   "name": "python3"
  },
  "language_info": {
   "codemirror_mode": {
    "name": "ipython",
    "version": 3
   },
   "file_extension": ".py",
   "mimetype": "text/x-python",
   "name": "python",
   "nbconvert_exporter": "python",
   "pygments_lexer": "ipython3",
   "version": "3.8.3"
  }
 },
 "nbformat": 4,
 "nbformat_minor": 4
}
