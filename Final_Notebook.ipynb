{
 "cells": [
  {
   "cell_type": "markdown",
   "metadata": {},
   "source": [
    "# Which Neighborhood in Pittsburgh is the Safest?"
   ]
  },
  {
   "cell_type": "markdown",
   "metadata": {},
   "source": [
    "## By Group 30: Steven Zheng and Valerie Schaible"
   ]
  },
  {
   "attachments": {},
   "cell_type": "markdown",
   "metadata": {},
   "source": [
    "**Introduction:**\n",
    "    While Pitt offers beautiful dorm halls as on-campus housing options, many Pitt students opt to live off-campus after their freshman year. Because this may be their first time living without their parents or the rigorous structure of the dorms, a big factor in determing their new home is finding a place they can feel safe. We thought Pitt students might be interested to see which neighborhoods are the safest/least safe in the city of Pittsburgh before they go hunting for housing."
   ]
  },
  {
   "attachments": {},
   "cell_type": "markdown",
   "metadata": {},
   "source": [
    "**Our Metric: Overall Safety**\n",
    "\n",
    "We decided to measure this metric based on three things:\n",
    "1. Police Incidents Per Neighborhood\n",
    "2. Non-Traffic Citations Per Neighborhood\n",
    "3. Fire Incidents Per Neighborhood\n",
    "        \n",
    "        \n",
    "        \n",
    "We used three datasets for this analysis:\n",
    "\n",
    "1. [Police Incident Blotter](https://data.wprdc.org/datastore/dump/1797ead8-8262-41cc-9099-cbc8a161924b)\n",
    "   We used this dataset to analyze the number of police incidents per neighborhood.\n",
    "  \n",
    "2. [Citations](https://data.wprdc.org/datastore/dump/6b11e87d-1216-463d-bbd3-37460e539d86)\n",
    "   We used this dataset to analyze the number/severity of citations per nieghborhood.\n",
    "    \n",
    "3. [Fire Incidents](https://data.wprdc.org/datastore/dump/8d76ac6b-5ae8-4428-82a4-043130d17b02)\n",
    "   We used this dataset to analyze the number of fire incidents per neighborhood."
   ]
  },
  {
   "cell_type": "markdown",
   "metadata": {},
   "source": [
    "# Metric #1 Number of Citations Per Neighborhood"
   ]
  },
  {
   "cell_type": "markdown",
   "metadata": {},
   "source": [
    "**Analyzed by Valerie Schaible**"
   ]
  },
  {
   "cell_type": "markdown",
   "metadata": {},
   "source": [
    "Citations in Pittsburgh are low level crimes, including harrasment, disorderly conduct, and more, in which law enforcement opts to issue a citation or fine instead of arresting the perpetartor. This datasets contains all the non-traffic citations in Pittsburgh. We are including these citations as a metric because even though they are not on the same level as the police incidents, they can definitely contribute to a lack of personal saefty in any given neighborhood."
   ]
  },
  {
   "cell_type": "code",
   "execution_count": 1,
   "metadata": {},
   "outputs": [
    {
     "data": {
      "text/html": [
       "<div>\n",
       "<style scoped>\n",
       "    .dataframe tbody tr th:only-of-type {\n",
       "        vertical-align: middle;\n",
       "    }\n",
       "\n",
       "    .dataframe tbody tr th {\n",
       "        vertical-align: top;\n",
       "    }\n",
       "\n",
       "    .dataframe thead th {\n",
       "        text-align: right;\n",
       "    }\n",
       "</style>\n",
       "<table border=\"1\" class=\"dataframe\">\n",
       "  <thead>\n",
       "    <tr style=\"text-align: right;\">\n",
       "      <th></th>\n",
       "      <th>PK</th>\n",
       "      <th>CCR</th>\n",
       "      <th>GENDER</th>\n",
       "      <th>RACE</th>\n",
       "      <th>AGE</th>\n",
       "      <th>CITEDTIME</th>\n",
       "      <th>INCIDENTLOCATION</th>\n",
       "      <th>OFFENSES</th>\n",
       "      <th>NEIGHBORHOOD</th>\n",
       "      <th>ZONE</th>\n",
       "      <th>INCIDENTTRACT</th>\n",
       "      <th>COUNCIL_DISTRICT</th>\n",
       "      <th>PUBLIC_WORKS_DIVISION</th>\n",
       "      <th>X</th>\n",
       "      <th>Y</th>\n",
       "      <th>geometry</th>\n",
       "    </tr>\n",
       "  </thead>\n",
       "  <tbody>\n",
       "    <tr>\n",
       "      <th>0</th>\n",
       "      <td>1078081</td>\n",
       "      <td>16157849</td>\n",
       "      <td>M</td>\n",
       "      <td>B</td>\n",
       "      <td>29</td>\n",
       "      <td>2016-08-22T23:45:00</td>\n",
       "      <td>200 Block N DITHRIDGE ST PITTSBURGH, PA</td>\n",
       "      <td>5503(a)(2) DISORDERLY CONDUCT - UNREASONABLE N...</td>\n",
       "      <td>North Oakland</td>\n",
       "      <td>4</td>\n",
       "      <td>507</td>\n",
       "      <td>8</td>\n",
       "      <td>3</td>\n",
       "      <td>-79.95169208</td>\n",
       "      <td>40.44931132</td>\n",
       "      <td>None</td>\n",
       "    </tr>\n",
       "    <tr>\n",
       "      <th>1</th>\n",
       "      <td>1078082</td>\n",
       "      <td>16157849</td>\n",
       "      <td>M</td>\n",
       "      <td>W</td>\n",
       "      <td>21</td>\n",
       "      <td>2016-08-22T23:45:00</td>\n",
       "      <td>200 Block N DITHRIDGE ST PITTSBURGH, PA</td>\n",
       "      <td>5503(a)(2) DISORDERLY CONDUCT - UNREASONABLE N...</td>\n",
       "      <td>North Oakland</td>\n",
       "      <td>4</td>\n",
       "      <td>507</td>\n",
       "      <td>8</td>\n",
       "      <td>3</td>\n",
       "      <td>-79.95169208</td>\n",
       "      <td>40.44931132</td>\n",
       "      <td>None</td>\n",
       "    </tr>\n",
       "    <tr>\n",
       "      <th>2</th>\n",
       "      <td>1078083</td>\n",
       "      <td>16159579</td>\n",
       "      <td></td>\n",
       "      <td></td>\n",
       "      <td></td>\n",
       "      <td>2016-08-25T11:10:00</td>\n",
       "      <td>NORTH PARK PITTSBURGH, PA</td>\n",
       "      <td>5505 Public Drunkenness</td>\n",
       "      <td>Allegheny Center</td>\n",
       "      <td>1</td>\n",
       "      <td>2204</td>\n",
       "      <td></td>\n",
       "      <td></td>\n",
       "      <td></td>\n",
       "      <td></td>\n",
       "      <td>None</td>\n",
       "    </tr>\n",
       "  </tbody>\n",
       "</table>\n",
       "</div>"
      ],
      "text/plain": [
       "        PK       CCR GENDER RACE AGE            CITEDTIME  \\\n",
       "0  1078081  16157849      M    B  29  2016-08-22T23:45:00   \n",
       "1  1078082  16157849      M    W  21  2016-08-22T23:45:00   \n",
       "2  1078083  16159579                  2016-08-25T11:10:00   \n",
       "\n",
       "                           INCIDENTLOCATION  \\\n",
       "0  200 Block N DITHRIDGE ST PITTSBURGH, PA    \n",
       "1  200 Block N DITHRIDGE ST PITTSBURGH, PA    \n",
       "2                NORTH PARK PITTSBURGH, PA    \n",
       "\n",
       "                                            OFFENSES      NEIGHBORHOOD ZONE  \\\n",
       "0  5503(a)(2) DISORDERLY CONDUCT - UNREASONABLE N...     North Oakland    4   \n",
       "1  5503(a)(2) DISORDERLY CONDUCT - UNREASONABLE N...     North Oakland    4   \n",
       "2                            5505 Public Drunkenness  Allegheny Center    1   \n",
       "\n",
       "  INCIDENTTRACT COUNCIL_DISTRICT PUBLIC_WORKS_DIVISION             X  \\\n",
       "0           507                8                     3  -79.95169208   \n",
       "1           507                8                     3  -79.95169208   \n",
       "2          2204                                                        \n",
       "\n",
       "             Y geometry  \n",
       "0  40.44931132     None  \n",
       "1  40.44931132     None  \n",
       "2                  None  "
      ]
     },
     "execution_count": 1,
     "metadata": {},
     "output_type": "execute_result"
    }
   ],
   "source": [
    "import geopandas as gpd\n",
    "import pandas as pd\n",
    "\n",
    "# Load in the citations\n",
    "citations= gpd.read_file('Citations.csv')\n",
    "\n",
    "citations.head(3)"
   ]
  },
  {
   "attachments": {},
   "cell_type": "markdown",
   "metadata": {},
   "source": [
    "We can see that the dataset provides a description of the offense, with examples such as disorderly conduct the includes the destrcution of another's property, public drunkeness, and scattering dangerous waste into public spaces and waters. The dataset doesn't have a set hierarchy, but we can classify certain citations as \"most likely to cause harm to other individuals.\""
   ]
  },
  {
   "attachments": {},
   "cell_type": "markdown",
   "metadata": {},
   "source": [
    "The first severe citation we can analyze is the offense labeled : \"5503(a)(4) DISORDERLY CONDUCT-HAZARDOUS/PHYS.OFF\""
   ]
  },
  {
   "cell_type": "code",
   "execution_count": 2,
   "metadata": {},
   "outputs": [
    {
     "data": {
      "text/html": [
       "<div>\n",
       "<style scoped>\n",
       "    .dataframe tbody tr th:only-of-type {\n",
       "        vertical-align: middle;\n",
       "    }\n",
       "\n",
       "    .dataframe tbody tr th {\n",
       "        vertical-align: top;\n",
       "    }\n",
       "\n",
       "    .dataframe thead th {\n",
       "        text-align: right;\n",
       "    }\n",
       "</style>\n",
       "<table border=\"1\" class=\"dataframe\">\n",
       "  <thead>\n",
       "    <tr style=\"text-align: right;\">\n",
       "      <th></th>\n",
       "      <th>PK</th>\n",
       "      <th>CCR</th>\n",
       "      <th>GENDER</th>\n",
       "      <th>RACE</th>\n",
       "      <th>AGE</th>\n",
       "      <th>CITEDTIME</th>\n",
       "      <th>INCIDENTLOCATION</th>\n",
       "      <th>OFFENSES</th>\n",
       "      <th>NEIGHBORHOOD</th>\n",
       "      <th>ZONE</th>\n",
       "      <th>INCIDENTTRACT</th>\n",
       "      <th>COUNCIL_DISTRICT</th>\n",
       "      <th>PUBLIC_WORKS_DIVISION</th>\n",
       "      <th>X</th>\n",
       "      <th>Y</th>\n",
       "      <th>geometry</th>\n",
       "    </tr>\n",
       "  </thead>\n",
       "  <tbody>\n",
       "    <tr>\n",
       "      <th>15</th>\n",
       "      <td>1078043</td>\n",
       "      <td>16048495</td>\n",
       "      <td>M</td>\n",
       "      <td>W</td>\n",
       "      <td>27</td>\n",
       "      <td>2016-03-18T00:50:00</td>\n",
       "      <td>1500 Block E CARSON ST PITTSBURGH, PA</td>\n",
       "      <td>5503(a)(4) DISORDERLY CONDUCT - HAZARDOUS/PHYS...</td>\n",
       "      <td>South Side Flats</td>\n",
       "      <td>3</td>\n",
       "      <td>1702</td>\n",
       "      <td>3</td>\n",
       "      <td>3</td>\n",
       "      <td>-79.98330671</td>\n",
       "      <td>40.42868483</td>\n",
       "      <td>None</td>\n",
       "    </tr>\n",
       "    <tr>\n",
       "      <th>23</th>\n",
       "      <td>1078051</td>\n",
       "      <td>16053250</td>\n",
       "      <td>F</td>\n",
       "      <td>B</td>\n",
       "      <td>26</td>\n",
       "      <td>2016-03-25T01:55:00</td>\n",
       "      <td>WEST LIBERTY AV &amp; PIONEER AV PITTSBURGH, PA</td>\n",
       "      <td>5503(a)(4) DISORDERLY CONDUCT - HAZARDOUS/PHYS...</td>\n",
       "      <td>Brookline</td>\n",
       "      <td>6</td>\n",
       "      <td>1917</td>\n",
       "      <td>4</td>\n",
       "      <td>5</td>\n",
       "      <td>-80.01011991</td>\n",
       "      <td>40.41291213</td>\n",
       "      <td>None</td>\n",
       "    </tr>\n",
       "    <tr>\n",
       "      <th>64</th>\n",
       "      <td>1077859</td>\n",
       "      <td>16148744</td>\n",
       "      <td>M</td>\n",
       "      <td>W</td>\n",
       "      <td>45</td>\n",
       "      <td>2016-08-10T03:30:00</td>\n",
       "      <td>7TH STREET BRIDGE PITTSBURGH, PA</td>\n",
       "      <td>5503(a)(4) DISORDERLY CONDUCT - HAZARDOUS/PHYS...</td>\n",
       "      <td>Golden Triangle/Civic Arena</td>\n",
       "      <td>2</td>\n",
       "      <td>201</td>\n",
       "      <td>2</td>\n",
       "      <td>5</td>\n",
       "      <td>-80.05910627</td>\n",
       "      <td>40.42937714</td>\n",
       "      <td>None</td>\n",
       "    </tr>\n",
       "  </tbody>\n",
       "</table>\n",
       "</div>"
      ],
      "text/plain": [
       "         PK       CCR GENDER RACE AGE            CITEDTIME  \\\n",
       "15  1078043  16048495      M    W  27  2016-03-18T00:50:00   \n",
       "23  1078051  16053250      F    B  26  2016-03-25T01:55:00   \n",
       "64  1077859  16148744      M    W  45  2016-08-10T03:30:00   \n",
       "\n",
       "                                INCIDENTLOCATION  \\\n",
       "15        1500 Block E CARSON ST PITTSBURGH, PA    \n",
       "23  WEST LIBERTY AV & PIONEER AV PITTSBURGH, PA    \n",
       "64             7TH STREET BRIDGE PITTSBURGH, PA    \n",
       "\n",
       "                                             OFFENSES  \\\n",
       "15  5503(a)(4) DISORDERLY CONDUCT - HAZARDOUS/PHYS...   \n",
       "23  5503(a)(4) DISORDERLY CONDUCT - HAZARDOUS/PHYS...   \n",
       "64  5503(a)(4) DISORDERLY CONDUCT - HAZARDOUS/PHYS...   \n",
       "\n",
       "                   NEIGHBORHOOD ZONE INCIDENTTRACT COUNCIL_DISTRICT  \\\n",
       "15             South Side Flats    3          1702                3   \n",
       "23                    Brookline    6          1917                4   \n",
       "64  Golden Triangle/Civic Arena    2           201                2   \n",
       "\n",
       "   PUBLIC_WORKS_DIVISION             X            Y geometry  \n",
       "15                     3  -79.98330671  40.42868483     None  \n",
       "23                     5  -80.01011991  40.41291213     None  \n",
       "64                     5  -80.05910627  40.42937714     None  "
      ]
     },
     "execution_count": 2,
     "metadata": {},
     "output_type": "execute_result"
    }
   ],
   "source": [
    "hazards=gpd.read_file('Citations.csv')\n",
    "#sort dataset to only include citations with this offense\n",
    "hazards=hazards[hazards[\"OFFENSES\"] == \"5503(a)(4) DISORDERLY CONDUCT - HAZARDOUS/PHYS. OFF\"]\n",
    "\n",
    "hazards.head(3)"
   ]
  },
  {
   "cell_type": "markdown",
   "metadata": {},
   "source": [
    "Now we can determine which neighborhoods have the highest numbers of this specific citation."
   ]
  },
  {
   "cell_type": "code",
   "execution_count": 3,
   "metadata": {},
   "outputs": [
    {
     "data": {
      "text/html": [
       "<div>\n",
       "<style scoped>\n",
       "    .dataframe tbody tr th:only-of-type {\n",
       "        vertical-align: middle;\n",
       "    }\n",
       "\n",
       "    .dataframe tbody tr th {\n",
       "        vertical-align: top;\n",
       "    }\n",
       "\n",
       "    .dataframe thead th {\n",
       "        text-align: right;\n",
       "    }\n",
       "</style>\n",
       "<table border=\"1\" class=\"dataframe\">\n",
       "  <thead>\n",
       "    <tr style=\"text-align: right;\">\n",
       "      <th></th>\n",
       "      <th>Neighborhood</th>\n",
       "      <th>Number of 5503(a)(4) Offenses</th>\n",
       "    </tr>\n",
       "  </thead>\n",
       "  <tbody>\n",
       "    <tr>\n",
       "      <th>15</th>\n",
       "      <td>South Side Flats</td>\n",
       "      <td>0</td>\n",
       "    </tr>\n",
       "    <tr>\n",
       "      <th>23</th>\n",
       "      <td>Brookline</td>\n",
       "      <td>0</td>\n",
       "    </tr>\n",
       "    <tr>\n",
       "      <th>64</th>\n",
       "      <td>Golden Triangle/Civic Arena</td>\n",
       "      <td>0</td>\n",
       "    </tr>\n",
       "  </tbody>\n",
       "</table>\n",
       "</div>"
      ],
      "text/plain": [
       "                   Neighborhood  Number of 5503(a)(4) Offenses\n",
       "15             South Side Flats                              0\n",
       "23                    Brookline                              0\n",
       "64  Golden Triangle/Civic Arena                              0"
      ]
     },
     "execution_count": 3,
     "metadata": {},
     "output_type": "execute_result"
    }
   ],
   "source": [
    "temp = pd.DataFrame(columns = [\"Neighborhood\" ,\"Number of 5503(a)(4) Offenses\"])\n",
    "temp[\"Neighborhood\"] = hazards[\"NEIGHBORHOOD\"]\n",
    "temp[\"Number of 5503(a)(4) Offenses\"]=0\n",
    "\n",
    "temp.head(3)\n"
   ]
  },
  {
   "cell_type": "code",
   "execution_count": 4,
   "metadata": {},
   "outputs": [
    {
     "data": {
      "text/html": [
       "<div>\n",
       "<style scoped>\n",
       "    .dataframe tbody tr th:only-of-type {\n",
       "        vertical-align: middle;\n",
       "    }\n",
       "\n",
       "    .dataframe tbody tr th {\n",
       "        vertical-align: top;\n",
       "    }\n",
       "\n",
       "    .dataframe thead th {\n",
       "        text-align: right;\n",
       "    }\n",
       "</style>\n",
       "<table border=\"1\" class=\"dataframe\">\n",
       "  <thead>\n",
       "    <tr style=\"text-align: right;\">\n",
       "      <th></th>\n",
       "      <th>Neighborhood</th>\n",
       "      <th>Number of 5503(a)(4) Offenses</th>\n",
       "    </tr>\n",
       "  </thead>\n",
       "  <tbody>\n",
       "    <tr>\n",
       "      <th>0</th>\n",
       "      <td>South Side Flats</td>\n",
       "      <td>146</td>\n",
       "    </tr>\n",
       "    <tr>\n",
       "      <th>0</th>\n",
       "      <td>Brookline</td>\n",
       "      <td>18</td>\n",
       "    </tr>\n",
       "    <tr>\n",
       "      <th>0</th>\n",
       "      <td>Golden Triangle/Civic Arena</td>\n",
       "      <td>2</td>\n",
       "    </tr>\n",
       "  </tbody>\n",
       "</table>\n",
       "</div>"
      ],
      "text/plain": [
       "                  Neighborhood Number of 5503(a)(4) Offenses\n",
       "0             South Side Flats                           146\n",
       "0                    Brookline                            18\n",
       "0  Golden Triangle/Civic Arena                             2"
      ]
     },
     "execution_count": 4,
     "metadata": {},
     "output_type": "execute_result"
    }
   ],
   "source": [
    "temp_agg = pd.DataFrame(columns = [\"Neighborhood\", \"Number of 5503(a)(4) Offenses\"])\n",
    "for i, row in temp.iterrows():\n",
    "    neighborhood = row[\"Neighborhood\"]\n",
    " # Check to see if the neighborhood is already been acremented\n",
    "        #If so, increment the number of citations in that neighborhood\n",
    "    if neighborhood in temp_agg[\"Neighborhood\"].values:\n",
    "            temp_agg.loc[temp_agg[\"Neighborhood\"] == neighborhood, \"Number of 5503(a)(4) Offenses\"] += 1\n",
    "    else:\n",
    "        # If not, add a new row to the aggregated DataFrame\n",
    "            agg_new_row = pd.DataFrame({ 'Neighborhood': [neighborhood], 'Number of 5503(a)(4) Offenses': [1] })\n",
    "            temp_agg = pd.concat([temp_agg, agg_new_row])\n",
    "temp_agg.head(3)"
   ]
  },
  {
   "cell_type": "code",
   "execution_count": 5,
   "metadata": {},
   "outputs": [
    {
     "data": {
      "text/html": [
       "<div>\n",
       "<style scoped>\n",
       "    .dataframe tbody tr th:only-of-type {\n",
       "        vertical-align: middle;\n",
       "    }\n",
       "\n",
       "    .dataframe tbody tr th {\n",
       "        vertical-align: top;\n",
       "    }\n",
       "\n",
       "    .dataframe thead th {\n",
       "        text-align: right;\n",
       "    }\n",
       "</style>\n",
       "<table border=\"1\" class=\"dataframe\">\n",
       "  <thead>\n",
       "    <tr style=\"text-align: right;\">\n",
       "      <th></th>\n",
       "      <th>Neighborhood</th>\n",
       "      <th>Number of 5503(a)(4) Offenses</th>\n",
       "    </tr>\n",
       "  </thead>\n",
       "  <tbody>\n",
       "    <tr>\n",
       "      <th>0</th>\n",
       "      <td>South Side Flats</td>\n",
       "      <td>146</td>\n",
       "    </tr>\n",
       "    <tr>\n",
       "      <th>0</th>\n",
       "      <td>Central Business District</td>\n",
       "      <td>100</td>\n",
       "    </tr>\n",
       "    <tr>\n",
       "      <th>0</th>\n",
       "      <td>North Shore</td>\n",
       "      <td>51</td>\n",
       "    </tr>\n",
       "    <tr>\n",
       "      <th>0</th>\n",
       "      <td>Central Oakland</td>\n",
       "      <td>34</td>\n",
       "    </tr>\n",
       "    <tr>\n",
       "      <th>0</th>\n",
       "      <td>Shadyside</td>\n",
       "      <td>28</td>\n",
       "    </tr>\n",
       "  </tbody>\n",
       "</table>\n",
       "</div>"
      ],
      "text/plain": [
       "                Neighborhood Number of 5503(a)(4) Offenses\n",
       "0           South Side Flats                           146\n",
       "0  Central Business District                           100\n",
       "0                North Shore                            51\n",
       "0            Central Oakland                            34\n",
       "0                  Shadyside                            28"
      ]
     },
     "execution_count": 5,
     "metadata": {},
     "output_type": "execute_result"
    }
   ],
   "source": [
    "temp_agg_sorted= temp_agg.sort_values(\"Number of 5503(a)(4) Offenses\", ascending=False)\n",
    "temp_agg_sorted.head(5)"
   ]
  },
  {
   "cell_type": "markdown",
   "metadata": {},
   "source": [
    "We can see that South Side Flats has the highest number of occurences of this specific citation. Lets plot the top ten neighborhoods."
   ]
  },
  {
   "cell_type": "code",
   "execution_count": 6,
   "metadata": {},
   "outputs": [
    {
     "data": {
      "image/png": "[encoded data removed]",
      "text/plain": [
       "<Figure size 432x288 with 1 Axes>"
      ]
     },
     "metadata": {
      "needs_background": "light"
     },
     "output_type": "display_data"
    }
   ],
   "source": [
    "plt = temp_agg_sorted.iloc[:10].plot(kind='bar', x=\"Neighborhood\", y=\"Number of 5503(a)(4) Offenses\", title=\"Pittsburgh Neighborhoods with the Most Number of 5503(a)(4) Offenses\")"
   ]
  },
  {
   "cell_type": "markdown",
   "metadata": {},
   "source": [
    "Lets also plot the neighborhoods with the least number of occurences of this offense."
   ]
  },
  {
   "cell_type": "code",
   "execution_count": 7,
   "metadata": {},
   "outputs": [
    {
     "data": {
      "image/png": "[encoded data removed]",
      "text/plain": [
       "<Figure size 432x288 with 1 Axes>"
      ]
     },
     "metadata": {
      "needs_background": "light"
     },
     "output_type": "display_data"
    }
   ],
   "source": [
    "temp_agg_sorted_opp=temp_agg.sort_values(\"Number of 5503(a)(4) Offenses\", ascending=True)\n",
    "plt = temp_agg_sorted_opp.iloc[:10].plot(kind='bar', x=\"Neighborhood\", y=\"Number of 5503(a)(4) Offenses\", title=\"Pittsburgh Neighborhoods with the Least Number of 5503(a)(4) Offenses\")"
   ]
  },
  {
   "cell_type": "markdown",
   "metadata": {},
   "source": [
    "Lets repeat this process with the next severe offense."
   ]
  },
  {
   "cell_type": "code",
   "execution_count": 13,
   "metadata": {},
   "outputs": [
    {
     "data": {
      "text/html": [
       "<div>\n",
       "<style scoped>\n",
       "    .dataframe tbody tr th:only-of-type {\n",
       "        vertical-align: middle;\n",
       "    }\n",
       "\n",
       "    .dataframe tbody tr th {\n",
       "        vertical-align: top;\n",
       "    }\n",
       "\n",
       "    .dataframe thead th {\n",
       "        text-align: right;\n",
       "    }\n",
       "</style>\n",
       "<table border=\"1\" class=\"dataframe\">\n",
       "  <thead>\n",
       "    <tr style=\"text-align: right;\">\n",
       "      <th></th>\n",
       "      <th>PK</th>\n",
       "      <th>CCR</th>\n",
       "      <th>GENDER</th>\n",
       "      <th>RACE</th>\n",
       "      <th>AGE</th>\n",
       "      <th>CITEDTIME</th>\n",
       "      <th>INCIDENTLOCATION</th>\n",
       "      <th>OFFENSES</th>\n",
       "      <th>NEIGHBORHOOD</th>\n",
       "      <th>ZONE</th>\n",
       "      <th>INCIDENTTRACT</th>\n",
       "      <th>COUNCIL_DISTRICT</th>\n",
       "      <th>PUBLIC_WORKS_DIVISION</th>\n",
       "      <th>X</th>\n",
       "      <th>Y</th>\n",
       "      <th>geometry</th>\n",
       "    </tr>\n",
       "  </thead>\n",
       "  <tbody>\n",
       "    <tr>\n",
       "      <th>9</th>\n",
       "      <td>1078090</td>\n",
       "      <td>16077700</td>\n",
       "      <td>M</td>\n",
       "      <td>B</td>\n",
       "      <td>24</td>\n",
       "      <td>2016-04-29T01:05:00</td>\n",
       "      <td>80 Block S 15TH ST PITTSBURGH, PA</td>\n",
       "      <td>3304(a)(5) CRIMINAL MISCHIEF - Intentionally D...</td>\n",
       "      <td>South Side Flats</td>\n",
       "      <td>3</td>\n",
       "      <td>1702</td>\n",
       "      <td>3</td>\n",
       "      <td>3</td>\n",
       "      <td>-79.98357299</td>\n",
       "      <td>40.4285553</td>\n",
       "      <td>None</td>\n",
       "    </tr>\n",
       "    <tr>\n",
       "      <th>50</th>\n",
       "      <td>1077845</td>\n",
       "      <td>16154922</td>\n",
       "      <td>M</td>\n",
       "      <td>W</td>\n",
       "      <td>58</td>\n",
       "      <td>2016-08-18T20:05:00</td>\n",
       "      <td>200 Block S FAIRMOUNT ST PITTSBURGH, PA</td>\n",
       "      <td>3304(a)(5) CRIMINAL MISCHIEF - Intentionally D...</td>\n",
       "      <td>Friendship</td>\n",
       "      <td>5</td>\n",
       "      <td>807</td>\n",
       "      <td>7</td>\n",
       "      <td>2</td>\n",
       "      <td>-79.93380359</td>\n",
       "      <td>40.46232738</td>\n",
       "      <td>None</td>\n",
       "    </tr>\n",
       "    <tr>\n",
       "      <th>59</th>\n",
       "      <td>1077854</td>\n",
       "      <td>16153732</td>\n",
       "      <td>F</td>\n",
       "      <td>B</td>\n",
       "      <td>27</td>\n",
       "      <td>2016-08-17T06:08:00</td>\n",
       "      <td>2400 Block PARK HILL DR PITTSBURGH, PA</td>\n",
       "      <td>3304(a)(5) CRIMINAL MISCHIEF - Intentionally D...</td>\n",
       "      <td>East Hills</td>\n",
       "      <td>5</td>\n",
       "      <td>1306</td>\n",
       "      <td>9</td>\n",
       "      <td>2</td>\n",
       "      <td>-79.87380288</td>\n",
       "      <td>40.45582712</td>\n",
       "      <td>None</td>\n",
       "    </tr>\n",
       "  </tbody>\n",
       "</table>\n",
       "</div>"
      ],
      "text/plain": [
       "         PK       CCR GENDER RACE AGE            CITEDTIME  \\\n",
       "9   1078090  16077700      M    B  24  2016-04-29T01:05:00   \n",
       "50  1077845  16154922      M    W  58  2016-08-18T20:05:00   \n",
       "59  1077854  16153732      F    B  27  2016-08-17T06:08:00   \n",
       "\n",
       "                            INCIDENTLOCATION  \\\n",
       "9         80 Block S 15TH ST PITTSBURGH, PA    \n",
       "50  200 Block S FAIRMOUNT ST PITTSBURGH, PA    \n",
       "59   2400 Block PARK HILL DR PITTSBURGH, PA    \n",
       "\n",
       "                                             OFFENSES      NEIGHBORHOOD ZONE  \\\n",
       "9   3304(a)(5) CRIMINAL MISCHIEF - Intentionally D...  South Side Flats    3   \n",
       "50  3304(a)(5) CRIMINAL MISCHIEF - Intentionally D...        Friendship    5   \n",
       "59  3304(a)(5) CRIMINAL MISCHIEF - Intentionally D...        East Hills    5   \n",
       "\n",
       "   INCIDENTTRACT COUNCIL_DISTRICT PUBLIC_WORKS_DIVISION             X  \\\n",
       "9           1702                3                     3  -79.98357299   \n",
       "50           807                7                     2  -79.93380359   \n",
       "59          1306                9                     2  -79.87380288   \n",
       "\n",
       "              Y geometry  \n",
       "9    40.4285553     None  \n",
       "50  40.46232738     None  \n",
       "59  40.45582712     None  "
      ]
     },
     "execution_count": 13,
     "metadata": {},
     "output_type": "execute_result"
    }
   ],
   "source": [
    "mischief=gpd.read_file('Citations.csv')\n",
    "#sort dataset to only include citations with this offense\n",
    "mischief=mischief[mischief[\"OFFENSES\"] == \"3304(a)(5) CRIMINAL MISCHIEF - Intentionally Damages Real Or Personal Property Of Another\"]\n",
    "\n",
    "mischief.head(3)\n"
   ]
  },
  {
   "cell_type": "code",
   "execution_count": 14,
   "metadata": {},
   "outputs": [
    {
     "data": {
      "text/html": [
       "<div>\n",
       "<style scoped>\n",
       "    .dataframe tbody tr th:only-of-type {\n",
       "        vertical-align: middle;\n",
       "    }\n",
       "\n",
       "    .dataframe tbody tr th {\n",
       "        vertical-align: top;\n",
       "    }\n",
       "\n",
       "    .dataframe thead th {\n",
       "        text-align: right;\n",
       "    }\n",
       "</style>\n",
       "<table border=\"1\" class=\"dataframe\">\n",
       "  <thead>\n",
       "    <tr style=\"text-align: right;\">\n",
       "      <th></th>\n",
       "      <th>Neighborhood</th>\n",
       "      <th>Number of Mischief Offenses</th>\n",
       "    </tr>\n",
       "  </thead>\n",
       "  <tbody>\n",
       "    <tr>\n",
       "      <th>9</th>\n",
       "      <td>South Side Flats</td>\n",
       "      <td>0</td>\n",
       "    </tr>\n",
       "    <tr>\n",
       "      <th>50</th>\n",
       "      <td>Friendship</td>\n",
       "      <td>0</td>\n",
       "    </tr>\n",
       "    <tr>\n",
       "      <th>59</th>\n",
       "      <td>East Hills</td>\n",
       "      <td>0</td>\n",
       "    </tr>\n",
       "  </tbody>\n",
       "</table>\n",
       "</div>"
      ],
      "text/plain": [
       "        Neighborhood  Number of Mischief Offenses\n",
       "9   South Side Flats                            0\n",
       "50        Friendship                            0\n",
       "59        East Hills                            0"
      ]
     },
     "execution_count": 14,
     "metadata": {},
     "output_type": "execute_result"
    }
   ],
   "source": [
    "temp2 = pd.DataFrame(columns = [\"Neighborhood\" ,\"Number of Mischief Offenses\"])\n",
    "temp2[\"Neighborhood\"] = mischief[\"NEIGHBORHOOD\"]\n",
    "temp2[\"Number of Mischief Offenses\"]=0\n",
    "\n",
    "temp2.head(3)"
   ]
  },
  {
   "cell_type": "code",
   "execution_count": 15,
   "metadata": {},
   "outputs": [
    {
     "data": {
      "text/html": [
       "<div>\n",
       "<style scoped>\n",
       "    .dataframe tbody tr th:only-of-type {\n",
       "        vertical-align: middle;\n",
       "    }\n",
       "\n",
       "    .dataframe tbody tr th {\n",
       "        vertical-align: top;\n",
       "    }\n",
       "\n",
       "    .dataframe thead th {\n",
       "        text-align: right;\n",
       "    }\n",
       "</style>\n",
       "<table border=\"1\" class=\"dataframe\">\n",
       "  <thead>\n",
       "    <tr style=\"text-align: right;\">\n",
       "      <th></th>\n",
       "      <th>Neighborhood</th>\n",
       "      <th>Number of Mischief Offenses</th>\n",
       "    </tr>\n",
       "  </thead>\n",
       "  <tbody>\n",
       "    <tr>\n",
       "      <th>0</th>\n",
       "      <td>South Side Flats</td>\n",
       "      <td>44</td>\n",
       "    </tr>\n",
       "    <tr>\n",
       "      <th>0</th>\n",
       "      <td>Friendship</td>\n",
       "      <td>1</td>\n",
       "    </tr>\n",
       "    <tr>\n",
       "      <th>0</th>\n",
       "      <td>East Hills</td>\n",
       "      <td>8</td>\n",
       "    </tr>\n",
       "  </tbody>\n",
       "</table>\n",
       "</div>"
      ],
      "text/plain": [
       "       Neighborhood Number of Mischief Offenses\n",
       "0  South Side Flats                          44\n",
       "0        Friendship                           1\n",
       "0        East Hills                           8"
      ]
     },
     "execution_count": 15,
     "metadata": {},
     "output_type": "execute_result"
    }
   ],
   "source": [
    "temp2_agg = pd.DataFrame(columns = [\"Neighborhood\", \"Number of Mischief Offenses\"])\n",
    "for i, row in temp2.iterrows():\n",
    "    neighborhood = row[\"Neighborhood\"]\n",
    " # Check to see if the neighborhood is already been acremented\n",
    "        #If so, increment the number of citations in that neighborhood\n",
    "    if neighborhood in temp2_agg[\"Neighborhood\"].values:\n",
    "            temp2_agg.loc[temp2_agg[\"Neighborhood\"] == neighborhood, \"Number of Mischief Offenses\"] += 1\n",
    "    else:\n",
    "        # If not, add a new row to the aggregated DataFrame\n",
    "            agg_new_row = pd.DataFrame({ 'Neighborhood': [neighborhood], 'Number of Mischief Offenses': [1] })\n",
    "            temp2_agg = pd.concat([temp2_agg, agg_new_row])\n",
    "temp2_agg.head(3)"
   ]
  },
  {
   "cell_type": "code",
   "execution_count": 16,
   "metadata": {},
   "outputs": [
    {
     "data": {
      "text/html": [
       "<div>\n",
       "<style scoped>\n",
       "    .dataframe tbody tr th:only-of-type {\n",
       "        vertical-align: middle;\n",
       "    }\n",
       "\n",
       "    .dataframe tbody tr th {\n",
       "        vertical-align: top;\n",
       "    }\n",
       "\n",
       "    .dataframe thead th {\n",
       "        text-align: right;\n",
       "    }\n",
       "</style>\n",
       "<table border=\"1\" class=\"dataframe\">\n",
       "  <thead>\n",
       "    <tr style=\"text-align: right;\">\n",
       "      <th></th>\n",
       "      <th>Neighborhood</th>\n",
       "      <th>Number of Mischief Offenses</th>\n",
       "    </tr>\n",
       "  </thead>\n",
       "  <tbody>\n",
       "    <tr>\n",
       "      <th>0</th>\n",
       "      <td>South Side Flats</td>\n",
       "      <td>44</td>\n",
       "    </tr>\n",
       "    <tr>\n",
       "      <th>0</th>\n",
       "      <td>Central Business District</td>\n",
       "      <td>32</td>\n",
       "    </tr>\n",
       "    <tr>\n",
       "      <th>0</th>\n",
       "      <td>Carrick</td>\n",
       "      <td>25</td>\n",
       "    </tr>\n",
       "    <tr>\n",
       "      <th>0</th>\n",
       "      <td>Hazelwood</td>\n",
       "      <td>21</td>\n",
       "    </tr>\n",
       "    <tr>\n",
       "      <th>0</th>\n",
       "      <td>Knoxville</td>\n",
       "      <td>15</td>\n",
       "    </tr>\n",
       "  </tbody>\n",
       "</table>\n",
       "</div>"
      ],
      "text/plain": [
       "                Neighborhood Number of Mischief Offenses\n",
       "0           South Side Flats                          44\n",
       "0  Central Business District                          32\n",
       "0                    Carrick                          25\n",
       "0                  Hazelwood                          21\n",
       "0                  Knoxville                          15"
      ]
     },
     "execution_count": 16,
     "metadata": {},
     "output_type": "execute_result"
    }
   ],
   "source": [
    "temp2_agg_sorted= temp2_agg.sort_values(\"Number of Mischief Offenses\", ascending=False)\n",
    "temp2_agg_sorted.head(5)"
   ]
  },
  {
   "cell_type": "code",
   "execution_count": 17,
   "metadata": {},
   "outputs": [
    {
     "data": {
      "image/png": "[encoded data removed]",
      "text/plain": [
       "<Figure size 432x288 with 1 Axes>"
      ]
     },
     "metadata": {
      "needs_background": "light"
     },
     "output_type": "display_data"
    },
    {
     "data": {
      "image/png": "[encoded data removed]",
      "text/plain": [
       "<Figure size 432x288 with 1 Axes>"
      ]
     },
     "metadata": {
      "needs_background": "light"
     },
     "output_type": "display_data"
    }
   ],
   "source": [
    "plt = temp2_agg_sorted.iloc[:10].plot(kind='bar', x=\"Neighborhood\", y=\"Number of Mischief Offenses\", title=\"Pittsburgh Neighborhoods with the Most Number of Mischief Offenses\")\n",
    "temp2_agg_sorted_opp=temp2_agg.sort_values(\"Number of Mischief Offenses\", ascending=True)\n",
    "plt = temp2_agg_sorted_opp.iloc[:10].plot(kind='bar', x=\"Neighborhood\", y=\"Number of Mischief Offenses\", title=\"Pittsburgh Neighborhoods with the Least Number of Mischief Offenses\")"
   ]
  },
  {
   "attachments": {},
   "cell_type": "markdown",
   "metadata": {},
   "source": [
    "We can see that South Side Flats has the highest number of occurences of the criminal mischief citation, while the bottom ten neighborhoods all have only one instance of this offense."
   ]
  },
  {
   "cell_type": "markdown",
   "metadata": {},
   "source": [
    "Finally, lets do this process one more time for the citation that is harrassment by threats or physicality."
   ]
  },
  {
   "cell_type": "code",
   "execution_count": 18,
   "metadata": {},
   "outputs": [
    {
     "data": {
      "text/html": [
       "<div>\n",
       "<style scoped>\n",
       "    .dataframe tbody tr th:only-of-type {\n",
       "        vertical-align: middle;\n",
       "    }\n",
       "\n",
       "    .dataframe tbody tr th {\n",
       "        vertical-align: top;\n",
       "    }\n",
       "\n",
       "    .dataframe thead th {\n",
       "        text-align: right;\n",
       "    }\n",
       "</style>\n",
       "<table border=\"1\" class=\"dataframe\">\n",
       "  <thead>\n",
       "    <tr style=\"text-align: right;\">\n",
       "      <th></th>\n",
       "      <th>PK</th>\n",
       "      <th>CCR</th>\n",
       "      <th>GENDER</th>\n",
       "      <th>RACE</th>\n",
       "      <th>AGE</th>\n",
       "      <th>CITEDTIME</th>\n",
       "      <th>INCIDENTLOCATION</th>\n",
       "      <th>OFFENSES</th>\n",
       "      <th>NEIGHBORHOOD</th>\n",
       "      <th>ZONE</th>\n",
       "      <th>INCIDENTTRACT</th>\n",
       "      <th>COUNCIL_DISTRICT</th>\n",
       "      <th>PUBLIC_WORKS_DIVISION</th>\n",
       "      <th>X</th>\n",
       "      <th>Y</th>\n",
       "      <th>geometry</th>\n",
       "    </tr>\n",
       "  </thead>\n",
       "  <tbody>\n",
       "    <tr>\n",
       "      <th>51</th>\n",
       "      <td>1077846</td>\n",
       "      <td>16149855</td>\n",
       "      <td>F</td>\n",
       "      <td>B</td>\n",
       "      <td>30</td>\n",
       "      <td>2016-08-10T11:00:00</td>\n",
       "      <td>300 Block CLOVER ST PITTSBURGH, PA</td>\n",
       "      <td>2709(a)(1) Harassment by Physical Contact, or ...</td>\n",
       "      <td>Arlington</td>\n",
       "      <td>3</td>\n",
       "      <td>1603</td>\n",
       "      <td>3</td>\n",
       "      <td>3</td>\n",
       "      <td>-79.97202395</td>\n",
       "      <td>40.41473751</td>\n",
       "      <td>None</td>\n",
       "    </tr>\n",
       "    <tr>\n",
       "      <th>69</th>\n",
       "      <td>1077864</td>\n",
       "      <td>16128942</td>\n",
       "      <td>M</td>\n",
       "      <td>W</td>\n",
       "      <td>51</td>\n",
       "      <td>2016-07-11T21:10:00</td>\n",
       "      <td>1900 Block E CARSON ST PITTSBURGH, PA</td>\n",
       "      <td>2709(a)(1) Harassment by Physical Contact, or ...</td>\n",
       "      <td>South Side Flats</td>\n",
       "      <td>3</td>\n",
       "      <td>1702</td>\n",
       "      <td>3</td>\n",
       "      <td>3</td>\n",
       "      <td>-79.97896499</td>\n",
       "      <td>40.42846581</td>\n",
       "      <td>None</td>\n",
       "    </tr>\n",
       "    <tr>\n",
       "      <th>140</th>\n",
       "      <td>1078134</td>\n",
       "      <td>16167457</td>\n",
       "      <td>F</td>\n",
       "      <td>B</td>\n",
       "      <td>25</td>\n",
       "      <td>2016-09-05T16:25:00</td>\n",
       "      <td>NORTH SHORE DR &amp; ART ROONEY AV PITTSBURGH, PA</td>\n",
       "      <td>2709(a)(1) Harassment by Physical Contact, or ...</td>\n",
       "      <td>North Shore</td>\n",
       "      <td>1</td>\n",
       "      <td>2205</td>\n",
       "      <td>1</td>\n",
       "      <td>6</td>\n",
       "      <td>-80.01355472</td>\n",
       "      <td>40.44529938</td>\n",
       "      <td>None</td>\n",
       "    </tr>\n",
       "  </tbody>\n",
       "</table>\n",
       "</div>"
      ],
      "text/plain": [
       "          PK       CCR GENDER RACE AGE            CITEDTIME  \\\n",
       "51   1077846  16149855      F    B  30  2016-08-10T11:00:00   \n",
       "69   1077864  16128942      M    W  51  2016-07-11T21:10:00   \n",
       "140  1078134  16167457      F    B  25  2016-09-05T16:25:00   \n",
       "\n",
       "                                   INCIDENTLOCATION  \\\n",
       "51              300 Block CLOVER ST PITTSBURGH, PA    \n",
       "69           1900 Block E CARSON ST PITTSBURGH, PA    \n",
       "140  NORTH SHORE DR & ART ROONEY AV PITTSBURGH, PA    \n",
       "\n",
       "                                              OFFENSES      NEIGHBORHOOD ZONE  \\\n",
       "51   2709(a)(1) Harassment by Physical Contact, or ...         Arlington    3   \n",
       "69   2709(a)(1) Harassment by Physical Contact, or ...  South Side Flats    3   \n",
       "140  2709(a)(1) Harassment by Physical Contact, or ...       North Shore    1   \n",
       "\n",
       "    INCIDENTTRACT COUNCIL_DISTRICT PUBLIC_WORKS_DIVISION             X  \\\n",
       "51           1603                3                     3  -79.97202395   \n",
       "69           1702                3                     3  -79.97896499   \n",
       "140          2205                1                     6  -80.01355472   \n",
       "\n",
       "               Y geometry  \n",
       "51   40.41473751     None  \n",
       "69   40.42846581     None  \n",
       "140  40.44529938     None  "
      ]
     },
     "execution_count": 18,
     "metadata": {},
     "output_type": "execute_result"
    }
   ],
   "source": [
    "threats=gpd.read_file('Citations.csv')\n",
    "#sort dataset to only include citations with this offense\n",
    "threats=threats[threats[\"OFFENSES\"] == \"2709(a)(1) Harassment by Physical Contact, or Attempts or Threats\"]\n",
    "\n",
    "threats.head(3)"
   ]
  },
  {
   "cell_type": "code",
   "execution_count": 19,
   "metadata": {},
   "outputs": [
    {
     "data": {
      "text/html": [
       "<div>\n",
       "<style scoped>\n",
       "    .dataframe tbody tr th:only-of-type {\n",
       "        vertical-align: middle;\n",
       "    }\n",
       "\n",
       "    .dataframe tbody tr th {\n",
       "        vertical-align: top;\n",
       "    }\n",
       "\n",
       "    .dataframe thead th {\n",
       "        text-align: right;\n",
       "    }\n",
       "</style>\n",
       "<table border=\"1\" class=\"dataframe\">\n",
       "  <thead>\n",
       "    <tr style=\"text-align: right;\">\n",
       "      <th></th>\n",
       "      <th>Neighborhood</th>\n",
       "      <th>Number of Harassment/Physical Offenses</th>\n",
       "    </tr>\n",
       "  </thead>\n",
       "  <tbody>\n",
       "    <tr>\n",
       "      <th>51</th>\n",
       "      <td>Arlington</td>\n",
       "      <td>0</td>\n",
       "    </tr>\n",
       "    <tr>\n",
       "      <th>69</th>\n",
       "      <td>South Side Flats</td>\n",
       "      <td>0</td>\n",
       "    </tr>\n",
       "    <tr>\n",
       "      <th>140</th>\n",
       "      <td>North Shore</td>\n",
       "      <td>0</td>\n",
       "    </tr>\n",
       "  </tbody>\n",
       "</table>\n",
       "</div>"
      ],
      "text/plain": [
       "         Neighborhood  Number of Harassment/Physical Offenses\n",
       "51          Arlington                                       0\n",
       "69   South Side Flats                                       0\n",
       "140       North Shore                                       0"
      ]
     },
     "execution_count": 19,
     "metadata": {},
     "output_type": "execute_result"
    }
   ],
   "source": [
    "temp3 = pd.DataFrame(columns = [\"Neighborhood\" ,\"Number of Harassment/Physical Offenses\"])\n",
    "temp3[\"Neighborhood\"] = threats[\"NEIGHBORHOOD\"]\n",
    "temp3[\"Number of Harassment/Physical Offenses\"]=0\n",
    "\n",
    "temp3.head(3)"
   ]
  },
  {
   "cell_type": "code",
   "execution_count": 20,
   "metadata": {},
   "outputs": [
    {
     "data": {
      "text/html": [
       "<div>\n",
       "<style scoped>\n",
       "    .dataframe tbody tr th:only-of-type {\n",
       "        vertical-align: middle;\n",
       "    }\n",
       "\n",
       "    .dataframe tbody tr th {\n",
       "        vertical-align: top;\n",
       "    }\n",
       "\n",
       "    .dataframe thead th {\n",
       "        text-align: right;\n",
       "    }\n",
       "</style>\n",
       "<table border=\"1\" class=\"dataframe\">\n",
       "  <thead>\n",
       "    <tr style=\"text-align: right;\">\n",
       "      <th></th>\n",
       "      <th>Neighborhood</th>\n",
       "      <th>Number of Harassment/Physical Offenses</th>\n",
       "    </tr>\n",
       "  </thead>\n",
       "  <tbody>\n",
       "    <tr>\n",
       "      <th>0</th>\n",
       "      <td>Arlington</td>\n",
       "      <td>17</td>\n",
       "    </tr>\n",
       "    <tr>\n",
       "      <th>0</th>\n",
       "      <td>South Side Flats</td>\n",
       "      <td>72</td>\n",
       "    </tr>\n",
       "    <tr>\n",
       "      <th>0</th>\n",
       "      <td>North Shore</td>\n",
       "      <td>31</td>\n",
       "    </tr>\n",
       "  </tbody>\n",
       "</table>\n",
       "</div>"
      ],
      "text/plain": [
       "       Neighborhood Number of Harassment/Physical Offenses\n",
       "0         Arlington                                     17\n",
       "0  South Side Flats                                     72\n",
       "0       North Shore                                     31"
      ]
     },
     "execution_count": 20,
     "metadata": {},
     "output_type": "execute_result"
    }
   ],
   "source": [
    "temp3_agg = pd.DataFrame(columns = [\"Neighborhood\", \"Number of Harassment/Physical Offenses\"])\n",
    "for i, row in temp3.iterrows():\n",
    "    neighborhood = row[\"Neighborhood\"]\n",
    " # Check to see if the neighborhood is already been acremented\n",
    "        #If so, increment the number of citations in that neighborhood\n",
    "    if neighborhood in temp3_agg[\"Neighborhood\"].values:\n",
    "            temp3_agg.loc[temp3_agg[\"Neighborhood\"] == neighborhood, \"Number of Harassment/Physical Offenses\"] += 1\n",
    "    else:\n",
    "        # If not, add a new row to the aggregated DataFrame\n",
    "            agg_new_row = pd.DataFrame({ 'Neighborhood': [neighborhood], 'Number of Harassment/Physical Offenses': [1] })\n",
    "            temp3_agg = pd.concat([temp3_agg, agg_new_row])\n",
    "temp3_agg.head(3)"
   ]
  },
  {
   "cell_type": "code",
   "execution_count": 21,
   "metadata": {},
   "outputs": [
    {
     "data": {
      "text/html": [
       "<div>\n",
       "<style scoped>\n",
       "    .dataframe tbody tr th:only-of-type {\n",
       "        vertical-align: middle;\n",
       "    }\n",
       "\n",
       "    .dataframe tbody tr th {\n",
       "        vertical-align: top;\n",
       "    }\n",
       "\n",
       "    .dataframe thead th {\n",
       "        text-align: right;\n",
       "    }\n",
       "</style>\n",
       "<table border=\"1\" class=\"dataframe\">\n",
       "  <thead>\n",
       "    <tr style=\"text-align: right;\">\n",
       "      <th></th>\n",
       "      <th>Neighborhood</th>\n",
       "      <th>Number of Harassment/Physical Offenses</th>\n",
       "    </tr>\n",
       "  </thead>\n",
       "  <tbody>\n",
       "    <tr>\n",
       "      <th>0</th>\n",
       "      <td>Central Business District</td>\n",
       "      <td>165</td>\n",
       "    </tr>\n",
       "    <tr>\n",
       "      <th>0</th>\n",
       "      <td>South Side Flats</td>\n",
       "      <td>72</td>\n",
       "    </tr>\n",
       "    <tr>\n",
       "      <th>0</th>\n",
       "      <td>Brookline</td>\n",
       "      <td>55</td>\n",
       "    </tr>\n",
       "    <tr>\n",
       "      <th>0</th>\n",
       "      <td>Carrick</td>\n",
       "      <td>48</td>\n",
       "    </tr>\n",
       "    <tr>\n",
       "      <th>0</th>\n",
       "      <td>Sheraden</td>\n",
       "      <td>44</td>\n",
       "    </tr>\n",
       "  </tbody>\n",
       "</table>\n",
       "</div>"
      ],
      "text/plain": [
       "                Neighborhood Number of Harassment/Physical Offenses\n",
       "0  Central Business District                                    165\n",
       "0           South Side Flats                                     72\n",
       "0                  Brookline                                     55\n",
       "0                    Carrick                                     48\n",
       "0                   Sheraden                                     44"
      ]
     },
     "execution_count": 21,
     "metadata": {},
     "output_type": "execute_result"
    }
   ],
   "source": [
    "temp3_agg_sorted= temp3_agg.sort_values(\"Number of Harassment/Physical Offenses\", ascending=False)\n",
    "temp3_agg_sorted.head(5)"
   ]
  },
  {
   "cell_type": "code",
   "execution_count": 22,
   "metadata": {},
   "outputs": [
    {
     "data": {
      "image/png": "[encoded data removed]",
      "text/plain": [
       "<Figure size 432x288 with 1 Axes>"
      ]
     },
     "metadata": {
      "needs_background": "light"
     },
     "output_type": "display_data"
    },
    {
     "data": {
      "image/png": "[encoded data removed]",
      "text/plain": [
       "<Figure size 432x288 with 1 Axes>"
      ]
     },
     "metadata": {
      "needs_background": "light"
     },
     "output_type": "display_data"
    }
   ],
   "source": [
    "plt = temp3_agg_sorted.iloc[:10].plot(kind='bar', x=\"Neighborhood\", y=\"Number of Harassment/Physical Offenses\", title=\"Pittsburgh Neighborhoods with the Most Number of Harassment/Physical Offenses\")\n",
    "temp3_agg_sorted_opp=temp3_agg.sort_values(\"Number of Harassment/Physical Offenses\", ascending=True)\n",
    "plt = temp3_agg_sorted_opp.iloc[:10].plot(kind='bar', x=\"Neighborhood\", y=\"Number of Harassment/Physical Offenses\", title=\"Pittsburgh Neighborhoods with the Least Number of Harassment/Physical Offenses\")"
   ]
  },
  {
   "cell_type": "markdown",
   "metadata": {},
   "source": [
    "Based on these graphs, we can see that the neighborhood with the most number of harassment/physical offenses to occur is Central Business District, with South Side Flats being second. And the bottom ten neighborhoods for occurences of this citation are ranging from 1-2 instances, starting at Polish Hill with 1."
   ]
  },
  {
   "cell_type": "markdown",
   "metadata": {},
   "source": [
    "Overall, the two neighborhoods who appear to be in the top two places for all three analyzed citations are South Side Flats and Central Business District."
   ]
  },
  {
   "cell_type": "code",
   "execution_count": 32,
   "metadata": {},
   "outputs": [
    {
     "data": {
      "text/html": [
       "<div>\n",
       "<style scoped>\n",
       "    .dataframe tbody tr th:only-of-type {\n",
       "        vertical-align: middle;\n",
       "    }\n",
       "\n",
       "    .dataframe tbody tr th {\n",
       "        vertical-align: top;\n",
       "    }\n",
       "\n",
       "    .dataframe thead th {\n",
       "        text-align: right;\n",
       "    }\n",
       "</style>\n",
       "<table border=\"1\" class=\"dataframe\">\n",
       "  <thead>\n",
       "    <tr style=\"text-align: right;\">\n",
       "      <th></th>\n",
       "      <th>Neighborhood</th>\n",
       "      <th>Number of 5503(a)(4) Offenses</th>\n",
       "    </tr>\n",
       "  </thead>\n",
       "  <tbody>\n",
       "  </tbody>\n",
       "</table>\n",
       "</div>"
      ],
      "text/plain": [
       "Empty DataFrame\n",
       "Columns: [Neighborhood, Number of 5503(a)(4) Offenses]\n",
       "Index: []"
      ]
     },
     "execution_count": 32,
     "metadata": {},
     "output_type": "execute_result"
    }
   ],
   "source": [
    "temp_agg.query('Neighborhood.str.startswith(\"Mt. Oliver Neighborhood\")')"
   ]
  },
  {
   "cell_type": "code",
   "execution_count": 31,
   "metadata": {},
   "outputs": [
    {
     "data": {
      "text/html": [
       "<div>\n",
       "<style scoped>\n",
       "    .dataframe tbody tr th:only-of-type {\n",
       "        vertical-align: middle;\n",
       "    }\n",
       "\n",
       "    .dataframe tbody tr th {\n",
       "        vertical-align: top;\n",
       "    }\n",
       "\n",
       "    .dataframe thead th {\n",
       "        text-align: right;\n",
       "    }\n",
       "</style>\n",
       "<table border=\"1\" class=\"dataframe\">\n",
       "  <thead>\n",
       "    <tr style=\"text-align: right;\">\n",
       "      <th></th>\n",
       "      <th>Neighborhood</th>\n",
       "      <th>Number of Mischief Offenses</th>\n",
       "    </tr>\n",
       "  </thead>\n",
       "  <tbody>\n",
       "  </tbody>\n",
       "</table>\n",
       "</div>"
      ],
      "text/plain": [
       "Empty DataFrame\n",
       "Columns: [Neighborhood, Number of Mischief Offenses]\n",
       "Index: []"
      ]
     },
     "execution_count": 31,
     "metadata": {},
     "output_type": "execute_result"
    }
   ],
   "source": [
    "temp2_agg.query('Neighborhood.str.startswith(\"Mt. Oliver Neighborhood\")')"
   ]
  },
  {
   "cell_type": "code",
   "execution_count": 30,
   "metadata": {},
   "outputs": [
    {
     "data": {
      "text/html": [
       "<div>\n",
       "<style scoped>\n",
       "    .dataframe tbody tr th:only-of-type {\n",
       "        vertical-align: middle;\n",
       "    }\n",
       "\n",
       "    .dataframe tbody tr th {\n",
       "        vertical-align: top;\n",
       "    }\n",
       "\n",
       "    .dataframe thead th {\n",
       "        text-align: right;\n",
       "    }\n",
       "</style>\n",
       "<table border=\"1\" class=\"dataframe\">\n",
       "  <thead>\n",
       "    <tr style=\"text-align: right;\">\n",
       "      <th></th>\n",
       "      <th>Neighborhood</th>\n",
       "      <th>Number of Harassment/Physical Offenses</th>\n",
       "    </tr>\n",
       "  </thead>\n",
       "  <tbody>\n",
       "  </tbody>\n",
       "</table>\n",
       "</div>"
      ],
      "text/plain": [
       "Empty DataFrame\n",
       "Columns: [Neighborhood, Number of Harassment/Physical Offenses]\n",
       "Index: []"
      ]
     },
     "execution_count": 30,
     "metadata": {},
     "output_type": "execute_result"
    }
   ],
   "source": [
    "temp3_agg.query('Neighborhood.str.startswith(\"Mt. Oliver Neighborhood\")')"
   ]
  },
  {
   "cell_type": "code",
   "execution_count": 33,
   "metadata": {},
   "outputs": [
    {
     "data": {
      "text/html": [
       "<div>\n",
       "<style scoped>\n",
       "    .dataframe tbody tr th:only-of-type {\n",
       "        vertical-align: middle;\n",
       "    }\n",
       "\n",
       "    .dataframe tbody tr th {\n",
       "        vertical-align: top;\n",
       "    }\n",
       "\n",
       "    .dataframe thead th {\n",
       "        text-align: right;\n",
       "    }\n",
       "</style>\n",
       "<table border=\"1\" class=\"dataframe\">\n",
       "  <thead>\n",
       "    <tr style=\"text-align: right;\">\n",
       "      <th></th>\n",
       "      <th>PK</th>\n",
       "      <th>CCR</th>\n",
       "      <th>GENDER</th>\n",
       "      <th>RACE</th>\n",
       "      <th>AGE</th>\n",
       "      <th>CITEDTIME</th>\n",
       "      <th>INCIDENTLOCATION</th>\n",
       "      <th>OFFENSES</th>\n",
       "      <th>NEIGHBORHOOD</th>\n",
       "      <th>ZONE</th>\n",
       "      <th>INCIDENTTRACT</th>\n",
       "      <th>COUNCIL_DISTRICT</th>\n",
       "      <th>PUBLIC_WORKS_DIVISION</th>\n",
       "      <th>X</th>\n",
       "      <th>Y</th>\n",
       "      <th>geometry</th>\n",
       "    </tr>\n",
       "  </thead>\n",
       "  <tbody>\n",
       "    <tr>\n",
       "      <th>399</th>\n",
       "      <td>1078422</td>\n",
       "      <td>16179446</td>\n",
       "      <td>M</td>\n",
       "      <td>W</td>\n",
       "      <td>70</td>\n",
       "      <td>2016-09-20T15:30:00</td>\n",
       "      <td>400 Block ST JOSEPH ST PITTSBURGH, PA</td>\n",
       "      <td>5511(c)(1) CRUELTY TO ANIMALS</td>\n",
       "      <td>Mt. Oliver Neighborhood</td>\n",
       "      <td>3</td>\n",
       "      <td>1607</td>\n",
       "      <td>3</td>\n",
       "      <td>3</td>\n",
       "      <td>-79.9817219</td>\n",
       "      <td>40.41341126</td>\n",
       "      <td>None</td>\n",
       "    </tr>\n",
       "    <tr>\n",
       "      <th>400</th>\n",
       "      <td>1078423</td>\n",
       "      <td>16179446</td>\n",
       "      <td>M</td>\n",
       "      <td>W</td>\n",
       "      <td>70</td>\n",
       "      <td>2016-09-22T12:00:00</td>\n",
       "      <td>400 Block ST JOSEPH ST PITTSBURGH, PA</td>\n",
       "      <td>633.02(a) Dog License Required; 3 Months or Older</td>\n",
       "      <td>Mt. Oliver Neighborhood</td>\n",
       "      <td>3</td>\n",
       "      <td>1607</td>\n",
       "      <td>3</td>\n",
       "      <td>3</td>\n",
       "      <td>-79.9817219</td>\n",
       "      <td>40.41341126</td>\n",
       "      <td>None</td>\n",
       "    </tr>\n",
       "    <tr>\n",
       "      <th>401</th>\n",
       "      <td>1078424</td>\n",
       "      <td>16179446</td>\n",
       "      <td>M</td>\n",
       "      <td>W</td>\n",
       "      <td>70</td>\n",
       "      <td>2016-09-22T12:00:00</td>\n",
       "      <td>400 Block ST JOSEPH ST PITTSBURGH, PA</td>\n",
       "      <td>633.05 Rabies Vaccination</td>\n",
       "      <td>Mt. Oliver Neighborhood</td>\n",
       "      <td>3</td>\n",
       "      <td>1607</td>\n",
       "      <td>3</td>\n",
       "      <td>3</td>\n",
       "      <td>-79.9817219</td>\n",
       "      <td>40.41341126</td>\n",
       "      <td>None</td>\n",
       "    </tr>\n",
       "    <tr>\n",
       "      <th>402</th>\n",
       "      <td>1078425</td>\n",
       "      <td>16179446</td>\n",
       "      <td>M</td>\n",
       "      <td>W</td>\n",
       "      <td>70</td>\n",
       "      <td>2016-09-22T06:00:00</td>\n",
       "      <td>400 Block ST JOSEPH ST PITTSBURGH, PA</td>\n",
       "      <td>633.09(a) Harboring a Nuisance; Any animal to ...</td>\n",
       "      <td>Mt. Oliver Neighborhood</td>\n",
       "      <td>3</td>\n",
       "      <td>1607</td>\n",
       "      <td>3</td>\n",
       "      <td>3</td>\n",
       "      <td>-79.9817219</td>\n",
       "      <td>40.41341126</td>\n",
       "      <td>None</td>\n",
       "    </tr>\n",
       "  </tbody>\n",
       "</table>\n",
       "</div>"
      ],
      "text/plain": [
       "          PK       CCR GENDER RACE AGE            CITEDTIME  \\\n",
       "399  1078422  16179446      M    W  70  2016-09-20T15:30:00   \n",
       "400  1078423  16179446      M    W  70  2016-09-22T12:00:00   \n",
       "401  1078424  16179446      M    W  70  2016-09-22T12:00:00   \n",
       "402  1078425  16179446      M    W  70  2016-09-22T06:00:00   \n",
       "\n",
       "                           INCIDENTLOCATION  \\\n",
       "399  400 Block ST JOSEPH ST PITTSBURGH, PA    \n",
       "400  400 Block ST JOSEPH ST PITTSBURGH, PA    \n",
       "401  400 Block ST JOSEPH ST PITTSBURGH, PA    \n",
       "402  400 Block ST JOSEPH ST PITTSBURGH, PA    \n",
       "\n",
       "                                              OFFENSES  \\\n",
       "399                      5511(c)(1) CRUELTY TO ANIMALS   \n",
       "400  633.02(a) Dog License Required; 3 Months or Older   \n",
       "401                          633.05 Rabies Vaccination   \n",
       "402  633.09(a) Harboring a Nuisance; Any animal to ...   \n",
       "\n",
       "                NEIGHBORHOOD ZONE INCIDENTTRACT COUNCIL_DISTRICT  \\\n",
       "399  Mt. Oliver Neighborhood    3          1607                3   \n",
       "400  Mt. Oliver Neighborhood    3          1607                3   \n",
       "401  Mt. Oliver Neighborhood    3          1607                3   \n",
       "402  Mt. Oliver Neighborhood    3          1607                3   \n",
       "\n",
       "    PUBLIC_WORKS_DIVISION            X            Y geometry  \n",
       "399                     3  -79.9817219  40.41341126     None  \n",
       "400                     3  -79.9817219  40.41341126     None  \n",
       "401                     3  -79.9817219  40.41341126     None  \n",
       "402                     3  -79.9817219  40.41341126     None  "
      ]
     },
     "execution_count": 33,
     "metadata": {},
     "output_type": "execute_result"
    }
   ],
   "source": [
    "citations.query('NEIGHBORHOOD.str.startswith(\"Mt. Oliver Neighborhood\")')"
   ]
  },
  {
   "cell_type": "markdown",
   "metadata": {},
   "source": [
    "This shows us that Mt. Oliver only has 4 citations occur in this neighborhood, and none of them were in the top three most severe."
   ]
  },
  {
   "cell_type": "markdown",
   "metadata": {},
   "source": [
    "# Metric #2: Number of Police Incidents Per NeighborHood"
   ]
  },
  {
   "cell_type": "markdown",
   "metadata": {},
   "source": [
    "**Analyzed by Valerie Schaible**"
   ]
  },
  {
   "cell_type": "code",
   "execution_count": 2,
   "metadata": {},
   "outputs": [
    {
     "ename": "ModuleNotFoundError",
     "evalue": "No module named 'geopandas'",
     "output_type": "error",
     "traceback": [
      "\u001b[1;31m---------------------------------------------------------------------------\u001b[0m",
      "\u001b[1;31mModuleNotFoundError\u001b[0m                       Traceback (most recent call last)",
      "Cell \u001b[1;32mIn[2], line 1\u001b[0m\n\u001b[1;32m----> 1\u001b[0m \u001b[39mimport\u001b[39;00m \u001b[39mgeopandas\u001b[39;00m \u001b[39mas\u001b[39;00m \u001b[39mgpd\u001b[39;00m\n\u001b[0;32m      2\u001b[0m \u001b[39mimport\u001b[39;00m \u001b[39mpandas\u001b[39;00m \u001b[39mas\u001b[39;00m \u001b[39mpd\u001b[39;00m\n\u001b[0;32m      4\u001b[0m \u001b[39m# Load in the police incidents\u001b[39;00m\n",
      "\u001b[1;31mModuleNotFoundError\u001b[0m: No module named 'geopandas'"
     ]
    }
   ],
   "source": [
    "import geopandas as gpd\n",
    "import pandas as pd\n",
    "\n",
    "# Load in the police incidents\n",
    "police_incidents= gpd.read_file('Police_Incidents.csv')\n",
    "\n",
    "police_incidents.head(3)"
   ]
  },
  {
   "cell_type": "markdown",
   "metadata": {},
   "source": [
    "This dataset shows all police incidents in Pittsburgh neighborhoods in the last 30 days, as well as categorizing them based on a hierarchy of threat/danger associated with the incident. We can now analyze this dataset to see which neighborhood has the most incidents, and which neighborhood has the most incidents that are highest in the heirarchy."
   ]
  },
  {
   "cell_type": "code",
   "execution_count": 35,
   "metadata": {},
   "outputs": [
    {
     "data": {
      "text/html": [
       "<div>\n",
       "<style scoped>\n",
       "    .dataframe tbody tr th:only-of-type {\n",
       "        vertical-align: middle;\n",
       "    }\n",
       "\n",
       "    .dataframe tbody tr th {\n",
       "        vertical-align: top;\n",
       "    }\n",
       "\n",
       "    .dataframe thead th {\n",
       "        text-align: right;\n",
       "    }\n",
       "</style>\n",
       "<table border=\"1\" class=\"dataframe\">\n",
       "  <thead>\n",
       "    <tr style=\"text-align: right;\">\n",
       "      <th></th>\n",
       "      <th>Neighborhood</th>\n",
       "      <th>Number of Incidents</th>\n",
       "    </tr>\n",
       "  </thead>\n",
       "  <tbody>\n",
       "    <tr>\n",
       "      <th>0</th>\n",
       "      <td>North Shore</td>\n",
       "      <td>0</td>\n",
       "    </tr>\n",
       "    <tr>\n",
       "      <th>1</th>\n",
       "      <td>Upper Lawrenceville</td>\n",
       "      <td>0</td>\n",
       "    </tr>\n",
       "    <tr>\n",
       "      <th>2</th>\n",
       "      <td>Northview Heights</td>\n",
       "      <td>0</td>\n",
       "    </tr>\n",
       "  </tbody>\n",
       "</table>\n",
       "</div>"
      ],
      "text/plain": [
       "          Neighborhood  Number of Incidents\n",
       "0          North Shore                    0\n",
       "1  Upper Lawrenceville                    0\n",
       "2    Northview Heights                    0"
      ]
     },
     "execution_count": 35,
     "metadata": {},
     "output_type": "execute_result"
    }
   ],
   "source": [
    "incidents = pd.DataFrame(columns = [\"Neighborhood\", \"Number of Incidents\"])\n",
    "incidents[\"Neighborhood\"] = police_incidents[\"INCIDENTNEIGHBORHOOD\"]\n",
    "incidents[\"Number of Incidents\"] = 0\n",
    "\n",
    "incidents.head(3)"
   ]
  },
  {
   "cell_type": "markdown",
   "metadata": {},
   "source": [
    "Now we can iterate through incidents to calculate the number of incidents in each neighborhood, by creating a new pandas dataset that ignores the repeats of neighborhoods in the incidents datatset, by increasing the number of incidents per neighborhood whenever it appears more than once in the incidents dataset."
   ]
  },
  {
   "cell_type": "code",
   "execution_count": 36,
   "metadata": {},
   "outputs": [
    {
     "data": {
      "text/html": [
       "<div>\n",
       "<style scoped>\n",
       "    .dataframe tbody tr th:only-of-type {\n",
       "        vertical-align: middle;\n",
       "    }\n",
       "\n",
       "    .dataframe tbody tr th {\n",
       "        vertical-align: top;\n",
       "    }\n",
       "\n",
       "    .dataframe thead th {\n",
       "        text-align: right;\n",
       "    }\n",
       "</style>\n",
       "<table border=\"1\" class=\"dataframe\">\n",
       "  <thead>\n",
       "    <tr style=\"text-align: right;\">\n",
       "      <th></th>\n",
       "      <th>Neighborhood</th>\n",
       "      <th>Number of Incidents</th>\n",
       "    </tr>\n",
       "  </thead>\n",
       "  <tbody>\n",
       "    <tr>\n",
       "      <th>0</th>\n",
       "      <td>North Shore</td>\n",
       "      <td>3424</td>\n",
       "    </tr>\n",
       "    <tr>\n",
       "      <th>0</th>\n",
       "      <td>Upper Lawrenceville</td>\n",
       "      <td>1529</td>\n",
       "    </tr>\n",
       "    <tr>\n",
       "      <th>0</th>\n",
       "      <td>Northview Heights</td>\n",
       "      <td>2462</td>\n",
       "    </tr>\n",
       "  </tbody>\n",
       "</table>\n",
       "</div>"
      ],
      "text/plain": [
       "          Neighborhood Number of Incidents\n",
       "0          North Shore                3424\n",
       "0  Upper Lawrenceville                1529\n",
       "0    Northview Heights                2462"
      ]
     },
     "execution_count": 36,
     "metadata": {},
     "output_type": "execute_result"
    }
   ],
   "source": [
    "incidents_agg = pd.DataFrame(columns = [\"Neighborhood\", \"Number of Incidents\"])\n",
    "for Neighborhood in incidents[\"Neighborhood\"]:\n",
    "    # Check if this neighborhood has already been aggregated\n",
    "    if Neighborhood in incidents_agg[\"Neighborhood\"].values:\n",
    "        # If so, increment the number of incidents in that neighborhood\n",
    "        incidents_agg.loc[incidents_agg[\"Neighborhood\"] == Neighborhood, \"Number of Incidents\"] += 1\n",
    "    else:\n",
    "        # If not, add a new row to the aggregated DataFrame\n",
    "        agg_new_row = pd.DataFrame({ 'Neighborhood': [Neighborhood], 'Number of Incidents': [1] })\n",
    "        incidents_agg = pd.concat([incidents_agg, agg_new_row])\n",
    "\n",
    "       \n",
    "\n",
    "     \n",
    "incidents_agg.head(3)\n"
   ]
  },
  {
   "cell_type": "markdown",
   "metadata": {},
   "source": [
    "Now we can sort the neighborhoods by number of incidents, in descending order, to see which neighborhood has the most incidents."
   ]
  },
  {
   "cell_type": "code",
   "execution_count": 37,
   "metadata": {},
   "outputs": [
    {
     "data": {
      "text/html": [
       "<div>\n",
       "<style scoped>\n",
       "    .dataframe tbody tr th:only-of-type {\n",
       "        vertical-align: middle;\n",
       "    }\n",
       "\n",
       "    .dataframe tbody tr th {\n",
       "        vertical-align: top;\n",
       "    }\n",
       "\n",
       "    .dataframe thead th {\n",
       "        text-align: right;\n",
       "    }\n",
       "</style>\n",
       "<table border=\"1\" class=\"dataframe\">\n",
       "  <thead>\n",
       "    <tr style=\"text-align: right;\">\n",
       "      <th></th>\n",
       "      <th>Neighborhood</th>\n",
       "      <th>Number of Incidents</th>\n",
       "    </tr>\n",
       "  </thead>\n",
       "  <tbody>\n",
       "    <tr>\n",
       "      <th>0</th>\n",
       "      <td>South Side Flats</td>\n",
       "      <td>17627</td>\n",
       "    </tr>\n",
       "    <tr>\n",
       "      <th>0</th>\n",
       "      <td>Central Business District</td>\n",
       "      <td>17353</td>\n",
       "    </tr>\n",
       "    <tr>\n",
       "      <th>0</th>\n",
       "      <td>Carrick</td>\n",
       "      <td>10945</td>\n",
       "    </tr>\n",
       "    <tr>\n",
       "      <th>0</th>\n",
       "      <td>Bloomfield</td>\n",
       "      <td>8150</td>\n",
       "    </tr>\n",
       "    <tr>\n",
       "      <th>0</th>\n",
       "      <td>Shadyside</td>\n",
       "      <td>8038</td>\n",
       "    </tr>\n",
       "  </tbody>\n",
       "</table>\n",
       "</div>"
      ],
      "text/plain": [
       "                Neighborhood Number of Incidents\n",
       "0           South Side Flats               17627\n",
       "0  Central Business District               17353\n",
       "0                    Carrick               10945\n",
       "0                 Bloomfield                8150\n",
       "0                  Shadyside                8038"
      ]
     },
     "execution_count": 37,
     "metadata": {},
     "output_type": "execute_result"
    }
   ],
   "source": [
    "incidents_sorted = incidents_agg.sort_values(\"Number of Incidents\", ascending=False)\n",
    "\n",
    "incidents_sorted.head(5)"
   ]
  },
  {
   "cell_type": "markdown",
   "metadata": {},
   "source": [
    "We can see that South Side Flats has the most police incidents occur. Our next step is to sort the dataset by number of incidents in ascending order, to see which neighborhoods have the least number of incidents, and are arguably safer."
   ]
  },
  {
   "cell_type": "code",
   "execution_count": 38,
   "metadata": {},
   "outputs": [
    {
     "data": {
      "text/html": [
       "<div>\n",
       "<style scoped>\n",
       "    .dataframe tbody tr th:only-of-type {\n",
       "        vertical-align: middle;\n",
       "    }\n",
       "\n",
       "    .dataframe tbody tr th {\n",
       "        vertical-align: top;\n",
       "    }\n",
       "\n",
       "    .dataframe thead th {\n",
       "        text-align: right;\n",
       "    }\n",
       "</style>\n",
       "<table border=\"1\" class=\"dataframe\">\n",
       "  <thead>\n",
       "    <tr style=\"text-align: right;\">\n",
       "      <th></th>\n",
       "      <th>Neighborhood</th>\n",
       "      <th>Number of Incidents</th>\n",
       "    </tr>\n",
       "  </thead>\n",
       "  <tbody>\n",
       "    <tr>\n",
       "      <th>0</th>\n",
       "      <td>Mt. Oliver Boro</td>\n",
       "      <td>94</td>\n",
       "    </tr>\n",
       "    <tr>\n",
       "      <th>0</th>\n",
       "      <td>Mt. Oliver Neighborhood</td>\n",
       "      <td>117</td>\n",
       "    </tr>\n",
       "    <tr>\n",
       "      <th>0</th>\n",
       "      <td>Outside County</td>\n",
       "      <td>226</td>\n",
       "    </tr>\n",
       "    <tr>\n",
       "      <th>0</th>\n",
       "      <td>Troy Hill-Herrs Island</td>\n",
       "      <td>252</td>\n",
       "    </tr>\n",
       "    <tr>\n",
       "      <th>0</th>\n",
       "      <td>Ridgemont</td>\n",
       "      <td>282</td>\n",
       "    </tr>\n",
       "  </tbody>\n",
       "</table>\n",
       "</div>"
      ],
      "text/plain": [
       "              Neighborhood Number of Incidents\n",
       "0          Mt. Oliver Boro                  94\n",
       "0  Mt. Oliver Neighborhood                 117\n",
       "0           Outside County                 226\n",
       "0   Troy Hill-Herrs Island                 252\n",
       "0                Ridgemont                 282"
      ]
     },
     "execution_count": 38,
     "metadata": {},
     "output_type": "execute_result"
    }
   ],
   "source": [
    "incidents_sorted_opp = incidents_agg.sort_values(\"Number of Incidents\", ascending=True)\n",
    "\n",
    "incidents_sorted_opp.head(5)"
   ]
  },
  {
   "cell_type": "markdown",
   "metadata": {},
   "source": [
    "We can see that Mt. Oliver Boro had the least number of incidents, at 94 in the last 30 days. Lets plot the ten neighborhoods with the most incidents, and then the ten neighborhoods with the least incidents. "
   ]
  },
  {
   "cell_type": "code",
   "execution_count": 39,
   "metadata": {},
   "outputs": [
    {
     "data": {
      "image/png": "[encoded data removed]",
      "text/plain": [
       "<Figure size 432x288 with 1 Axes>"
      ]
     },
     "metadata": {
      "needs_background": "light"
     },
     "output_type": "display_data"
    },
    {
     "data": {
      "image/png": "[encoded data removed]",
      "text/plain": [
       "<Figure size 432x288 with 1 Axes>"
      ]
     },
     "metadata": {
      "needs_background": "light"
     },
     "output_type": "display_data"
    }
   ],
   "source": [
    "plt = incidents_sorted.iloc[:10].plot(kind='bar', x=\"Neighborhood\", y=\"Number of Incidents\", title=\"Pittsburgh Neighborhoods with the Most Incidents\")\n",
    "plt = incidents_sorted_opp.iloc[:10].plot(kind='bar', x=\"Neighborhood\", y=\"Number of Incidents\", title=\"Pittsburgh Neighborhoods with the Least Incidents\")"
   ]
  },
  {
   "cell_type": "markdown",
   "metadata": {},
   "source": [
    "We can see that the top two: South Side Flats and Central Business District appear to be upper level outliers, and the next 8 appear to decrease in an almost linear rate. Furthermore the bottom two: Mt. Oliver Boro and Mt. Oliver Neighborhood appear to be lower level outliers, and the next 8 increase by an almost linear rate."
   ]
  },
  {
   "cell_type": "markdown",
   "metadata": {},
   "source": [
    "Moving on, the original Police Incidents dataset included a hierarchy for the incidents, based on the severity of the incident. We can analyze this column to determine which neighborhoods had incidents with high hierarchies and low hierarchies."
   ]
  },
  {
   "cell_type": "code",
   "execution_count": 40,
   "metadata": {},
   "outputs": [
    {
     "data": {
      "text/html": [
       "<div>\n",
       "<style scoped>\n",
       "    .dataframe tbody tr th:only-of-type {\n",
       "        vertical-align: middle;\n",
       "    }\n",
       "\n",
       "    .dataframe tbody tr th {\n",
       "        vertical-align: top;\n",
       "    }\n",
       "\n",
       "    .dataframe thead th {\n",
       "        text-align: right;\n",
       "    }\n",
       "</style>\n",
       "<table border=\"1\" class=\"dataframe\">\n",
       "  <thead>\n",
       "    <tr style=\"text-align: right;\">\n",
       "      <th></th>\n",
       "      <th>Neighborhood</th>\n",
       "      <th>Hierarchy</th>\n",
       "    </tr>\n",
       "  </thead>\n",
       "  <tbody>\n",
       "    <tr>\n",
       "      <th>312608</th>\n",
       "      <td>Squirrel Hill North</td>\n",
       "      <td>99</td>\n",
       "    </tr>\n",
       "    <tr>\n",
       "      <th>209491</th>\n",
       "      <td>Chateau</td>\n",
       "      <td>99</td>\n",
       "    </tr>\n",
       "    <tr>\n",
       "      <th>209480</th>\n",
       "      <td>Squirrel Hill South</td>\n",
       "      <td>99</td>\n",
       "    </tr>\n",
       "    <tr>\n",
       "      <th>209481</th>\n",
       "      <td>Allentown</td>\n",
       "      <td>99</td>\n",
       "    </tr>\n",
       "    <tr>\n",
       "      <th>209482</th>\n",
       "      <td>Chateau</td>\n",
       "      <td>99</td>\n",
       "    </tr>\n",
       "  </tbody>\n",
       "</table>\n",
       "</div>"
      ],
      "text/plain": [
       "               Neighborhood Hierarchy\n",
       "312608  Squirrel Hill North        99\n",
       "209491              Chateau        99\n",
       "209480  Squirrel Hill South        99\n",
       "209481            Allentown        99\n",
       "209482              Chateau        99"
      ]
     },
     "execution_count": 40,
     "metadata": {},
     "output_type": "execute_result"
    }
   ],
   "source": [
    "hierarchy = pd.DataFrame(columns=[\"Neighborhood\",\"Hierarchy\"])\n",
    "hierarchy[\"Hierarchy\"]=police_incidents[\"HIERARCHY\"]\n",
    "hierarchy[\"Neighborhood\"]=police_incidents[\"INCIDENTNEIGHBORHOOD\"]\n",
    "\n",
    "hierarchy_sorted = hierarchy.sort_values(\"Hierarchy\", ascending=False)\n",
    "hierarchy_sorted.head(5)"
   ]
  },
  {
   "cell_type": "markdown",
   "metadata": {},
   "source": [
    "We can see that the highest value in the hierarchy is 99, and now if we sort the dataset in ascending order we can see the lowest hierarchy value"
   ]
  },
  {
   "cell_type": "code",
   "execution_count": 41,
   "metadata": {},
   "outputs": [
    {
     "data": {
      "text/html": [
       "<div>\n",
       "<style scoped>\n",
       "    .dataframe tbody tr th:only-of-type {\n",
       "        vertical-align: middle;\n",
       "    }\n",
       "\n",
       "    .dataframe tbody tr th {\n",
       "        vertical-align: top;\n",
       "    }\n",
       "\n",
       "    .dataframe thead th {\n",
       "        text-align: right;\n",
       "    }\n",
       "</style>\n",
       "<table border=\"1\" class=\"dataframe\">\n",
       "  <thead>\n",
       "    <tr style=\"text-align: right;\">\n",
       "      <th></th>\n",
       "      <th>Neighborhood</th>\n",
       "      <th>Hierarchy</th>\n",
       "    </tr>\n",
       "  </thead>\n",
       "  <tbody>\n",
       "    <tr>\n",
       "      <th>147646</th>\n",
       "      <td>Strip District</td>\n",
       "      <td>0</td>\n",
       "    </tr>\n",
       "    <tr>\n",
       "      <th>201549</th>\n",
       "      <td>Lincoln-Lemington-Belmar</td>\n",
       "      <td>0</td>\n",
       "    </tr>\n",
       "    <tr>\n",
       "      <th>83745</th>\n",
       "      <td>Brighton Heights</td>\n",
       "      <td>0</td>\n",
       "    </tr>\n",
       "    <tr>\n",
       "      <th>303257</th>\n",
       "      <td>Allegheny Center</td>\n",
       "      <td>0</td>\n",
       "    </tr>\n",
       "    <tr>\n",
       "      <th>300531</th>\n",
       "      <td>Windgap</td>\n",
       "      <td>0</td>\n",
       "    </tr>\n",
       "  </tbody>\n",
       "</table>\n",
       "</div>"
      ],
      "text/plain": [
       "                    Neighborhood Hierarchy\n",
       "147646            Strip District         0\n",
       "201549  Lincoln-Lemington-Belmar         0\n",
       "83745           Brighton Heights         0\n",
       "303257          Allegheny Center         0\n",
       "300531                   Windgap         0"
      ]
     },
     "execution_count": 41,
     "metadata": {},
     "output_type": "execute_result"
    }
   ],
   "source": [
    "hierarchy_sorted_opp = hierarchy.sort_values(\"Hierarchy\", ascending=True)\n",
    "hierarchy_sorted_opp.head(5)"
   ]
  },
  {
   "cell_type": "markdown",
   "metadata": {},
   "source": [
    "Now lets see which neighborhoods have incidents classified as 99 and which ones have incidents classified as 0."
   ]
  },
  {
   "cell_type": "code",
   "execution_count": 42,
   "metadata": {},
   "outputs": [],
   "source": [
    "ranked_incidents=gpd.read_file('Police_Incidents.csv')\n",
    "#only include incidents with a hierarchy of 99 in the dataset\n",
    "ranked_incidents=ranked_incidents[ranked_incidents[\"HIERARCHY\"] == \"99\"]"
   ]
  },
  {
   "cell_type": "code",
   "execution_count": 43,
   "metadata": {},
   "outputs": [],
   "source": [
    "\n",
    "severity = pd.DataFrame(columns = [\"Neighborhood\" ,\"Number of Incidents Classified 99\"])\n",
    "severity[\"Neighborhood\"] = incidents_agg[\"Neighborhood\"]\n",
    "severity[\"Number of Incidents Classified 99\"] = 0\n",
    "\n",
    "for i, row in ranked_incidents.iterrows():\n",
    "    neighborhood = row[\"INCIDENTNEIGHBORHOOD\"]\n",
    " # Check to see if the neighborhood is already been acremented\n",
    "        #If so, increment the number of incidents that are classified 99 in that neighborhood\n",
    "    if neighborhood in severity[\"Neighborhood\"].values:\n",
    "            severity.loc[severity[\"Neighborhood\"] == neighborhood, \"Number of Incidents Classified 99\"] += 1\n",
    "    else:\n",
    "        # If not, add a new row to the aggregated DataFrame\n",
    "            agg_new_row = pd.DataFrame({ 'Neighborhood': [neighborhood], 'Number of Incidents Classified 99': [1] })\n",
    "            severity = pd.concat([severity, agg_new_row])\n",
    "\n",
    "        \n",
    "\n"
   ]
  },
  {
   "cell_type": "code",
   "execution_count": 44,
   "metadata": {},
   "outputs": [
    {
     "data": {
      "text/html": [
       "<div>\n",
       "<style scoped>\n",
       "    .dataframe tbody tr th:only-of-type {\n",
       "        vertical-align: middle;\n",
       "    }\n",
       "\n",
       "    .dataframe tbody tr th {\n",
       "        vertical-align: top;\n",
       "    }\n",
       "\n",
       "    .dataframe thead th {\n",
       "        text-align: right;\n",
       "    }\n",
       "</style>\n",
       "<table border=\"1\" class=\"dataframe\">\n",
       "  <thead>\n",
       "    <tr style=\"text-align: right;\">\n",
       "      <th></th>\n",
       "      <th>Neighborhood</th>\n",
       "      <th>Number of Incidents Classified 99</th>\n",
       "    </tr>\n",
       "  </thead>\n",
       "  <tbody>\n",
       "    <tr>\n",
       "      <th>0</th>\n",
       "      <td>Central Business District</td>\n",
       "      <td>6016</td>\n",
       "    </tr>\n",
       "    <tr>\n",
       "      <th>0</th>\n",
       "      <td>South Side Flats</td>\n",
       "      <td>4861</td>\n",
       "    </tr>\n",
       "    <tr>\n",
       "      <th>0</th>\n",
       "      <td>Carrick</td>\n",
       "      <td>3469</td>\n",
       "    </tr>\n",
       "    <tr>\n",
       "      <th>0</th>\n",
       "      <td>Brookline</td>\n",
       "      <td>2797</td>\n",
       "    </tr>\n",
       "    <tr>\n",
       "      <th>0</th>\n",
       "      <td>Mount Washington</td>\n",
       "      <td>2592</td>\n",
       "    </tr>\n",
       "  </tbody>\n",
       "</table>\n",
       "</div>"
      ],
      "text/plain": [
       "                Neighborhood  Number of Incidents Classified 99\n",
       "0  Central Business District                               6016\n",
       "0           South Side Flats                               4861\n",
       "0                    Carrick                               3469\n",
       "0                  Brookline                               2797\n",
       "0           Mount Washington                               2592"
      ]
     },
     "execution_count": 44,
     "metadata": {},
     "output_type": "execute_result"
    }
   ],
   "source": [
    "severity_sorted= severity.sort_values(\"Number of Incidents Classified 99\", ascending=False)\n",
    "severity_sorted.head(5)"
   ]
  },
  {
   "cell_type": "markdown",
   "metadata": {},
   "source": [
    "We can see the district with the most 99 level incidents is Central Business District. Lets plot the top ten nieghborhoods with 99 level incidents to see the distribution."
   ]
  },
  {
   "cell_type": "markdown",
   "metadata": {},
   "source": [
    "plt = severity_sorted.iloc[:10].plot(kind='bar', x=\"Neighborhood\", y=\"Number of Incidents Classified 99\", title=\"Pittsburgh Neighborhoods with the Most Incidents Classified 99\")"
   ]
  },
  {
   "cell_type": "markdown",
   "metadata": {},
   "source": [
    "Finally, lets determine which neighborhoods have the highest number of incidents that are ranked 0 on the nierarchy, by repeating the process above but replacing 99 with 0."
   ]
  },
  {
   "cell_type": "code",
   "execution_count": 45,
   "metadata": {},
   "outputs": [],
   "source": [
    "ranked_incidents=gpd.read_file('Police_Incidents.csv')\n",
    "#only include incidents with a hierarchy of 99 in the dataset\n",
    "ranked_incidents=ranked_incidents[ranked_incidents[\"HIERARCHY\"] == \"0\"]"
   ]
  },
  {
   "cell_type": "code",
   "execution_count": 46,
   "metadata": {},
   "outputs": [],
   "source": [
    "Severity = pd.DataFrame(columns = [\"Neighborhood\" ,\"Number of Incidents Classified 0\"])\n",
    "Severity[\"Neighborhood\"] = incidents_agg[\"Neighborhood\"]\n",
    "Severity[\"Number of Incidents Classified 0\"] = 0\n",
    "\n",
    "for i, row in ranked_incidents.iterrows():\n",
    "    neighborhood = row[\"INCIDENTNEIGHBORHOOD\"]\n",
    " # Check to see if the neighborhood is already been acremented\n",
    "        #If so, increment the number of incidents that are classified 99 in that neighborhood\n",
    "    if neighborhood in Severity[\"Neighborhood\"].values:\n",
    "            Severity.loc[Severity[\"Neighborhood\"] == neighborhood, \"Number of Incidents Classified 0\"] += 1\n",
    "    else:\n",
    "        # If not, add a new row to the aggregated DataFrame\n",
    "            agg_new_row = pd.DataFrame({ 'Neighborhood': [neighborhood], 'Number of Incidents Classified 0': [1] })\n",
    "            Severity = pd.concat([Severity, agg_new_row])\n"
   ]
  },
  {
   "cell_type": "code",
   "execution_count": 47,
   "metadata": {},
   "outputs": [
    {
     "data": {
      "text/html": [
       "<div>\n",
       "<style scoped>\n",
       "    .dataframe tbody tr th:only-of-type {\n",
       "        vertical-align: middle;\n",
       "    }\n",
       "\n",
       "    .dataframe tbody tr th {\n",
       "        vertical-align: top;\n",
       "    }\n",
       "\n",
       "    .dataframe thead th {\n",
       "        text-align: right;\n",
       "    }\n",
       "</style>\n",
       "<table border=\"1\" class=\"dataframe\">\n",
       "  <thead>\n",
       "    <tr style=\"text-align: right;\">\n",
       "      <th></th>\n",
       "      <th>Neighborhood</th>\n",
       "      <th>Number of Incidents Classified 0</th>\n",
       "    </tr>\n",
       "  </thead>\n",
       "  <tbody>\n",
       "    <tr>\n",
       "      <th>0</th>\n",
       "      <td>South Side Slopes</td>\n",
       "      <td>14</td>\n",
       "    </tr>\n",
       "    <tr>\n",
       "      <th>0</th>\n",
       "      <td>South Side Flats</td>\n",
       "      <td>13</td>\n",
       "    </tr>\n",
       "    <tr>\n",
       "      <th>0</th>\n",
       "      <td>Central Business District</td>\n",
       "      <td>12</td>\n",
       "    </tr>\n",
       "    <tr>\n",
       "      <th>0</th>\n",
       "      <td>Carrick</td>\n",
       "      <td>12</td>\n",
       "    </tr>\n",
       "    <tr>\n",
       "      <th>0</th>\n",
       "      <td>Strip District</td>\n",
       "      <td>9</td>\n",
       "    </tr>\n",
       "  </tbody>\n",
       "</table>\n",
       "</div>"
      ],
      "text/plain": [
       "                Neighborhood  Number of Incidents Classified 0\n",
       "0          South Side Slopes                                14\n",
       "0           South Side Flats                                13\n",
       "0  Central Business District                                12\n",
       "0                    Carrick                                12\n",
       "0             Strip District                                 9"
      ]
     },
     "execution_count": 47,
     "metadata": {},
     "output_type": "execute_result"
    }
   ],
   "source": [
    "Severity_sorted= Severity.sort_values(\"Number of Incidents Classified 0\", ascending=False)\n",
    "Severity_sorted.head(5)"
   ]
  },
  {
   "cell_type": "markdown",
   "metadata": {},
   "source": [
    "And let's plot this data:"
   ]
  },
  {
   "cell_type": "code",
   "execution_count": 48,
   "metadata": {},
   "outputs": [
    {
     "data": {
      "image/png": "[encoded data removed]",
      "text/plain": [
       "<Figure size 432x288 with 1 Axes>"
      ]
     },
     "metadata": {
      "needs_background": "light"
     },
     "output_type": "display_data"
    }
   ],
   "source": [
    "plt = Severity_sorted.iloc[:10].plot(kind='bar', x=\"Neighborhood\", y=\"Number of Incidents Classified 0\", title=\"Pittsburgh Neighborhoods with the Most Incidents Classified 0\")"
   ]
  },
  {
   "cell_type": "markdown",
   "metadata": {},
   "source": [
    "By comparing the bar graphs of the number of total incidents per neighborhood with the number of incidents classified as level 99, we can see that South Side Flats has the most number of total incidents, and one of the highest number of incidents ranked 99 in the hierarchy. You would think this means South Side Flats is one of the more dangerous places to live. However, the original dataset also used descriptions of the incident along with the hierarchy and location, and the descriptions show us that an incident that is 99 on the Hierarchy is actually least severe, and the incidents ranked 0 are most severe, which means South Side Slopes, with the highest number of level 0 incidents in Pittsburgh would probably be the most dangerous neighborhood to live. This makes sense, because the highest number of level 99 incidents in one neighborhood was 6016, while the highest number of level 0 incidents in one neighborhood was only 14, because it is a much more serious crime. And overall, the neighborhood with the smallest amount of total incidents was Mt. Oliver Boro, making it most likely the safest neighborhood to live based soley on the Police Incidents Metric."
   ]
  },
  {
   "cell_type": "code",
   "execution_count": 49,
   "metadata": {},
   "outputs": [
    {
     "data": {
      "text/html": [
       "<div>\n",
       "<style scoped>\n",
       "    .dataframe tbody tr th:only-of-type {\n",
       "        vertical-align: middle;\n",
       "    }\n",
       "\n",
       "    .dataframe tbody tr th {\n",
       "        vertical-align: top;\n",
       "    }\n",
       "\n",
       "    .dataframe thead th {\n",
       "        text-align: right;\n",
       "    }\n",
       "</style>\n",
       "<table border=\"1\" class=\"dataframe\">\n",
       "  <thead>\n",
       "    <tr style=\"text-align: right;\">\n",
       "      <th></th>\n",
       "      <th>PK</th>\n",
       "      <th>CCR</th>\n",
       "      <th>HIERARCHY</th>\n",
       "      <th>INCIDENTTIME</th>\n",
       "      <th>INCIDENTLOCATION</th>\n",
       "      <th>CLEAREDFLAG</th>\n",
       "      <th>INCIDENTNEIGHBORHOOD</th>\n",
       "      <th>INCIDENTZONE</th>\n",
       "      <th>INCIDENTHIERARCHYDESC</th>\n",
       "      <th>OFFENSES</th>\n",
       "      <th>INCIDENTTRACT</th>\n",
       "      <th>COUNCIL_DISTRICT</th>\n",
       "      <th>PUBLIC_WORKS_DIVISION</th>\n",
       "      <th>X</th>\n",
       "      <th>Y</th>\n",
       "      <th>geometry</th>\n",
       "    </tr>\n",
       "  </thead>\n",
       "  <tbody>\n",
       "    <tr>\n",
       "      <th>4933</th>\n",
       "      <td>2811938</td>\n",
       "      <td>16029663</td>\n",
       "      <td>14</td>\n",
       "      <td>2016-02-18T07:50:00</td>\n",
       "      <td>300 Block Brownsville RD Pittsburgh, PA 15210</td>\n",
       "      <td>N</td>\n",
       "      <td>Mt. Oliver Boro</td>\n",
       "      <td>3</td>\n",
       "      <td>CRIMINAL MISCHIEF</td>\n",
       "      <td>3304 Criminal Mischief.</td>\n",
       "      <td>4810</td>\n",
       "      <td>3</td>\n",
       "      <td>4</td>\n",
       "      <td>-79.98835946</td>\n",
       "      <td>40.4142895</td>\n",
       "      <td>None</td>\n",
       "    </tr>\n",
       "    <tr>\n",
       "      <th>5608</th>\n",
       "      <td>2812987</td>\n",
       "      <td>16033854</td>\n",
       "      <td>11</td>\n",
       "      <td>2016-02-24T12:00:00</td>\n",
       "      <td>400 Block Brownsville RD Pittsburgh, PA 15210</td>\n",
       "      <td>N</td>\n",
       "      <td>Mt. Oliver Boro</td>\n",
       "      <td>3</td>\n",
       "      <td>THEFT OF SERVICES</td>\n",
       "      <td>9999 Miscellaneous Report (No Crime)</td>\n",
       "      <td>4810</td>\n",
       "      <td>3</td>\n",
       "      <td>4</td>\n",
       "      <td>-79.98912555</td>\n",
       "      <td>40.41324466</td>\n",
       "      <td>None</td>\n",
       "    </tr>\n",
       "    <tr>\n",
       "      <th>7408</th>\n",
       "      <td>2817610</td>\n",
       "      <td>16044545</td>\n",
       "      <td>99</td>\n",
       "      <td>2016-03-12T04:30:00</td>\n",
       "      <td>Liberty TUN &amp; E Warrington AV Pittsburgh, PA 1...</td>\n",
       "      <td>N</td>\n",
       "      <td>Mt. Oliver Boro</td>\n",
       "      <td>3</td>\n",
       "      <td>NA</td>\n",
       "      <td>3743 Accidents Involving Damage to Attended Ve...</td>\n",
       "      <td>4810</td>\n",
       "      <td></td>\n",
       "      <td></td>\n",
       "      <td>0</td>\n",
       "      <td>0</td>\n",
       "      <td>None</td>\n",
       "    </tr>\n",
       "    <tr>\n",
       "      <th>9578</th>\n",
       "      <td>2825111</td>\n",
       "      <td>16061606</td>\n",
       "      <td>99</td>\n",
       "      <td>2016-04-01T07:00:00</td>\n",
       "      <td>200 Block ANTHONY ST PITTSBURGH, PA 15210</td>\n",
       "      <td>N</td>\n",
       "      <td>Mt. Oliver Boro</td>\n",
       "      <td>3</td>\n",
       "      <td>NA</td>\n",
       "      <td>9999 (Misc. Crime)</td>\n",
       "      <td>4810</td>\n",
       "      <td></td>\n",
       "      <td></td>\n",
       "      <td>-79.98647578</td>\n",
       "      <td>40.41224679</td>\n",
       "      <td>None</td>\n",
       "    </tr>\n",
       "    <tr>\n",
       "      <th>14915</th>\n",
       "      <td>2831789</td>\n",
       "      <td>16090396</td>\n",
       "      <td>10</td>\n",
       "      <td>2016-05-17T14:05:00</td>\n",
       "      <td>700 Block Brownsville RD Pittsburgh, PA 15210</td>\n",
       "      <td>N</td>\n",
       "      <td>Mt. Oliver Boro</td>\n",
       "      <td>3</td>\n",
       "      <td>HARRASSMENT/THREAT/ATTEMPT/PHY</td>\n",
       "      <td>2709(a)(1) Harassment by Physical Contact, or ...</td>\n",
       "      <td>4810</td>\n",
       "      <td>3</td>\n",
       "      <td>4</td>\n",
       "      <td>-79.99090163</td>\n",
       "      <td>40.4098476</td>\n",
       "      <td>None</td>\n",
       "    </tr>\n",
       "    <tr>\n",
       "      <th>...</th>\n",
       "      <td>...</td>\n",
       "      <td>...</td>\n",
       "      <td>...</td>\n",
       "      <td>...</td>\n",
       "      <td>...</td>\n",
       "      <td>...</td>\n",
       "      <td>...</td>\n",
       "      <td>...</td>\n",
       "      <td>...</td>\n",
       "      <td>...</td>\n",
       "      <td>...</td>\n",
       "      <td>...</td>\n",
       "      <td>...</td>\n",
       "      <td>...</td>\n",
       "      <td>...</td>\n",
       "      <td>...</td>\n",
       "    </tr>\n",
       "    <tr>\n",
       "      <th>286633</th>\n",
       "      <td>3321072</td>\n",
       "      <td>22097333</td>\n",
       "      <td>15</td>\n",
       "      <td>2022-06-21T13:05:00</td>\n",
       "      <td>90 Block Amanda AV Pittsburgh, PA 15211</td>\n",
       "      <td>N</td>\n",
       "      <td>Mt. Oliver Boro</td>\n",
       "      <td>3</td>\n",
       "      <td>WEAPONS-CARRY/POS-OTHER</td>\n",
       "      <td>8106 Shots Fired</td>\n",
       "      <td>4810</td>\n",
       "      <td></td>\n",
       "      <td></td>\n",
       "      <td></td>\n",
       "      <td></td>\n",
       "      <td>None</td>\n",
       "    </tr>\n",
       "    <tr>\n",
       "      <th>290204</th>\n",
       "      <td>3328108</td>\n",
       "      <td>22117602</td>\n",
       "      <td>10</td>\n",
       "      <td>2022-07-24T13:10:00</td>\n",
       "      <td>600 Block Brownsville RD Pittsburgh, PA 15210</td>\n",
       "      <td>N</td>\n",
       "      <td>Mt. Oliver Boro</td>\n",
       "      <td>3</td>\n",
       "      <td>SIMPLE ASSAULT/INJURY</td>\n",
       "      <td>3503 Criminal Trespass / 2701(a)(3) Simple Ass...</td>\n",
       "      <td>4810</td>\n",
       "      <td></td>\n",
       "      <td></td>\n",
       "      <td></td>\n",
       "      <td></td>\n",
       "      <td>None</td>\n",
       "    </tr>\n",
       "    <tr>\n",
       "      <th>294849</th>\n",
       "      <td>3338250</td>\n",
       "      <td>22142983</td>\n",
       "      <td>99</td>\n",
       "      <td>2022-09-04T02:59:00</td>\n",
       "      <td>400 Block Brownsville RD Mount Oliver, PA 15210</td>\n",
       "      <td>Y</td>\n",
       "      <td>Mt. Oliver Boro</td>\n",
       "      <td>OSC</td>\n",
       "      <td>NA</td>\n",
       "      <td>9999 Miscellaneous Report (No Crime)</td>\n",
       "      <td>4810</td>\n",
       "      <td>3</td>\n",
       "      <td>5</td>\n",
       "      <td>-79.9891288578756</td>\n",
       "      <td>40.4132526275658</td>\n",
       "      <td>None</td>\n",
       "    </tr>\n",
       "    <tr>\n",
       "      <th>295344</th>\n",
       "      <td>3339144</td>\n",
       "      <td>22146639</td>\n",
       "      <td>6</td>\n",
       "      <td>2022-09-10T08:00:00</td>\n",
       "      <td>700 Block Brownsville RD Pittsburgh, PA 15210</td>\n",
       "      <td>N</td>\n",
       "      <td>Mt. Oliver Boro</td>\n",
       "      <td>3</td>\n",
       "      <td>THEFT FROM AUTO</td>\n",
       "      <td>3304 Criminal Mischief. / 3921 Theft by Unlawf...</td>\n",
       "      <td>4810</td>\n",
       "      <td>3</td>\n",
       "      <td>5</td>\n",
       "      <td>-79.9906009292209</td>\n",
       "      <td>40.4098987771292</td>\n",
       "      <td>None</td>\n",
       "    </tr>\n",
       "    <tr>\n",
       "      <th>301998</th>\n",
       "      <td>3354282</td>\n",
       "      <td>22182633</td>\n",
       "      <td>99</td>\n",
       "      <td>2022-11-11T22:00:00</td>\n",
       "      <td>400 Block Brownsville RD Pittsburgh, PA 15210</td>\n",
       "      <td>N</td>\n",
       "      <td>Mt. Oliver Boro</td>\n",
       "      <td>3</td>\n",
       "      <td>NA</td>\n",
       "      <td>9501 Bench Warrant</td>\n",
       "      <td>4810</td>\n",
       "      <td>3</td>\n",
       "      <td>5</td>\n",
       "      <td>-79.9891288578756</td>\n",
       "      <td>40.4132526275658</td>\n",
       "      <td>None</td>\n",
       "    </tr>\n",
       "  </tbody>\n",
       "</table>\n",
       "<p>94 rows × 16 columns</p>\n",
       "</div>"
      ],
      "text/plain": [
       "             PK       CCR HIERARCHY         INCIDENTTIME  \\\n",
       "4933    2811938  16029663        14  2016-02-18T07:50:00   \n",
       "5608    2812987  16033854        11  2016-02-24T12:00:00   \n",
       "7408    2817610  16044545        99  2016-03-12T04:30:00   \n",
       "9578    2825111  16061606        99  2016-04-01T07:00:00   \n",
       "14915   2831789  16090396        10  2016-05-17T14:05:00   \n",
       "...         ...       ...       ...                  ...   \n",
       "286633  3321072  22097333        15  2022-06-21T13:05:00   \n",
       "290204  3328108  22117602        10  2022-07-24T13:10:00   \n",
       "294849  3338250  22142983        99  2022-09-04T02:59:00   \n",
       "295344  3339144  22146639         6  2022-09-10T08:00:00   \n",
       "301998  3354282  22182633        99  2022-11-11T22:00:00   \n",
       "\n",
       "                                         INCIDENTLOCATION CLEAREDFLAG  \\\n",
       "4933        300 Block Brownsville RD Pittsburgh, PA 15210           N   \n",
       "5608        400 Block Brownsville RD Pittsburgh, PA 15210           N   \n",
       "7408    Liberty TUN & E Warrington AV Pittsburgh, PA 1...           N   \n",
       "9578            200 Block ANTHONY ST PITTSBURGH, PA 15210           N   \n",
       "14915       700 Block Brownsville RD Pittsburgh, PA 15210           N   \n",
       "...                                                   ...         ...   \n",
       "286633            90 Block Amanda AV Pittsburgh, PA 15211           N   \n",
       "290204      600 Block Brownsville RD Pittsburgh, PA 15210           N   \n",
       "294849    400 Block Brownsville RD Mount Oliver, PA 15210           Y   \n",
       "295344      700 Block Brownsville RD Pittsburgh, PA 15210           N   \n",
       "301998      400 Block Brownsville RD Pittsburgh, PA 15210           N   \n",
       "\n",
       "       INCIDENTNEIGHBORHOOD INCIDENTZONE           INCIDENTHIERARCHYDESC  \\\n",
       "4933        Mt. Oliver Boro            3               CRIMINAL MISCHIEF   \n",
       "5608        Mt. Oliver Boro            3               THEFT OF SERVICES   \n",
       "7408        Mt. Oliver Boro            3                              NA   \n",
       "9578        Mt. Oliver Boro            3                              NA   \n",
       "14915       Mt. Oliver Boro            3  HARRASSMENT/THREAT/ATTEMPT/PHY   \n",
       "...                     ...          ...                             ...   \n",
       "286633      Mt. Oliver Boro            3         WEAPONS-CARRY/POS-OTHER   \n",
       "290204      Mt. Oliver Boro            3           SIMPLE ASSAULT/INJURY   \n",
       "294849      Mt. Oliver Boro          OSC                              NA   \n",
       "295344      Mt. Oliver Boro            3                 THEFT FROM AUTO   \n",
       "301998      Mt. Oliver Boro            3                              NA   \n",
       "\n",
       "                                                 OFFENSES INCIDENTTRACT  \\\n",
       "4933                              3304 Criminal Mischief.          4810   \n",
       "5608                 9999 Miscellaneous Report (No Crime)          4810   \n",
       "7408    3743 Accidents Involving Damage to Attended Ve...          4810   \n",
       "9578                                   9999 (Misc. Crime)          4810   \n",
       "14915   2709(a)(1) Harassment by Physical Contact, or ...          4810   \n",
       "...                                                   ...           ...   \n",
       "286633                                   8106 Shots Fired          4810   \n",
       "290204  3503 Criminal Trespass / 2701(a)(3) Simple Ass...          4810   \n",
       "294849               9999 Miscellaneous Report (No Crime)          4810   \n",
       "295344  3304 Criminal Mischief. / 3921 Theft by Unlawf...          4810   \n",
       "301998                                 9501 Bench Warrant          4810   \n",
       "\n",
       "       COUNCIL_DISTRICT PUBLIC_WORKS_DIVISION                  X  \\\n",
       "4933                  3                     4       -79.98835946   \n",
       "5608                  3                     4       -79.98912555   \n",
       "7408                                                           0   \n",
       "9578                                                -79.98647578   \n",
       "14915                 3                     4       -79.99090163   \n",
       "...                 ...                   ...                ...   \n",
       "286633                                                             \n",
       "290204                                                             \n",
       "294849                3                     5  -79.9891288578756   \n",
       "295344                3                     5  -79.9906009292209   \n",
       "301998                3                     5  -79.9891288578756   \n",
       "\n",
       "                       Y geometry  \n",
       "4933          40.4142895     None  \n",
       "5608         40.41324466     None  \n",
       "7408                   0     None  \n",
       "9578         40.41224679     None  \n",
       "14915         40.4098476     None  \n",
       "...                  ...      ...  \n",
       "286633                       None  \n",
       "290204                       None  \n",
       "294849  40.4132526275658     None  \n",
       "295344  40.4098987771292     None  \n",
       "301998  40.4132526275658     None  \n",
       "\n",
       "[94 rows x 16 columns]"
      ]
     },
     "execution_count": 49,
     "metadata": {},
     "output_type": "execute_result"
    }
   ],
   "source": [
    "police_incidents.query('INCIDENTNEIGHBORHOOD.str.startswith(\"Mt. Oliver Boro\")')"
   ]
  },
  {
   "cell_type": "code",
   "execution_count": 50,
   "metadata": {},
   "outputs": [
    {
     "data": {
      "text/html": [
       "<div>\n",
       "<style scoped>\n",
       "    .dataframe tbody tr th:only-of-type {\n",
       "        vertical-align: middle;\n",
       "    }\n",
       "\n",
       "    .dataframe tbody tr th {\n",
       "        vertical-align: top;\n",
       "    }\n",
       "\n",
       "    .dataframe thead th {\n",
       "        text-align: right;\n",
       "    }\n",
       "</style>\n",
       "<table border=\"1\" class=\"dataframe\">\n",
       "  <thead>\n",
       "    <tr style=\"text-align: right;\">\n",
       "      <th></th>\n",
       "      <th>Neighborhood</th>\n",
       "      <th>Number of Incidents Classified 99</th>\n",
       "    </tr>\n",
       "  </thead>\n",
       "  <tbody>\n",
       "    <tr>\n",
       "      <th>0</th>\n",
       "      <td>Mt. Oliver Boro</td>\n",
       "      <td>33</td>\n",
       "    </tr>\n",
       "  </tbody>\n",
       "</table>\n",
       "</div>"
      ],
      "text/plain": [
       "      Neighborhood  Number of Incidents Classified 99\n",
       "0  Mt. Oliver Boro                                 33"
      ]
     },
     "execution_count": 50,
     "metadata": {},
     "output_type": "execute_result"
    }
   ],
   "source": [
    "severity.query('Neighborhood.str.startswith(\"Mt. Oliver Boro\")')"
   ]
  },
  {
   "cell_type": "code",
   "execution_count": 51,
   "metadata": {},
   "outputs": [
    {
     "data": {
      "text/html": [
       "<div>\n",
       "<style scoped>\n",
       "    .dataframe tbody tr th:only-of-type {\n",
       "        vertical-align: middle;\n",
       "    }\n",
       "\n",
       "    .dataframe tbody tr th {\n",
       "        vertical-align: top;\n",
       "    }\n",
       "\n",
       "    .dataframe thead th {\n",
       "        text-align: right;\n",
       "    }\n",
       "</style>\n",
       "<table border=\"1\" class=\"dataframe\">\n",
       "  <thead>\n",
       "    <tr style=\"text-align: right;\">\n",
       "      <th></th>\n",
       "      <th>Neighborhood</th>\n",
       "      <th>Number of Incidents Classified 0</th>\n",
       "    </tr>\n",
       "  </thead>\n",
       "  <tbody>\n",
       "    <tr>\n",
       "      <th>0</th>\n",
       "      <td>Mt. Oliver Boro</td>\n",
       "      <td>0</td>\n",
       "    </tr>\n",
       "  </tbody>\n",
       "</table>\n",
       "</div>"
      ],
      "text/plain": [
       "      Neighborhood  Number of Incidents Classified 0\n",
       "0  Mt. Oliver Boro                                 0"
      ]
     },
     "execution_count": 51,
     "metadata": {},
     "output_type": "execute_result"
    }
   ],
   "source": [
    "Severity.query('Neighborhood.str.startswith(\"Mt. Oliver Boro\")')"
   ]
  },
  {
   "cell_type": "code",
   "execution_count": 52,
   "metadata": {},
   "outputs": [
    {
     "data": {
      "text/html": [
       "<div>\n",
       "<style scoped>\n",
       "    .dataframe tbody tr th:only-of-type {\n",
       "        vertical-align: middle;\n",
       "    }\n",
       "\n",
       "    .dataframe tbody tr th {\n",
       "        vertical-align: top;\n",
       "    }\n",
       "\n",
       "    .dataframe thead th {\n",
       "        text-align: right;\n",
       "    }\n",
       "</style>\n",
       "<table border=\"1\" class=\"dataframe\">\n",
       "  <thead>\n",
       "    <tr style=\"text-align: right;\">\n",
       "      <th></th>\n",
       "      <th>Neighborhood</th>\n",
       "      <th>Number of Incidents</th>\n",
       "    </tr>\n",
       "  </thead>\n",
       "  <tbody>\n",
       "    <tr>\n",
       "      <th>0</th>\n",
       "      <td>Mt. Oliver Boro</td>\n",
       "      <td>94</td>\n",
       "    </tr>\n",
       "  </tbody>\n",
       "</table>\n",
       "</div>"
      ],
      "text/plain": [
       "      Neighborhood Number of Incidents\n",
       "0  Mt. Oliver Boro                  94"
      ]
     },
     "execution_count": 52,
     "metadata": {},
     "output_type": "execute_result"
    }
   ],
   "source": [
    "incidents_agg.query('Neighborhood.str.startswith(\"Mt. Oliver Boro\")')"
   ]
  },
  {
   "cell_type": "markdown",
   "metadata": {},
   "source": [
    "We can see that there only 94 incidents in Mt. Oliver Total, while South Side Flats, with the highest, has 17 thousand, and there are no 0 level incidents in Mt. Oliver."
   ]
  },
  {
   "cell_type": "markdown",
   "metadata": {},
   "source": [
    "# **Metric #3: Number of Fire Incidents in the Neighborhood**"
   ]
  },
  {
   "cell_type": "markdown",
   "metadata": {},
   "source": [
    "Analyzed by Steven Zheng"
   ]
  },
  {
   "attachments": {},
   "cell_type": "markdown",
   "metadata": {},
   "source": [
    "This dataset is a collection of the fire related incidents around the Pittsburgh area. The number of fire incidents can be used as a metric to measure the safety of the neighborhoods to ultimately find the \"best\" neighborhood in the Pittsburgh area."
   ]
  },
  {
   "cell_type": "code",
   "execution_count": 2,
   "metadata": {},
   "outputs": [
    {
     "data": {
      "text/html": [
       "<div>\n",
       "<style scoped>\n",
       "    .dataframe tbody tr th:only-of-type {\n",
       "        vertical-align: middle;\n",
       "    }\n",
       "\n",
       "    .dataframe tbody tr th {\n",
       "        vertical-align: top;\n",
       "    }\n",
       "\n",
       "    .dataframe thead th {\n",
       "        text-align: right;\n",
       "    }\n",
       "</style>\n",
       "<table border=\"1\" class=\"dataframe\">\n",
       "  <thead>\n",
       "    <tr style=\"text-align: right;\">\n",
       "      <th></th>\n",
       "      <th>call_no</th>\n",
       "      <th>incident_type</th>\n",
       "      <th>type_description</th>\n",
       "      <th>address</th>\n",
       "      <th>alarm_time</th>\n",
       "      <th>alarms</th>\n",
       "      <th>primary_unit</th>\n",
       "      <th>census_tract</th>\n",
       "      <th>neighborhood</th>\n",
       "      <th>council_district</th>\n",
       "      <th>ward</th>\n",
       "      <th>tract</th>\n",
       "      <th>public_works_division</th>\n",
       "      <th>pli_division</th>\n",
       "      <th>police_zone</th>\n",
       "      <th>fire_zone</th>\n",
       "      <th>latitude</th>\n",
       "      <th>longitude</th>\n",
       "    </tr>\n",
       "  </thead>\n",
       "  <tbody>\n",
       "    <tr>\n",
       "      <th>3</th>\n",
       "      <td>F170043431</td>\n",
       "      <td>131.0</td>\n",
       "      <td>Passenger vehicle fire</td>\n",
       "      <td>1700 BLOCK BELLEAU DR, PITTSBURGH PA 15212</td>\n",
       "      <td>2017-05-31T08:39:47</td>\n",
       "      <td>0</td>\n",
       "      <td>231EN38</td>\n",
       "      <td>2509.0</td>\n",
       "      <td>Fineview</td>\n",
       "      <td>6.0</td>\n",
       "      <td>25.0</td>\n",
       "      <td>4.200325e+10</td>\n",
       "      <td>1.0</td>\n",
       "      <td>25.0</td>\n",
       "      <td>1.0</td>\n",
       "      <td>1-10</td>\n",
       "      <td>40.460303</td>\n",
       "      <td>-80.006980</td>\n",
       "    </tr>\n",
       "    <tr>\n",
       "      <th>4</th>\n",
       "      <td>F180021111</td>\n",
       "      <td>111.0</td>\n",
       "      <td>Building fire</td>\n",
       "      <td>2400 BLOCK VILLAGE RD, PITTSBURGH PA 15205</td>\n",
       "      <td>2018-03-09T10:26:42</td>\n",
       "      <td>1</td>\n",
       "      <td>231EN31</td>\n",
       "      <td>2808.0</td>\n",
       "      <td>Fairywood</td>\n",
       "      <td>2.0</td>\n",
       "      <td>28.0</td>\n",
       "      <td>4.200356e+10</td>\n",
       "      <td>5.0</td>\n",
       "      <td>28.0</td>\n",
       "      <td>6.0</td>\n",
       "      <td>1-16</td>\n",
       "      <td>40.449009</td>\n",
       "      <td>-80.076607</td>\n",
       "    </tr>\n",
       "    <tr>\n",
       "      <th>5</th>\n",
       "      <td>F180021782</td>\n",
       "      <td>150.0</td>\n",
       "      <td>Outside rubbish fire, Other</td>\n",
       "      <td>S 7TH ST &amp; E CARSON ST, PITTSBURGH PA 15203</td>\n",
       "      <td>2018-03-12T09:13:28</td>\n",
       "      <td>0</td>\n",
       "      <td>231EN24</td>\n",
       "      <td>1702.0</td>\n",
       "      <td>South Side Flats</td>\n",
       "      <td>3.0</td>\n",
       "      <td>17.0</td>\n",
       "      <td>4.200317e+10</td>\n",
       "      <td>4.0</td>\n",
       "      <td>17.0</td>\n",
       "      <td>3.0</td>\n",
       "      <td>4-2</td>\n",
       "      <td>40.428618</td>\n",
       "      <td>-79.992239</td>\n",
       "    </tr>\n",
       "  </tbody>\n",
       "</table>\n",
       "</div>"
      ],
      "text/plain": [
       "      call_no  incident_type             type_description  \\\n",
       "3  F170043431          131.0       Passenger vehicle fire   \n",
       "4  F180021111          111.0                Building fire   \n",
       "5  F180021782          150.0  Outside rubbish fire, Other   \n",
       "\n",
       "                                       address           alarm_time  alarms  \\\n",
       "3   1700 BLOCK BELLEAU DR, PITTSBURGH PA 15212  2017-05-31T08:39:47       0   \n",
       "4   2400 BLOCK VILLAGE RD, PITTSBURGH PA 15205  2018-03-09T10:26:42       1   \n",
       "5  S 7TH ST & E CARSON ST, PITTSBURGH PA 15203  2018-03-12T09:13:28       0   \n",
       "\n",
       "  primary_unit  census_tract      neighborhood  council_district  ward  \\\n",
       "3      231EN38        2509.0          Fineview               6.0  25.0   \n",
       "4      231EN31        2808.0         Fairywood               2.0  28.0   \n",
       "5      231EN24        1702.0  South Side Flats               3.0  17.0   \n",
       "\n",
       "          tract  public_works_division  pli_division  police_zone fire_zone  \\\n",
       "3  4.200325e+10                    1.0          25.0          1.0      1-10   \n",
       "4  4.200356e+10                    5.0          28.0          6.0      1-16   \n",
       "5  4.200317e+10                    4.0          17.0          3.0       4-2   \n",
       "\n",
       "    latitude  longitude  \n",
       "3  40.460303 -80.006980  \n",
       "4  40.449009 -80.076607  \n",
       "5  40.428618 -79.992239  "
      ]
     },
     "execution_count": 2,
     "metadata": {},
     "output_type": "execute_result"
    }
   ],
   "source": [
    "#import pandas and geopandas\n",
    "import pandas as pd\n",
    "import geopandas as gpd\n",
    "\n",
    "#create a dataframe from the csv file\n",
    "df = pd.DataFrame(pd.read_csv(\"FireIncidents.csv\"))\n",
    "#dropping any null values\n",
    "fireIncidents = df.dropna(subset=[\"neighborhood\"])\n",
    "fireIncidents.head(3)"
   ]
  },
  {
   "cell_type": "markdown",
   "metadata": {},
   "source": [
    "We can see the dataset includes a description of the fire, time the alarmed went off, the primary unit on the site, and the neighborhood in which it happened.\n",
    "\n",
    "Focusing on a specific column: type_description, we can find the type of fire that it was. Examples include: building fires, passenger vehicle fires, cooking fires, etc. We can classify the incidents based on the incident type id, the lower the number, the more severe the incident. As an example: a building fire has the value of 111, while a outside equipment fire has the value of 162. A building fire is arguably more severe than a equipment fire. We can analyze this dataset to determine the neighborhood with the least amount of severe incidents and determine the safest area to live in.\n",
    "\n",
    "First, we should make a new dataframe as a way to hold our values later on, this specific one will match the neighborhood with its fire incident count."
   ]
  },
  {
   "cell_type": "code",
   "execution_count": 3,
   "metadata": {},
   "outputs": [],
   "source": [
    "#making a new dataframe to get rid of duplicates when sorting\n",
    "incidentCount = pd.DataFrame(columns=[\"Neighborhood\",\"Incident Count\"])\n",
    "incidentCount[\"Neighborhood\"] = fireIncidents[\"neighborhood\"]\n",
    "incidentCount[\"Incident Count\"] = 0"
   ]
  },
  {
   "cell_type": "markdown",
   "metadata": {},
   "source": [
    "Now we can move on to finding the incident count of the individual neighborhoods, right now we are just focusing on the number of incidents, not the specific type of incidents."
   ]
  },
  {
   "cell_type": "code",
   "execution_count": 4,
   "metadata": {},
   "outputs": [
    {
     "data": {
      "text/html": [
       "<div>\n",
       "<style scoped>\n",
       "    .dataframe tbody tr th:only-of-type {\n",
       "        vertical-align: middle;\n",
       "    }\n",
       "\n",
       "    .dataframe tbody tr th {\n",
       "        vertical-align: top;\n",
       "    }\n",
       "\n",
       "    .dataframe thead th {\n",
       "        text-align: right;\n",
       "    }\n",
       "</style>\n",
       "<table border=\"1\" class=\"dataframe\">\n",
       "  <thead>\n",
       "    <tr style=\"text-align: right;\">\n",
       "      <th></th>\n",
       "      <th>Neighborhood</th>\n",
       "      <th>Incident Count</th>\n",
       "    </tr>\n",
       "  </thead>\n",
       "  <tbody>\n",
       "    <tr>\n",
       "      <th>0</th>\n",
       "      <td>Fineview</td>\n",
       "      <td>46</td>\n",
       "    </tr>\n",
       "    <tr>\n",
       "      <th>0</th>\n",
       "      <td>Fairywood</td>\n",
       "      <td>23</td>\n",
       "    </tr>\n",
       "    <tr>\n",
       "      <th>0</th>\n",
       "      <td>South Side Flats</td>\n",
       "      <td>251</td>\n",
       "    </tr>\n",
       "  </tbody>\n",
       "</table>\n",
       "</div>"
      ],
      "text/plain": [
       "       Neighborhood Incident Count\n",
       "0          Fineview             46\n",
       "0         Fairywood             23\n",
       "0  South Side Flats            251"
      ]
     },
     "execution_count": 4,
     "metadata": {},
     "output_type": "execute_result"
    }
   ],
   "source": [
    "#new dataframe that will be filled with the neighborhoods and incident counts\n",
    "incidentCounter = pd.DataFrame(columns=[\"Neighborhood\",\"Incident Count\"])\n",
    "#interates through every row in incidentCount and increments if the value in the neighborhood column matches the neighborhood in incidentCounter\n",
    "for i, column in incidentCount.iterrows():\n",
    "    neighborhood = column[\"Neighborhood\"]\n",
    "    \n",
    "    if neighborhood in incidentCounter[\"Neighborhood\"].values:\n",
    "        incidentCounter.loc[incidentCounter[\"Neighborhood\"] == neighborhood, \"Incident Count\"] +=1\n",
    "    \n",
    "    else:\n",
    "        iCount = pd.DataFrame({'Neighborhood': [neighborhood], 'Incident Count' : [1]})\n",
    "        incidentCounter = pd.concat([incidentCounter, iCount])\n",
    "incidentCounter.head(3)\n",
    "        "
   ]
  },
  {
   "cell_type": "markdown",
   "metadata": {},
   "source": [
    "With the new dataframe filled in, we can now find the neighborhood with the most amount of incidents."
   ]
  },
  {
   "cell_type": "code",
   "execution_count": 5,
   "metadata": {},
   "outputs": [
    {
     "data": {
      "text/html": [
       "<div>\n",
       "<style scoped>\n",
       "    .dataframe tbody tr th:only-of-type {\n",
       "        vertical-align: middle;\n",
       "    }\n",
       "\n",
       "    .dataframe tbody tr th {\n",
       "        vertical-align: top;\n",
       "    }\n",
       "\n",
       "    .dataframe thead th {\n",
       "        text-align: right;\n",
       "    }\n",
       "</style>\n",
       "<table border=\"1\" class=\"dataframe\">\n",
       "  <thead>\n",
       "    <tr style=\"text-align: right;\">\n",
       "      <th></th>\n",
       "      <th>Neighborhood</th>\n",
       "      <th>Incident Count</th>\n",
       "    </tr>\n",
       "  </thead>\n",
       "  <tbody>\n",
       "    <tr>\n",
       "      <th>0</th>\n",
       "      <td>Carrick</td>\n",
       "      <td>280</td>\n",
       "    </tr>\n",
       "    <tr>\n",
       "      <th>0</th>\n",
       "      <td>Central Business District</td>\n",
       "      <td>255</td>\n",
       "    </tr>\n",
       "    <tr>\n",
       "      <th>0</th>\n",
       "      <td>South Side Flats</td>\n",
       "      <td>251</td>\n",
       "    </tr>\n",
       "    <tr>\n",
       "      <th>0</th>\n",
       "      <td>Squirrel Hill South</td>\n",
       "      <td>247</td>\n",
       "    </tr>\n",
       "    <tr>\n",
       "      <th>0</th>\n",
       "      <td>Hazelwood</td>\n",
       "      <td>238</td>\n",
       "    </tr>\n",
       "  </tbody>\n",
       "</table>\n",
       "</div>"
      ],
      "text/plain": [
       "                Neighborhood Incident Count\n",
       "0                    Carrick            280\n",
       "0  Central Business District            255\n",
       "0           South Side Flats            251\n",
       "0        Squirrel Hill South            247\n",
       "0                  Hazelwood            238"
      ]
     },
     "execution_count": 5,
     "metadata": {},
     "output_type": "execute_result"
    }
   ],
   "source": [
    "high = incidentCounter.sort_values(\"Incident Count\", ascending = False)\n",
    "high.head(5)"
   ]
  },
  {
   "cell_type": "code",
   "execution_count": 6,
   "metadata": {},
   "outputs": [
    {
     "data": {
      "image/png": "[encoded data removed]",
      "text/plain": [
       "<Figure size 432x288 with 1 Axes>"
      ]
     },
     "metadata": {
      "needs_background": "light"
     },
     "output_type": "display_data"
    }
   ],
   "source": [
    "plot = high.iloc[:10].plot(kind = 'bar', x = \"Neighborhood\", y = \"Incident Count\", title = \"Pittsburgh Neighborhoods with the Most Fire Incidents\")"
   ]
  },
  {
   "cell_type": "markdown",
   "metadata": {},
   "source": [
    "We can see that Carrick has the most amount of fire incidents, with Central Business District and South Side Flats not far behind."
   ]
  },
  {
   "cell_type": "code",
   "execution_count": 7,
   "metadata": {},
   "outputs": [
    {
     "data": {
      "image/png": "[encoded data removed]",
      "text/plain": [
       "<Figure size 432x288 with 1 Axes>"
      ]
     },
     "metadata": {
      "needs_background": "light"
     },
     "output_type": "display_data"
    }
   ],
   "source": [
    "low = incidentCounter.sort_values(\"Incident Count\", ascending = True)\n",
    "plot = low.iloc[:10].plot(kind = 'bar', x = \"Neighborhood\", y = \"Incident Count\", title = \"Pittsburgh Neighborhoods with the Least Fire Incidents\")"
   ]
  },
  {
   "cell_type": "markdown",
   "metadata": {},
   "source": [
    "Similar to the previous graph, this graph shows the amount of fire incidents, but differs as it shows the neighborhoods with the least amount. The neighborhood with the least amount is Mount Oliver Borough with 6.\n",
    "\n",
    "Repeating the process of finding fire incidents, but this time we are focusing on the severity of the fire. Once again we create a new dataframe from the csv file and set the number of incidents to zero."
   ]
  },
  {
   "cell_type": "code",
   "execution_count": 8,
   "metadata": {},
   "outputs": [],
   "source": [
    "#making a new dataframe to put information into\n",
    "fireC = pd.DataFrame(columns = [\"Neighborhood\", \"Number of Severe Fires(111)\"])\n",
    "fireC[\"Neighborhood\"] = fireIncidents[\"neighborhood\"]\n",
    "#this line of code acts like a filter, filtering out only the rows with the value of 111\n",
    "fireC = fireIncidents[fireIncidents[\"incident_type\"] == 111]"
   ]
  },
  {
   "cell_type": "markdown",
   "metadata": {},
   "source": [
    "Now we can determine the neighborhood with the largest amount of severe fires"
   ]
  },
  {
   "cell_type": "code",
   "execution_count": 9,
   "metadata": {},
   "outputs": [
    {
     "data": {
      "text/html": [
       "<div>\n",
       "<style scoped>\n",
       "    .dataframe tbody tr th:only-of-type {\n",
       "        vertical-align: middle;\n",
       "    }\n",
       "\n",
       "    .dataframe tbody tr th {\n",
       "        vertical-align: top;\n",
       "    }\n",
       "\n",
       "    .dataframe thead th {\n",
       "        text-align: right;\n",
       "    }\n",
       "</style>\n",
       "<table border=\"1\" class=\"dataframe\">\n",
       "  <thead>\n",
       "    <tr style=\"text-align: right;\">\n",
       "      <th></th>\n",
       "      <th>Neighborhood</th>\n",
       "      <th>Number of Severe Fires(111)</th>\n",
       "    </tr>\n",
       "  </thead>\n",
       "  <tbody>\n",
       "    <tr>\n",
       "      <th>0</th>\n",
       "      <td>Carrick</td>\n",
       "      <td>80</td>\n",
       "    </tr>\n",
       "    <tr>\n",
       "      <th>0</th>\n",
       "      <td>Homewood North</td>\n",
       "      <td>59</td>\n",
       "    </tr>\n",
       "    <tr>\n",
       "      <th>0</th>\n",
       "      <td>Sheraden</td>\n",
       "      <td>58</td>\n",
       "    </tr>\n",
       "    <tr>\n",
       "      <th>0</th>\n",
       "      <td>Knoxville</td>\n",
       "      <td>56</td>\n",
       "    </tr>\n",
       "    <tr>\n",
       "      <th>0</th>\n",
       "      <td>Homewood South</td>\n",
       "      <td>49</td>\n",
       "    </tr>\n",
       "    <tr>\n",
       "      <th>0</th>\n",
       "      <td>Lincoln-Lemington-Belmar</td>\n",
       "      <td>48</td>\n",
       "    </tr>\n",
       "    <tr>\n",
       "      <th>0</th>\n",
       "      <td>Beltzhoover</td>\n",
       "      <td>45</td>\n",
       "    </tr>\n",
       "    <tr>\n",
       "      <th>0</th>\n",
       "      <td>Perry South</td>\n",
       "      <td>44</td>\n",
       "    </tr>\n",
       "    <tr>\n",
       "      <th>0</th>\n",
       "      <td>Mount Washington</td>\n",
       "      <td>43</td>\n",
       "    </tr>\n",
       "    <tr>\n",
       "      <th>0</th>\n",
       "      <td>Larimer</td>\n",
       "      <td>43</td>\n",
       "    </tr>\n",
       "  </tbody>\n",
       "</table>\n",
       "</div>"
      ],
      "text/plain": [
       "               Neighborhood Number of Severe Fires(111)\n",
       "0                   Carrick                          80\n",
       "0            Homewood North                          59\n",
       "0                  Sheraden                          58\n",
       "0                 Knoxville                          56\n",
       "0            Homewood South                          49\n",
       "0  Lincoln-Lemington-Belmar                          48\n",
       "0               Beltzhoover                          45\n",
       "0               Perry South                          44\n",
       "0          Mount Washington                          43\n",
       "0                   Larimer                          43"
      ]
     },
     "execution_count": 9,
     "metadata": {},
     "output_type": "execute_result"
    }
   ],
   "source": [
    "#same thing as before, new dataframe to fill up with severe fire incident counts\n",
    "fireNumber = pd.DataFrame(columns = [\"Neighborhood\", \"Number of Severe Fires(111)\"])\n",
    "\n",
    "#iterates through every row in fireC\n",
    "for i, column in fireC.iterrows():\n",
    "    neighborhood = column[\"neighborhood\"]\n",
    "    if neighborhood in fireNumber[\"Neighborhood\"].values:\n",
    "        fireNumber.loc[fireNumber[\"Neighborhood\"] == neighborhood, \"Number of Severe Fires(111)\"]+=1 \n",
    "    \n",
    "    else:\n",
    "        fire_row = pd.DataFrame({\"Neighborhood\": [neighborhood], \"Number of Severe Fires(111)\":[1]})\n",
    "        fireNumber = pd.concat([fireNumber, fire_row])\n",
    "sort_high = fireNumber.sort_values(\"Number of Severe Fires(111)\", ascending = False)\n",
    "sort_high.head(10)"
   ]
  },
  {
   "cell_type": "code",
   "execution_count": 14,
   "metadata": {},
   "outputs": [
    {
     "data": {
      "image/png": "[encoded data removed]",
      "text/plain": [
       "<Figure size 432x288 with 1 Axes>"
      ]
     },
     "metadata": {
      "needs_background": "light"
     },
     "output_type": "display_data"
    }
   ],
   "source": [
    "plt = sort_high.iloc[:10].plot(kind='bar', x= 'Neighborhood', y= 'Number of Severe Fires(111)',title= \"Pittsburgh Neighborhoods with the Most Amount of Severe Fires\")"
   ]
  },
  {
   "cell_type": "code",
   "execution_count": 15,
   "metadata": {},
   "outputs": [
    {
     "data": {
      "image/png": "[encoded data removed]",
      "text/plain": [
       "<Figure size 432x288 with 1 Axes>"
      ]
     },
     "metadata": {
      "needs_background": "light"
     },
     "output_type": "display_data"
    }
   ],
   "source": [
    "sort_low = fireNumber.sort_values(\"Number of Severe Fires(111)\", ascending = True)\n",
    "plt = sort_low.iloc[:10].plot(kind = 'bar',x = \"Neighborhood\", y = \"Number of Severe Fires(111)\", title = \"Pittsburgh Neighborhoods with the Least Amount of Severe Fires\")"
   ]
  },
  {
   "cell_type": "markdown",
   "metadata": {},
   "source": [
    "Glancing at the bar graphs we can see that Glen Hazel has the least amount of severe fires, while Carrick has the greatest amount. If we look at the overall amount of fire incidents, Carrick is the neighborhood with the most incidents. This means that Carrick is the neighborhood most prone to having fire incidents and having severe fire incidents compared to the rest of the Pittsburgh neighborhoods. Glen Hazel is the neighborhood with the least amount of severe fires, however it not the neighborhood with the lowest amount of fire incidents, that would be Mount Oliver Borough. We can determine the overall safest neighborhood by searching for the incident count of Glen Hazel and the severe incident count of Mount Oliver Borough. Then we can compare the two to determine the safest neighborhood."
   ]
  },
  {
   "cell_type": "code",
   "execution_count": 16,
   "metadata": {},
   "outputs": [
    {
     "data": {
      "text/html": [
       "<div>\n",
       "<style scoped>\n",
       "    .dataframe tbody tr th:only-of-type {\n",
       "        vertical-align: middle;\n",
       "    }\n",
       "\n",
       "    .dataframe tbody tr th {\n",
       "        vertical-align: top;\n",
       "    }\n",
       "\n",
       "    .dataframe thead th {\n",
       "        text-align: right;\n",
       "    }\n",
       "</style>\n",
       "<table border=\"1\" class=\"dataframe\">\n",
       "  <thead>\n",
       "    <tr style=\"text-align: right;\">\n",
       "      <th></th>\n",
       "      <th>Neighborhood</th>\n",
       "      <th>Incident Count</th>\n",
       "    </tr>\n",
       "  </thead>\n",
       "  <tbody>\n",
       "    <tr>\n",
       "      <th>0</th>\n",
       "      <td>Glen Hazel</td>\n",
       "      <td>20</td>\n",
       "    </tr>\n",
       "  </tbody>\n",
       "</table>\n",
       "</div>"
      ],
      "text/plain": [
       "  Neighborhood Incident Count\n",
       "0   Glen Hazel             20"
      ]
     },
     "execution_count": 16,
     "metadata": {},
     "output_type": "execute_result"
    }
   ],
   "source": [
    "incidentCounter.query('Neighborhood.str.startswith(\"Glen Hazel\")')"
   ]
  },
  {
   "cell_type": "code",
   "execution_count": 17,
   "metadata": {},
   "outputs": [
    {
     "data": {
      "text/html": [
       "<div>\n",
       "<style scoped>\n",
       "    .dataframe tbody tr th:only-of-type {\n",
       "        vertical-align: middle;\n",
       "    }\n",
       "\n",
       "    .dataframe tbody tr th {\n",
       "        vertical-align: top;\n",
       "    }\n",
       "\n",
       "    .dataframe thead th {\n",
       "        text-align: right;\n",
       "    }\n",
       "</style>\n",
       "<table border=\"1\" class=\"dataframe\">\n",
       "  <thead>\n",
       "    <tr style=\"text-align: right;\">\n",
       "      <th></th>\n",
       "      <th>Neighborhood</th>\n",
       "      <th>Number of Severe Fires(111)</th>\n",
       "    </tr>\n",
       "  </thead>\n",
       "  <tbody>\n",
       "    <tr>\n",
       "      <th>0</th>\n",
       "      <td>Mount Oliver Borough</td>\n",
       "      <td>2</td>\n",
       "    </tr>\n",
       "  </tbody>\n",
       "</table>\n",
       "</div>"
      ],
      "text/plain": [
       "           Neighborhood Number of Severe Fires(111)\n",
       "0  Mount Oliver Borough                           2"
      ]
     },
     "execution_count": 17,
     "metadata": {},
     "output_type": "execute_result"
    }
   ],
   "source": [
    "fireNumber.query('Neighborhood.str.startswith(\"Mount Oliver Borough\")')"
   ]
  },
  {
   "cell_type": "markdown",
   "metadata": {},
   "source": [
    "After a quick comparison, it can be stated that Mount Olvier Borough is the least flammable (safest) neighborhood in the Allegheny area with 2 severe fires incident and an overall incident count of 6. In comparison, Glen Hazel has 20 incident counts and only 1 severe fire incident."
   ]
  },
  {
   "attachments": {},
   "cell_type": "markdown",
   "metadata": {},
   "source": [
    "# Conclusion:\n",
    "\n",
    "**Valerie:** My personal favorite neighborhood is Squirrel Hill, and it ranked pretty low for police incidents and citations. However, the winning neighborhood was Mt. Oliver Borough. It had an extremely low number of citations, and zero severe ones. It had had 94 police incidents when the maximum was above 17,000, and Mt. Oliver had zero police incidents of the most severe level in their hierarchy. And finally, it a total of six fire incidents, with only two being severe. It was ranked lowest in total fire and police incidents, and it did not even rank at all for the citations dataset. In conclusion, it is the safest option for kids to live off campus according to our metrics, including the fact it is only about a 20 minute commute to campus. Conversly we did find an ultimate worst option, with South Side Flats having the most number of police incidents, the highest number of severe incidents, a large number of severe citations, and the second highest number of fire incidents.\n",
    "\n",
    "\n",
    "**Steven:** After analyzing the three datasets and developing a different metric for each of the datasets, we have come to the conclusion that the overall safest neighborhood is Mount Oliver Borough. This was based on three different metrics, each based on a specific dataset. The first being the amount of citations, which are low level crimes, in which Mount Oliver Borough has a number of 4. The second metric is the number and severity of police incidents, in which Mount Oliver Borough has 94 police incidents, 0 classified as 0 and 33 classified as 99. Finally, the last metric is the amount of fire incidents in the neighborhood, which Mount Oliver Borough has 2 severe fire incidents and an overall incident count of 6. This results in Mount Oliver Borough being the safest option for a Pitt student to find a residence area as it has the lowest number of citations, police incidents, and fire incidents. My favorite neighborhood was also Squirrel Hill due to the amount of cuisines in the area, thankfully it also had a low count of fire incidents. It is a relatively safe area to live in."
   ]
  }
 ],
 "metadata": {
  "kernelspec": {
   "display_name": "Python 3",
   "language": "python",
   "name": "python3"
  },
  "language_info": {
   "codemirror_mode": {
    "name": "ipython",
    "version": 3
   },
   "file_extension": ".py",
   "mimetype": "text/x-python",
   "name": "python",
   "nbconvert_exporter": "python",
   "pygments_lexer": "ipython3",
   "version": "3.10.9"
  }
 },
 "nbformat": 4,
 "nbformat_minor": 4
}
