{
 "cells": [
  {
   "cell_type": "markdown",
   "metadata": {},
   "source": [
    "# Metric #1: Number of Police Incidents Per NeighborHood"
   ]
  },
  {
   "cell_type": "markdown",
   "metadata": {},
   "source": [
    "**Analyzed by Valerie Schaible**"
   ]
  },
  {
   "cell_type": "code",
   "execution_count": 8,
   "metadata": {},
   "outputs": [
    {
     "data": {
      "text/html": [
       "<div>\n",
       "<style scoped>\n",
       "    .dataframe tbody tr th:only-of-type {\n",
       "        vertical-align: middle;\n",
       "    }\n",
       "\n",
       "    .dataframe tbody tr th {\n",
       "        vertical-align: top;\n",
       "    }\n",
       "\n",
       "    .dataframe thead th {\n",
       "        text-align: right;\n",
       "    }\n",
       "</style>\n",
       "<table border=\"1\" class=\"dataframe\">\n",
       "  <thead>\n",
       "    <tr style=\"text-align: right;\">\n",
       "      <th></th>\n",
       "      <th>PK</th>\n",
       "      <th>CCR</th>\n",
       "      <th>HIERARCHY</th>\n",
       "      <th>INCIDENTTIME</th>\n",
       "      <th>INCIDENTLOCATION</th>\n",
       "      <th>CLEAREDFLAG</th>\n",
       "      <th>INCIDENTNEIGHBORHOOD</th>\n",
       "      <th>INCIDENTZONE</th>\n",
       "      <th>INCIDENTHIERARCHYDESC</th>\n",
       "      <th>OFFENSES</th>\n",
       "      <th>INCIDENTTRACT</th>\n",
       "      <th>COUNCIL_DISTRICT</th>\n",
       "      <th>PUBLIC_WORKS_DIVISION</th>\n",
       "      <th>X</th>\n",
       "      <th>Y</th>\n",
       "      <th>geometry</th>\n",
       "    </tr>\n",
       "  </thead>\n",
       "  <tbody>\n",
       "    <tr>\n",
       "      <th>0</th>\n",
       "      <td>2802309</td>\n",
       "      <td>16000001</td>\n",
       "      <td>10</td>\n",
       "      <td>2016-01-01T00:00:00</td>\n",
       "      <td>400 Block North Shore DR Pittsburgh, PA 15212</td>\n",
       "      <td>Y</td>\n",
       "      <td>North Shore</td>\n",
       "      <td>1</td>\n",
       "      <td>HARRASSMENT/THREAT/ATTEMPT/PHY</td>\n",
       "      <td>2702 Aggravated Assault. / 2709(a) Harassment....</td>\n",
       "      <td>2205</td>\n",
       "      <td>1</td>\n",
       "      <td>6</td>\n",
       "      <td>-80.01233658</td>\n",
       "      <td>40.44626305</td>\n",
       "      <td>None</td>\n",
       "    </tr>\n",
       "    <tr>\n",
       "      <th>1</th>\n",
       "      <td>2803174</td>\n",
       "      <td>16004547</td>\n",
       "      <td>11</td>\n",
       "      <td>2016-01-01T00:01:00</td>\n",
       "      <td>5400 Block Carnegie ST Pittsburgh, PA 15201</td>\n",
       "      <td>N</td>\n",
       "      <td>Upper Lawrenceville</td>\n",
       "      <td>2</td>\n",
       "      <td>THEFT BY DECEPTION</td>\n",
       "      <td>3922 Theft by Deception.</td>\n",
       "      <td>1011</td>\n",
       "      <td>7</td>\n",
       "      <td>2</td>\n",
       "      <td>-79.950295</td>\n",
       "      <td>40.48228989</td>\n",
       "      <td>None</td>\n",
       "    </tr>\n",
       "    <tr>\n",
       "      <th>2</th>\n",
       "      <td>2801809</td>\n",
       "      <td>16000367</td>\n",
       "      <td>4</td>\n",
       "      <td>2016-01-01T00:10:00</td>\n",
       "      <td>500 Block Mt Pleasant RD Pittsburgh, PA 15214</td>\n",
       "      <td>N</td>\n",
       "      <td>Northview Heights</td>\n",
       "      <td>1</td>\n",
       "      <td>DISCHARGE OF FIREARM INTO OCC.STRUCTURE</td>\n",
       "      <td>2707.1 Discharge of a Firearm into Occupied St...</td>\n",
       "      <td>2609</td>\n",
       "      <td>1</td>\n",
       "      <td>1</td>\n",
       "      <td>-80.00096629</td>\n",
       "      <td>40.47865057</td>\n",
       "      <td>None</td>\n",
       "    </tr>\n",
       "  </tbody>\n",
       "</table>\n",
       "</div>"
      ],
      "text/plain": [
       "        PK       CCR HIERARCHY         INCIDENTTIME  \\\n",
       "0  2802309  16000001        10  2016-01-01T00:00:00   \n",
       "1  2803174  16004547        11  2016-01-01T00:01:00   \n",
       "2  2801809  16000367         4  2016-01-01T00:10:00   \n",
       "\n",
       "                                INCIDENTLOCATION CLEAREDFLAG  \\\n",
       "0  400 Block North Shore DR Pittsburgh, PA 15212           Y   \n",
       "1    5400 Block Carnegie ST Pittsburgh, PA 15201           N   \n",
       "2  500 Block Mt Pleasant RD Pittsburgh, PA 15214           N   \n",
       "\n",
       "  INCIDENTNEIGHBORHOOD INCIDENTZONE                    INCIDENTHIERARCHYDESC  \\\n",
       "0          North Shore            1           HARRASSMENT/THREAT/ATTEMPT/PHY   \n",
       "1  Upper Lawrenceville            2                       THEFT BY DECEPTION   \n",
       "2    Northview Heights            1  DISCHARGE OF FIREARM INTO OCC.STRUCTURE   \n",
       "\n",
       "                                            OFFENSES INCIDENTTRACT  \\\n",
       "0  2702 Aggravated Assault. / 2709(a) Harassment....          2205   \n",
       "1                           3922 Theft by Deception.          1011   \n",
       "2  2707.1 Discharge of a Firearm into Occupied St...          2609   \n",
       "\n",
       "  COUNCIL_DISTRICT PUBLIC_WORKS_DIVISION             X            Y geometry  \n",
       "0                1                     6  -80.01233658  40.44626305     None  \n",
       "1                7                     2    -79.950295  40.48228989     None  \n",
       "2                1                     1  -80.00096629  40.47865057     None  "
      ]
     },
     "execution_count": 8,
     "metadata": {},
     "output_type": "execute_result"
    }
   ],
   "source": [
    "import geopandas as gpd\n",
    "import pandas as pd\n",
    "\n",
    "# Load in the police incidents\n",
    "police_incidents= gpd.read_file('Police_Incidents.csv')\n",
    "\n",
    "police_incidents.head(3)"
   ]
  },
  {
   "cell_type": "markdown",
   "metadata": {},
   "source": [
    "This dataset shows all police incidents in Pittsburgh neighborhoods in the last 30 days, as well as categorizing them based on a hierarchy of threat/danger associated with the incident. We can now analyze this dataset to see which neighborhood has the most incidents, and which neighborhood has the most incidents that are highest in the heirarchy."
   ]
  },
  {
   "cell_type": "code",
   "execution_count": 18,
   "metadata": {},
   "outputs": [
    {
     "data": {
      "text/html": [
       "<div>\n",
       "<style scoped>\n",
       "    .dataframe tbody tr th:only-of-type {\n",
       "        vertical-align: middle;\n",
       "    }\n",
       "\n",
       "    .dataframe tbody tr th {\n",
       "        vertical-align: top;\n",
       "    }\n",
       "\n",
       "    .dataframe thead th {\n",
       "        text-align: right;\n",
       "    }\n",
       "</style>\n",
       "<table border=\"1\" class=\"dataframe\">\n",
       "  <thead>\n",
       "    <tr style=\"text-align: right;\">\n",
       "      <th></th>\n",
       "      <th>Neighborhood</th>\n",
       "      <th>Number of Incidents</th>\n",
       "    </tr>\n",
       "  </thead>\n",
       "  <tbody>\n",
       "    <tr>\n",
       "      <th>0</th>\n",
       "      <td>North Shore</td>\n",
       "      <td>0</td>\n",
       "    </tr>\n",
       "    <tr>\n",
       "      <th>1</th>\n",
       "      <td>Upper Lawrenceville</td>\n",
       "      <td>0</td>\n",
       "    </tr>\n",
       "    <tr>\n",
       "      <th>2</th>\n",
       "      <td>Northview Heights</td>\n",
       "      <td>0</td>\n",
       "    </tr>\n",
       "  </tbody>\n",
       "</table>\n",
       "</div>"
      ],
      "text/plain": [
       "          Neighborhood  Number of Incidents\n",
       "0          North Shore                    0\n",
       "1  Upper Lawrenceville                    0\n",
       "2    Northview Heights                    0"
      ]
     },
     "execution_count": 18,
     "metadata": {},
     "output_type": "execute_result"
    }
   ],
   "source": [
    "incidents = pd.DataFrame(columns = [\"Neighborhood\", \"Number of Incidents\"])\n",
    "incidents[\"Neighborhood\"] = police_incidents[\"INCIDENTNEIGHBORHOOD\"]\n",
    "incidents[\"Number of Incidents\"] = 0\n",
    "\n",
    "incidents.head(3)"
   ]
  },
  {
   "cell_type": "markdown",
   "metadata": {},
   "source": [
    "Now we can iterate through incidents to calculate the number of incidents in each neighborhood, by creating a new pandas dataset that ignores the repeats of neighborhoods in the incidents datatset, by increasing the number of incidents per neighborhood whenever it appears more than once in the incidents dataset."
   ]
  },
  {
   "cell_type": "code",
   "execution_count": 21,
   "metadata": {},
   "outputs": [
    {
     "data": {
      "text/html": [
       "<div>\n",
       "<style scoped>\n",
       "    .dataframe tbody tr th:only-of-type {\n",
       "        vertical-align: middle;\n",
       "    }\n",
       "\n",
       "    .dataframe tbody tr th {\n",
       "        vertical-align: top;\n",
       "    }\n",
       "\n",
       "    .dataframe thead th {\n",
       "        text-align: right;\n",
       "    }\n",
       "</style>\n",
       "<table border=\"1\" class=\"dataframe\">\n",
       "  <thead>\n",
       "    <tr style=\"text-align: right;\">\n",
       "      <th></th>\n",
       "      <th>Neighborhood</th>\n",
       "      <th>Number of Incidents</th>\n",
       "    </tr>\n",
       "  </thead>\n",
       "  <tbody>\n",
       "    <tr>\n",
       "      <th>0</th>\n",
       "      <td>North Shore</td>\n",
       "      <td>3424</td>\n",
       "    </tr>\n",
       "    <tr>\n",
       "      <th>0</th>\n",
       "      <td>Upper Lawrenceville</td>\n",
       "      <td>1529</td>\n",
       "    </tr>\n",
       "    <tr>\n",
       "      <th>0</th>\n",
       "      <td>Northview Heights</td>\n",
       "      <td>2462</td>\n",
       "    </tr>\n",
       "  </tbody>\n",
       "</table>\n",
       "</div>"
      ],
      "text/plain": [
       "          Neighborhood Number of Incidents\n",
       "0          North Shore                3424\n",
       "0  Upper Lawrenceville                1529\n",
       "0    Northview Heights                2462"
      ]
     },
     "execution_count": 21,
     "metadata": {},
     "output_type": "execute_result"
    }
   ],
   "source": [
    "incidents_agg = pd.DataFrame(columns = [\"Neighborhood\", \"Number of Incidents\"])\n",
    "for Neighborhood in incidents[\"Neighborhood\"]:\n",
    "    # Check if this neighborhood has already been aggregated\n",
    "    if Neighborhood in incidents_agg[\"Neighborhood\"].values:\n",
    "        # If so, increment the number of incidents in that neighborhood\n",
    "        incidents_agg.loc[incidents_agg[\"Neighborhood\"] == Neighborhood, \"Number of Incidents\"] += 1\n",
    "    else:\n",
    "        # If not, add a new row to the aggregated DataFrame\n",
    "        agg_new_row = pd.DataFrame({ 'Neighborhood': [Neighborhood], 'Number of Incidents': [1] })\n",
    "        incidents_agg = pd.concat([incidents_agg, agg_new_row])\n",
    "\n",
    "       \n",
    "\n",
    "     \n",
    "incidents_agg.head(3)\n"
   ]
  },
  {
   "cell_type": "markdown",
   "metadata": {},
   "source": [
    "Now we can sort the neighborhoods by number of incidents, in descending order, to see which neighborhood has the most incidents."
   ]
  },
  {
   "cell_type": "code",
   "execution_count": 39,
   "metadata": {},
   "outputs": [
    {
     "data": {
      "text/html": [
       "<div>\n",
       "<style scoped>\n",
       "    .dataframe tbody tr th:only-of-type {\n",
       "        vertical-align: middle;\n",
       "    }\n",
       "\n",
       "    .dataframe tbody tr th {\n",
       "        vertical-align: top;\n",
       "    }\n",
       "\n",
       "    .dataframe thead th {\n",
       "        text-align: right;\n",
       "    }\n",
       "</style>\n",
       "<table border=\"1\" class=\"dataframe\">\n",
       "  <thead>\n",
       "    <tr style=\"text-align: right;\">\n",
       "      <th></th>\n",
       "      <th>Neighborhood</th>\n",
       "      <th>Number of Incidents</th>\n",
       "    </tr>\n",
       "  </thead>\n",
       "  <tbody>\n",
       "    <tr>\n",
       "      <th>0</th>\n",
       "      <td>South Side Flats</td>\n",
       "      <td>17627</td>\n",
       "    </tr>\n",
       "    <tr>\n",
       "      <th>0</th>\n",
       "      <td>Central Business District</td>\n",
       "      <td>17353</td>\n",
       "    </tr>\n",
       "    <tr>\n",
       "      <th>0</th>\n",
       "      <td>Carrick</td>\n",
       "      <td>10945</td>\n",
       "    </tr>\n",
       "    <tr>\n",
       "      <th>0</th>\n",
       "      <td>Bloomfield</td>\n",
       "      <td>8150</td>\n",
       "    </tr>\n",
       "    <tr>\n",
       "      <th>0</th>\n",
       "      <td>Shadyside</td>\n",
       "      <td>8038</td>\n",
       "    </tr>\n",
       "  </tbody>\n",
       "</table>\n",
       "</div>"
      ],
      "text/plain": [
       "                Neighborhood Number of Incidents\n",
       "0           South Side Flats               17627\n",
       "0  Central Business District               17353\n",
       "0                    Carrick               10945\n",
       "0                 Bloomfield                8150\n",
       "0                  Shadyside                8038"
      ]
     },
     "execution_count": 39,
     "metadata": {},
     "output_type": "execute_result"
    }
   ],
   "source": [
    "incidents_sorted = incidents_agg.sort_values(\"Number of Incidents\", ascending=False)\n",
    "\n",
    "incidents_sorted.head(5)"
   ]
  },
  {
   "cell_type": "markdown",
   "metadata": {},
   "source": [
    "We can see that South Side Flats has the most police incidents occur. Our next step is to sort the dataset by number of incidents in ascending order, to see which neighborhoods have the least number of incidents, and are arguably safer."
   ]
  },
  {
   "cell_type": "code",
   "execution_count": 43,
   "metadata": {},
   "outputs": [
    {
     "data": {
      "text/html": [
       "<div>\n",
       "<style scoped>\n",
       "    .dataframe tbody tr th:only-of-type {\n",
       "        vertical-align: middle;\n",
       "    }\n",
       "\n",
       "    .dataframe tbody tr th {\n",
       "        vertical-align: top;\n",
       "    }\n",
       "\n",
       "    .dataframe thead th {\n",
       "        text-align: right;\n",
       "    }\n",
       "</style>\n",
       "<table border=\"1\" class=\"dataframe\">\n",
       "  <thead>\n",
       "    <tr style=\"text-align: right;\">\n",
       "      <th></th>\n",
       "      <th>Neighborhood</th>\n",
       "      <th>Number of Incidents</th>\n",
       "    </tr>\n",
       "  </thead>\n",
       "  <tbody>\n",
       "    <tr>\n",
       "      <th>0</th>\n",
       "      <td>Mt. Oliver Boro</td>\n",
       "      <td>94</td>\n",
       "    </tr>\n",
       "    <tr>\n",
       "      <th>0</th>\n",
       "      <td>Mt. Oliver Neighborhood</td>\n",
       "      <td>117</td>\n",
       "    </tr>\n",
       "    <tr>\n",
       "      <th>0</th>\n",
       "      <td>Outside County</td>\n",
       "      <td>226</td>\n",
       "    </tr>\n",
       "    <tr>\n",
       "      <th>0</th>\n",
       "      <td>Troy Hill-Herrs Island</td>\n",
       "      <td>252</td>\n",
       "    </tr>\n",
       "    <tr>\n",
       "      <th>0</th>\n",
       "      <td>Ridgemont</td>\n",
       "      <td>282</td>\n",
       "    </tr>\n",
       "  </tbody>\n",
       "</table>\n",
       "</div>"
      ],
      "text/plain": [
       "              Neighborhood Number of Incidents\n",
       "0          Mt. Oliver Boro                  94\n",
       "0  Mt. Oliver Neighborhood                 117\n",
       "0           Outside County                 226\n",
       "0   Troy Hill-Herrs Island                 252\n",
       "0                Ridgemont                 282"
      ]
     },
     "execution_count": 43,
     "metadata": {},
     "output_type": "execute_result"
    }
   ],
   "source": [
    "incidents_sorted_opp = incidents_agg.sort_values(\"Number of Incidents\", ascending=True)\n",
    "\n",
    "incidents_sorted_opp.head(5)"
   ]
  },
  {
   "cell_type": "markdown",
   "metadata": {},
   "source": [
    "We can see that Mt. Oliver Boro had the least number of incidents, at 94 in the last 30 days. Lets plot the ten neighborhoods with the most incidents, and then the ten neighborhoods with the least incidents. "
   ]
  },
  {
   "cell_type": "code",
   "execution_count": 44,
   "metadata": {},
   "outputs": [
    {
     "data": {
      "image/png": "[encoded data removed]",
      "text/plain": [
       "<Figure size 432x288 with 1 Axes>"
      ]
     },
     "metadata": {
      "needs_background": "light"
     },
     "output_type": "display_data"
    },
    {
     "data": {
      "image/png": "[encoded data removed]",
      "text/plain": [
       "<Figure size 432x288 with 1 Axes>"
      ]
     },
     "metadata": {
      "needs_background": "light"
     },
     "output_type": "display_data"
    }
   ],
   "source": [
    "plt = incidents_sorted.iloc[:10].plot(kind='bar', x=\"Neighborhood\", y=\"Number of Incidents\", title=\"Pittsburgh Neighborhoods with the Most Incidents\")\n",
    "plt = incidents_sorted_opp.iloc[:10].plot(kind='bar', x=\"Neighborhood\", y=\"Number of Incidents\", title=\"Pittsburgh Neighborhoods with the Least Incidents\")"
   ]
  },
  {
   "cell_type": "markdown",
   "metadata": {},
   "source": [
    "We can see that the top two: South Side Flats and Central Business District appear to be upper level outliers, and the next 8 appear to decrease in an almost linear rate. Furthermore the bottom two: Mt. Oliver Boro and Mt. Oliver Neighborhood appear to be lower level outliers, and the next 8 increase by an almost linear rate."
   ]
  },
  {
   "cell_type": "markdown",
   "metadata": {},
   "source": [
    "Moving on, the original Police Incidents dataset included a hierarchy for the incidents, based on the severity of the incident. We can analyze this column to determine which neighborhoods had incidents with high hierarchies and low hierarchies."
   ]
  },
  {
   "cell_type": "code",
   "execution_count": 9,
   "metadata": {},
   "outputs": [
    {
     "data": {
      "text/html": [
       "<div>\n",
       "<style scoped>\n",
       "    .dataframe tbody tr th:only-of-type {\n",
       "        vertical-align: middle;\n",
       "    }\n",
       "\n",
       "    .dataframe tbody tr th {\n",
       "        vertical-align: top;\n",
       "    }\n",
       "\n",
       "    .dataframe thead th {\n",
       "        text-align: right;\n",
       "    }\n",
       "</style>\n",
       "<table border=\"1\" class=\"dataframe\">\n",
       "  <thead>\n",
       "    <tr style=\"text-align: right;\">\n",
       "      <th></th>\n",
       "      <th>Neighborhood</th>\n",
       "      <th>Hierarchy</th>\n",
       "    </tr>\n",
       "  </thead>\n",
       "  <tbody>\n",
       "    <tr>\n",
       "      <th>312608</th>\n",
       "      <td>Squirrel Hill North</td>\n",
       "      <td>99</td>\n",
       "    </tr>\n",
       "    <tr>\n",
       "      <th>209491</th>\n",
       "      <td>Chateau</td>\n",
       "      <td>99</td>\n",
       "    </tr>\n",
       "    <tr>\n",
       "      <th>209480</th>\n",
       "      <td>Squirrel Hill South</td>\n",
       "      <td>99</td>\n",
       "    </tr>\n",
       "    <tr>\n",
       "      <th>209481</th>\n",
       "      <td>Allentown</td>\n",
       "      <td>99</td>\n",
       "    </tr>\n",
       "    <tr>\n",
       "      <th>209482</th>\n",
       "      <td>Chateau</td>\n",
       "      <td>99</td>\n",
       "    </tr>\n",
       "  </tbody>\n",
       "</table>\n",
       "</div>"
      ],
      "text/plain": [
       "               Neighborhood Hierarchy\n",
       "312608  Squirrel Hill North        99\n",
       "209491              Chateau        99\n",
       "209480  Squirrel Hill South        99\n",
       "209481            Allentown        99\n",
       "209482              Chateau        99"
      ]
     },
     "execution_count": 9,
     "metadata": {},
     "output_type": "execute_result"
    }
   ],
   "source": [
    "hierarchy = pd.DataFrame(columns=[\"Neighborhood\",\"Hierarchy\"])\n",
    "hierarchy[\"Hierarchy\"]=police_incidents[\"HIERARCHY\"]\n",
    "hierarchy[\"Neighborhood\"]=police_incidents[\"INCIDENTNEIGHBORHOOD\"]\n",
    "\n",
    "hierarchy_sorted = hierarchy.sort_values(\"Hierarchy\", ascending=False)\n",
    "hierarchy_sorted.head(5)"
   ]
  },
  {
   "cell_type": "markdown",
   "metadata": {},
   "source": [
    "We can see that the highest value in the hierarchy is 99, and now if we sort the dataset in ascending order we can see the lowest hierarchy value"
   ]
  },
  {
   "cell_type": "code",
   "execution_count": 9,
   "metadata": {},
   "outputs": [
    {
     "data": {
      "text/html": [
       "<div>\n",
       "<style scoped>\n",
       "    .dataframe tbody tr th:only-of-type {\n",
       "        vertical-align: middle;\n",
       "    }\n",
       "\n",
       "    .dataframe tbody tr th {\n",
       "        vertical-align: top;\n",
       "    }\n",
       "\n",
       "    .dataframe thead th {\n",
       "        text-align: right;\n",
       "    }\n",
       "</style>\n",
       "<table border=\"1\" class=\"dataframe\">\n",
       "  <thead>\n",
       "    <tr style=\"text-align: right;\">\n",
       "      <th></th>\n",
       "      <th>Neighborhood</th>\n",
       "      <th>Hierarchy</th>\n",
       "    </tr>\n",
       "  </thead>\n",
       "  <tbody>\n",
       "    <tr>\n",
       "      <th>147646</th>\n",
       "      <td>Strip District</td>\n",
       "      <td>0</td>\n",
       "    </tr>\n",
       "    <tr>\n",
       "      <th>201549</th>\n",
       "      <td>Lincoln-Lemington-Belmar</td>\n",
       "      <td>0</td>\n",
       "    </tr>\n",
       "    <tr>\n",
       "      <th>83745</th>\n",
       "      <td>Brighton Heights</td>\n",
       "      <td>0</td>\n",
       "    </tr>\n",
       "    <tr>\n",
       "      <th>303257</th>\n",
       "      <td>Allegheny Center</td>\n",
       "      <td>0</td>\n",
       "    </tr>\n",
       "    <tr>\n",
       "      <th>300531</th>\n",
       "      <td>Windgap</td>\n",
       "      <td>0</td>\n",
       "    </tr>\n",
       "  </tbody>\n",
       "</table>\n",
       "</div>"
      ],
      "text/plain": [
       "                    Neighborhood Hierarchy\n",
       "147646            Strip District         0\n",
       "201549  Lincoln-Lemington-Belmar         0\n",
       "83745           Brighton Heights         0\n",
       "303257          Allegheny Center         0\n",
       "300531                   Windgap         0"
      ]
     },
     "execution_count": 9,
     "metadata": {},
     "output_type": "execute_result"
    }
   ],
   "source": [
    "hierarchy_sorted_opp = hierarchy.sort_values(\"Hierarchy\", ascending=True)\n",
    "hierarchy_sorted_opp.head(5)"
   ]
  },
  {
   "cell_type": "markdown",
   "metadata": {},
   "source": [
    "Now lets see which neighborhoods have incidents classified as 99 and which ones have incidents classified as 0."
   ]
  },
  {
   "cell_type": "code",
   "execution_count": 22,
   "metadata": {},
   "outputs": [],
   "source": [
    "ranked_incidents=gpd.read_file('Police_Incidents.csv')\n",
    "#only include incidents with a hierarchy of 99 in the dataset\n",
    "ranked_incidents=ranked_incidents[ranked_incidents[\"HIERARCHY\"] == \"99\"]"
   ]
  },
  {
   "cell_type": "code",
   "execution_count": 23,
   "metadata": {},
   "outputs": [],
   "source": [
    "\n",
    "severity = pd.DataFrame(columns = [\"Neighborhood\" ,\"Number of Incidents Classified 99\"])\n",
    "severity[\"Neighborhood\"] = incidents_agg[\"Neighborhood\"]\n",
    "severity[\"Number of Incidents Classified 99\"] = 0\n",
    "\n",
    "for i, row in ranked_incidents.iterrows():\n",
    "    neighborhood = row[\"INCIDENTNEIGHBORHOOD\"]\n",
    " # Check to see if the neighborhood is already been acremented\n",
    "        #If so, increment the number of incidents that are classified 99 in that neighborhood\n",
    "    if neighborhood in severity[\"Neighborhood\"].values:\n",
    "            severity.loc[severity[\"Neighborhood\"] == neighborhood, \"Number of Incidents Classified 99\"] += 1\n",
    "    else:\n",
    "        # If not, add a new row to the aggregated DataFrame\n",
    "            agg_new_row = pd.DataFrame({ 'Neighborhood': [neighborhood], 'Number of Incidents Classified 99': [1] })\n",
    "            severity = pd.concat([severity, agg_new_row])\n",
    "\n",
    "        \n",
    "\n"
   ]
  },
  {
   "cell_type": "code",
   "execution_count": 24,
   "metadata": {},
   "outputs": [
    {
     "data": {
      "text/html": [
       "<div>\n",
       "<style scoped>\n",
       "    .dataframe tbody tr th:only-of-type {\n",
       "        vertical-align: middle;\n",
       "    }\n",
       "\n",
       "    .dataframe tbody tr th {\n",
       "        vertical-align: top;\n",
       "    }\n",
       "\n",
       "    .dataframe thead th {\n",
       "        text-align: right;\n",
       "    }\n",
       "</style>\n",
       "<table border=\"1\" class=\"dataframe\">\n",
       "  <thead>\n",
       "    <tr style=\"text-align: right;\">\n",
       "      <th></th>\n",
       "      <th>Neighborhood</th>\n",
       "      <th>Number of Incidents Classified 99</th>\n",
       "    </tr>\n",
       "  </thead>\n",
       "  <tbody>\n",
       "    <tr>\n",
       "      <th>0</th>\n",
       "      <td>Central Business District</td>\n",
       "      <td>6016</td>\n",
       "    </tr>\n",
       "    <tr>\n",
       "      <th>0</th>\n",
       "      <td>South Side Flats</td>\n",
       "      <td>4861</td>\n",
       "    </tr>\n",
       "    <tr>\n",
       "      <th>0</th>\n",
       "      <td>Carrick</td>\n",
       "      <td>3469</td>\n",
       "    </tr>\n",
       "    <tr>\n",
       "      <th>0</th>\n",
       "      <td>Brookline</td>\n",
       "      <td>2797</td>\n",
       "    </tr>\n",
       "    <tr>\n",
       "      <th>0</th>\n",
       "      <td>Mount Washington</td>\n",
       "      <td>2592</td>\n",
       "    </tr>\n",
       "  </tbody>\n",
       "</table>\n",
       "</div>"
      ],
      "text/plain": [
       "                Neighborhood  Number of Incidents Classified 99\n",
       "0  Central Business District                               6016\n",
       "0           South Side Flats                               4861\n",
       "0                    Carrick                               3469\n",
       "0                  Brookline                               2797\n",
       "0           Mount Washington                               2592"
      ]
     },
     "execution_count": 24,
     "metadata": {},
     "output_type": "execute_result"
    }
   ],
   "source": [
    "severity_sorted= severity.sort_values(\"Number of Incidents Classified 99\", ascending=False)\n",
    "severity_sorted.head(5)"
   ]
  },
  {
   "cell_type": "markdown",
   "metadata": {},
   "source": [
    "We can see the district with the most 99 level incidents is Central Business District. Lets plot the top ten nieghborhoods with 99 level incidents to see the distribution."
   ]
  },
  {
   "cell_type": "markdown",
   "metadata": {},
   "source": [
    "plt = severity_sorted.iloc[:10].plot(kind='bar', x=\"Neighborhood\", y=\"Number of Incidents Classified 99\", title=\"Pittsburgh Neighborhoods with the Most Incidents Classified 99\")"
   ]
  },
  {
   "cell_type": "markdown",
   "metadata": {},
   "source": [
    "Finally, lets determine which neighborhoods have the highest number of incidents that are ranked 0 on the nierarchy, by repeating the process above but replacing 99 with 0."
   ]
  },
  {
   "cell_type": "code",
   "execution_count": 26,
   "metadata": {},
   "outputs": [],
   "source": [
    "ranked_incidents=gpd.read_file('Police_Incidents.csv')\n",
    "#only include incidents with a hierarchy of 99 in the dataset\n",
    "ranked_incidents=ranked_incidents[ranked_incidents[\"HIERARCHY\"] == \"0\"]"
   ]
  },
  {
   "cell_type": "code",
   "execution_count": 33,
   "metadata": {},
   "outputs": [],
   "source": [
    "Severity = pd.DataFrame(columns = [\"Neighborhood\" ,\"Number of Incidents Classified 0\"])\n",
    "Severity[\"Neighborhood\"] = incidents_agg[\"Neighborhood\"]\n",
    "Severity[\"Number of Incidents Classified 0\"] = 0\n",
    "\n",
    "for i, row in ranked_incidents.iterrows():\n",
    "    neighborhood = row[\"INCIDENTNEIGHBORHOOD\"]\n",
    " # Check to see if the neighborhood is already been acremented\n",
    "        #If so, increment the number of incidents that are classified 99 in that neighborhood\n",
    "    if neighborhood in Severity[\"Neighborhood\"].values:\n",
    "            Severity.loc[Severity[\"Neighborhood\"] == neighborhood, \"Number of Incidents Classified 0\"] += 1\n",
    "    else:\n",
    "        # If not, add a new row to the aggregated DataFrame\n",
    "            agg_new_row = pd.DataFrame({ 'Neighborhood': [neighborhood], 'Number of Incidents Classified 0': [1] })\n",
    "            Severity = pd.concat([Severity, agg_new_row])\n"
   ]
  },
  {
   "cell_type": "code",
   "execution_count": 34,
   "metadata": {},
   "outputs": [
    {
     "data": {
      "text/html": [
       "<div>\n",
       "<style scoped>\n",
       "    .dataframe tbody tr th:only-of-type {\n",
       "        vertical-align: middle;\n",
       "    }\n",
       "\n",
       "    .dataframe tbody tr th {\n",
       "        vertical-align: top;\n",
       "    }\n",
       "\n",
       "    .dataframe thead th {\n",
       "        text-align: right;\n",
       "    }\n",
       "</style>\n",
       "<table border=\"1\" class=\"dataframe\">\n",
       "  <thead>\n",
       "    <tr style=\"text-align: right;\">\n",
       "      <th></th>\n",
       "      <th>Neighborhood</th>\n",
       "      <th>Number of Incidents Classified 0</th>\n",
       "    </tr>\n",
       "  </thead>\n",
       "  <tbody>\n",
       "    <tr>\n",
       "      <th>0</th>\n",
       "      <td>South Side Slopes</td>\n",
       "      <td>14</td>\n",
       "    </tr>\n",
       "    <tr>\n",
       "      <th>0</th>\n",
       "      <td>South Side Flats</td>\n",
       "      <td>13</td>\n",
       "    </tr>\n",
       "    <tr>\n",
       "      <th>0</th>\n",
       "      <td>Central Business District</td>\n",
       "      <td>12</td>\n",
       "    </tr>\n",
       "    <tr>\n",
       "      <th>0</th>\n",
       "      <td>Carrick</td>\n",
       "      <td>12</td>\n",
       "    </tr>\n",
       "    <tr>\n",
       "      <th>0</th>\n",
       "      <td>Strip District</td>\n",
       "      <td>9</td>\n",
       "    </tr>\n",
       "  </tbody>\n",
       "</table>\n",
       "</div>"
      ],
      "text/plain": [
       "                Neighborhood  Number of Incidents Classified 0\n",
       "0          South Side Slopes                                14\n",
       "0           South Side Flats                                13\n",
       "0  Central Business District                                12\n",
       "0                    Carrick                                12\n",
       "0             Strip District                                 9"
      ]
     },
     "execution_count": 34,
     "metadata": {},
     "output_type": "execute_result"
    }
   ],
   "source": [
    "Severity_sorted= Severity.sort_values(\"Number of Incidents Classified 0\", ascending=False)\n",
    "Severity_sorted.head(5)"
   ]
  },
  {
   "cell_type": "markdown",
   "metadata": {},
   "source": [
    "And let's plot this data:"
   ]
  },
  {
   "cell_type": "code",
   "execution_count": 35,
   "metadata": {},
   "outputs": [
    {
     "data": {
      "image/png": "[encoded data removed]",
      "text/plain": [
       "<Figure size 432x288 with 1 Axes>"
      ]
     },
     "metadata": {
      "needs_background": "light"
     },
     "output_type": "display_data"
    }
   ],
   "source": [
    "plt = Severity_sorted.iloc[:10].plot(kind='bar', x=\"Neighborhood\", y=\"Number of Incidents Classified 0\", title=\"Pittsburgh Neighborhoods with the Most Incidents Classified 0\")"
   ]
  },
  {
   "cell_type": "markdown",
   "metadata": {},
   "source": [
    "By comparing the bar graphs of the number of total incidents per neighborhood with the number of incidents classified as level 99, we can see that South Side Flats has the most number of total incidents, and one of the highest number of incidents ranked 99 in the hierarchy. You would think this means South Side Flats is one of the more dangerous places to live. However, the original dataset also used descriptions of the incident along with the hierarchy and location, and the descriptions show us that an incident that is 99 on the Hierarchy is actually least severe, and the incidents ranked 0 are most severe, which means South Side Slopes, with the highest number of level 0 incidents in Pittsburgh would probably be the most dangerous neighborhood to live. This makes sense, because the highest number of level 99 incidents in one neighborhood was 6016, while the highest number of level 0 incidents in one neighborhood was only 14, because it is a much more serious crime. And overall, the neighborhood with the smallest amount of total incidents was Mt. Oliver Boro, making it most likely the safest neighborhood to live based soley on the Police Incidents Metric."
   ]
  }
 ],
 "metadata": {
  "kernelspec": {
   "display_name": "Python 3",
   "language": "python",
   "name": "python3"
  },
  "language_info": {
   "codemirror_mode": {
    "name": "ipython",
    "version": 3
   },
   "file_extension": ".py",
   "mimetype": "text/x-python",
   "name": "python",
   "nbconvert_exporter": "python",
   "pygments_lexer": "ipython3",
   "version": "3.8.3"
  }
 },
 "nbformat": 4,
 "nbformat_minor": 4
}
